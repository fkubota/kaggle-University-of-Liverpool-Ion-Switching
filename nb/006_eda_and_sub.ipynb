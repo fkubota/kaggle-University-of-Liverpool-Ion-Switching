{
 "cells": [
  {
   "cell_type": "markdown",
   "metadata": {},
   "source": [
    "# Overview\n",
    "- nb005に追加で、ラグ特徴量を追加する "
   ]
  },
  {
   "cell_type": "markdown",
   "metadata": {},
   "source": [
    "# Const"
   ]
  },
  {
   "cell_type": "code",
   "execution_count": 1,
   "metadata": {},
   "outputs": [],
   "source": [
    "NB = '006'\n",
    "isSmallSet = False\n",
    "LENGTH = 7000\n",
    "\n",
    "PATH_TRAIN = './../data/input/train.csv'\n",
    "PATH_TEST = './../data/input/test.csv'\n",
    "PATH_SMPLE_SUB = './../data/input/sample_submission.csv'\n",
    "DIR_OUTPUT = './../data/output/'\n",
    "cp = ['#f8b195', '#f67280', '#c06c84', '#6c5b7b', '#355c7d']\n",
    "sr = 10*10**3  # 10 kHz"
   ]
  },
  {
   "cell_type": "markdown",
   "metadata": {},
   "source": [
    "# Import everything I need :)"
   ]
  },
  {
   "cell_type": "code",
   "execution_count": 2,
   "metadata": {},
   "outputs": [],
   "source": [
    "import warnings\n",
    "warnings.filterwarnings('ignore')\n",
    "import time\n",
    "import multiprocessing\n",
    "import numpy as np\n",
    "import pandas as pd\n",
    "import matplotlib.pyplot as plt\n",
    "import seaborn as sns\n",
    "from fastprogress import progress_bar\n",
    "from lightgbm import LGBMRegressor\n",
    "from sklearn.model_selection import KFold, train_test_split, StratifiedKFold\n",
    "from sklearn.metrics import f1_score, mean_absolute_error\n",
    "from sklearn.ensemble import RandomForestRegressor\n",
    "from sklearn.tree import DecisionTreeRegressor\n",
    "from sklearn.svm import SVR\n",
    "from sklearn.linear_model import Lasso\n",
    "from dtreeviz.trees import dtreeviz"
   ]
  },
  {
   "cell_type": "markdown",
   "metadata": {},
   "source": [
    "# My function"
   ]
  },
  {
   "cell_type": "code",
   "execution_count": 3,
   "metadata": {},
   "outputs": [],
   "source": [
    "def f1_macro(true, pred):\n",
    "    return f1_score(true, pred, average='macro')\n",
    "\n",
    "def get_df_batch(df, batch):\n",
    "    idxs = df['batch'] == batch\n",
    "    assert any(idxs), 'そのようなbatchはありません'\n",
    "    return df[idxs]\n",
    "    \n",
    "def get_signal_mv_mean(df, n=3001):\n",
    "    signal_mv = np.zeros(len(df))\n",
    "    for bt in df['batch'].unique():\n",
    "        idxs = df['batch'] == bt\n",
    "        _signal_mv = df['signal'][idxs].rolling(n, center=True).mean().interpolate('spline', order=5, limit_direction='both').values\n",
    "        signal_mv[idxs] = _signal_mv\n",
    "    return signal_mv\n",
    "\n",
    "def get_signal_mv_std(df, n=3001):\n",
    "    signal_mv = np.zeros(len(df))\n",
    "    for bt in df['batch'].unique():\n",
    "        idxs = df['batch'] == bt\n",
    "        _signal_mv = df['signal'][idxs].rolling(n, center=True).std().interpolate('spline', order=5, limit_direction='both').values\n",
    "        signal_mv[idxs] = _signal_mv\n",
    "    return signal_mv\n",
    "\n",
    "def get_signal_mv_min(df, n=3001):\n",
    "    signal_mv = np.zeros(len(df))\n",
    "    for bt in df['batch'].unique():\n",
    "        idxs = df['batch'] == bt\n",
    "        _signal_mv = df['signal'][idxs].rolling(n, center=True).min().interpolate('spline', order=5, limit_direction='both').values\n",
    "        signal_mv[idxs] = _signal_mv\n",
    "    return signal_mv\n",
    "\n",
    "def get_signal_mv_max(df, n=3001):\n",
    "    signal_mv = np.zeros(len(df))\n",
    "    for bt in df['batch'].unique():\n",
    "        idxs = df['batch'] == bt\n",
    "        _signal_mv = df['signal'][idxs].rolling(n, center=True).max().interpolate('spline', order=5, limit_direction='both').values\n",
    "        signal_mv[idxs] = _signal_mv\n",
    "    return signal_mv\n",
    "\n",
    "class permutation_importance():\n",
    "    def __init__(self, model, metric):\n",
    "        self.is_computed = False\n",
    "        self.n_feat = 0\n",
    "        self.base_score = 0\n",
    "        self.model = model\n",
    "        self.metric = metric\n",
    "        self.df_result = []\n",
    "    \n",
    "    def compute(self, X_valid, y_valid):\n",
    "        self.n_feat = len(X_valid.columns)\n",
    "        if self.metric == 'auc':\n",
    "            y_valid_score = self.model.predict_proba(X_valid)[:, 1]\n",
    "            fpr, tpr, thresholds = roc_curve(y_valid, y_valid_score)\n",
    "            self.base_score = auc(fpr, tpr)\n",
    "        else:\n",
    "            pred = np.round(self.model.predict(X_valid)).astype('int8')\n",
    "            self.base_score = self.metric(y_valid, pred)\n",
    "        self.df_result = pd.DataFrame({'feat': X_valid.columns, \n",
    "                                       'score': np.zeros(self.n_feat),\n",
    "                                       'score_diff': np.zeros(self.n_feat)})\n",
    "        \n",
    "        # predict\n",
    "        for i, col in enumerate(X_valid.columns):\n",
    "            df_perm = X_valid.copy()\n",
    "            np.random.seed(1)\n",
    "            df_perm[col] = np.random.permutation(df_perm[col])\n",
    "            y_valid_pred = self.model.predict(df_perm)\n",
    "            if self.metric == 'auc':\n",
    "                y_valid_score = self.model.predict_proba(df_perm)[:, 1]\n",
    "                fpr, tpr, thresholds = roc_curve(y_valid, y_valid_score)\n",
    "                score = auc(fpr, tpr)\n",
    "            else:\n",
    "                score = self.metric(y_valid, np.round(y_valid_pred).astype('int8'))\n",
    "            self.df_result['score'][self.df_result['feat']==col] = score\n",
    "            self.df_result['score_diff'][self.df_result['feat']==col] = self.base_score - score\n",
    "        self.is_computed = True\n",
    "    \n",
    "    def get_negative_feature(self):\n",
    "        assert self.is_computed!=False, 'compute メソッドが実行されていません'\n",
    "        idx = self.df_result['score_diff'] < 0\n",
    "        return self.df_result.loc[idx, 'feat'].values.tolist()\n",
    "        \n",
    "    def get_positive_feature(self):\n",
    "        assert self.is_computed!=False, 'compute メソッドが実行されていません'\n",
    "        idx = self.df_result['score_diff'] > 0\n",
    "        return self.df_result.loc[idx, 'feat'].values.tolist()\n",
    "    \n",
    "    def show_permutation_importance(self, score_type='loss'):\n",
    "        '''score_type = 'loss' or 'accuracy'  '''\n",
    "        assert self.is_computed!=False, 'compute メソッドが実行されていません'\n",
    "        if score_type=='loss':\n",
    "            ascending = True\n",
    "        elif score_type=='accuracy':\n",
    "            ascending = False\n",
    "        else:\n",
    "            ascending = ''\n",
    "        \n",
    "#         plt.figure(figsize=(15, int(0.25*self.n_feat)))\n",
    "        sns.barplot(x=\"score_diff\", y=\"feat\", data=self.df_result.sort_values(by=\"score_diff\", ascending=ascending))\n",
    "        plt.title('base_score - permutation_score')"
   ]
  },
  {
   "cell_type": "markdown",
   "metadata": {},
   "source": [
    "# Preparation"
   ]
  },
  {
   "cell_type": "markdown",
   "metadata": {},
   "source": [
    "setting"
   ]
  },
  {
   "cell_type": "code",
   "execution_count": 4,
   "metadata": {},
   "outputs": [],
   "source": [
    "sns.set()"
   ]
  },
  {
   "cell_type": "markdown",
   "metadata": {},
   "source": [
    "<br>\n",
    "\n",
    "load dataset"
   ]
  },
  {
   "cell_type": "code",
   "execution_count": 5,
   "metadata": {},
   "outputs": [],
   "source": [
    "df_tr = pd.read_csv(PATH_TRAIN)\n",
    "df_te = pd.read_csv(PATH_TEST)"
   ]
  },
  {
   "cell_type": "markdown",
   "metadata": {},
   "source": [
    "<br>\n",
    "\n",
    "処理のしやすさのために、バッチ番号を振る"
   ]
  },
  {
   "cell_type": "code",
   "execution_count": 6,
   "metadata": {},
   "outputs": [],
   "source": [
    "batch_list = []\n",
    "for n in range(10):\n",
    "    batchs = np.ones(500000)*n\n",
    "    batch_list.append(batchs.astype(int))\n",
    "batch_list = np.hstack(batch_list)\n",
    "df_tr['batch'] = batch_list\n",
    "\n",
    "batch_list = []\n",
    "for n in range(4):\n",
    "    batchs = np.ones(500000)*n\n",
    "    batch_list.append(batchs.astype(int))\n",
    "batch_list = np.hstack(batch_list)\n",
    "df_te['batch'] = batch_list"
   ]
  },
  {
   "cell_type": "markdown",
   "metadata": {},
   "source": [
    "<br>\n",
    "\n",
    "smallset?"
   ]
  },
  {
   "cell_type": "code",
   "execution_count": 7,
   "metadata": {},
   "outputs": [],
   "source": [
    "if isSmallSet:\n",
    "    print('small set mode')\n",
    "    # train\n",
    "    batchs = df_tr['batch'].values\n",
    "    dfs = []\n",
    "    for i_bt, bt in enumerate(df_tr['batch'].unique()):\n",
    "        idxs = batchs == bt\n",
    "        _df = df_tr[idxs][:LENGTH].copy()\n",
    "        dfs.append(_df)\n",
    "    df_tr = pd.concat(dfs).reset_index(drop=True)\n",
    "    \n",
    "    # test\n",
    "    batchs = df_te['batch'].values\n",
    "    dfs = []\n",
    "    for i_bt, bt in enumerate(df_te['batch'].unique()):\n",
    "        idxs = batchs == bt\n",
    "        _df = df_te[idxs][:LENGTH].copy()\n",
    "        dfs.append(_df)\n",
    "    df_te = pd.concat(dfs).reset_index(drop=True)"
   ]
  },
  {
   "cell_type": "markdown",
   "metadata": {},
   "source": [
    "# Feature engineering"
   ]
  },
  {
   "cell_type": "code",
   "execution_count": 8,
   "metadata": {},
   "outputs": [],
   "source": [
    "def get_signal_lag(df, lag=1):\n",
    "    signal_lag = np.zeros(len(df))\n",
    "    for bt in df['batch'].unique():\n",
    "        idxs = df['batch'] == bt\n",
    "#         _signal_lag = df['signal'][idxs].shift(lag).interpolate('spline', order=5, limit_direction='both').values\n",
    "        _signal_lag = df['signal'][idxs].shift(lag).interpolate('linear', limit_direction='both').values\n",
    "        signal_lag[idxs] = _signal_lag\n",
    "    return signal_lag"
   ]
  },
  {
   "cell_type": "code",
   "execution_count": 9,
   "metadata": {},
   "outputs": [
    {
     "name": "stdout",
     "output_type": "stream",
     "text": [
      "moving features (Sun Apr 26 01:06:39 2020)\n",
      "lag features (Sun Apr 26 01:06:46 2020)\n",
      "moving features (Sun Apr 26 01:06:48 2020)\n",
      "lag features (Sun Apr 26 01:06:51 2020)\n",
      "CPU times: user 11.5 s, sys: 409 ms, total: 11.9 s\n",
      "Wall time: 11.9 s\n"
     ]
    }
   ],
   "source": [
    "%%time\n",
    "for _df in [df_tr, df_te]:\n",
    "    # 移動特徴量\n",
    "    print(f'moving features ({time.ctime()})')\n",
    "    window_size = 5001\n",
    "    _df['signal_mv_mean'] = get_signal_mv_mean(_df, n=window_size)\n",
    "    _df['signal_mv_std'] = get_signal_mv_std(_df, n=window_size)\n",
    "    _df['signal_mv_min'] = get_signal_mv_min(_df, n=window_size)\n",
    "    _df['signal_mv_max'] = get_signal_mv_max(_df, n=window_size)\n",
    "    \n",
    "    # ラグ特徴量\n",
    "    print(f'lag features ({time.ctime()})')\n",
    "    _df['signal_lag01'] = get_signal_lag(_df, lag=1)\n",
    "    _df['signal_lag02'] = get_signal_lag(_df, lag=2)\n",
    "    _df['signal_lag03'] = get_signal_lag(_df, lag=3)\n",
    "    _df['signal_lag04'] = get_signal_lag(_df, lag=4)\n",
    "    _df['signal_lag05'] = get_signal_lag(_df, lag=5)"
   ]
  },
  {
   "cell_type": "markdown",
   "metadata": {},
   "source": [
    "# Train"
   ]
  },
  {
   "cell_type": "markdown",
   "metadata": {},
   "source": [
    "<br>\n",
    "\n",
    "train "
   ]
  },
  {
   "cell_type": "code",
   "execution_count": 10,
   "metadata": {},
   "outputs": [
    {
     "data": {
      "text/plain": [
       "Index(['time', 'signal', 'open_channels', 'batch', 'signal_mv_mean',\n",
       "       'signal_mv_std', 'signal_mv_min', 'signal_mv_max', 'signal_lag01',\n",
       "       'signal_lag02', 'signal_lag03', 'signal_lag04', 'signal_lag05'],\n",
       "      dtype='object')"
      ]
     },
     "execution_count": 10,
     "metadata": {},
     "output_type": "execute_result"
    }
   ],
   "source": [
    "df_tr.columns"
   ]
  },
  {
   "cell_type": "code",
   "execution_count": 11,
   "metadata": {},
   "outputs": [],
   "source": [
    "X = df_tr.drop(['time', 'open_channels', 'batch'], axis=1)\n",
    "y = df_tr['open_channels']\n",
    "X_te = df_te.drop(['time', 'batch'], axis=1)"
   ]
  },
  {
   "cell_type": "code",
   "execution_count": 12,
   "metadata": {},
   "outputs": [],
   "source": [
    "def train_lgbm(X, y, X_te, lgbm_params, random_state=5, n_fold=5, verbose=50, early_stopping_rounds=100, show_fig=True):\n",
    "    # using features\n",
    "    print(f'features({len(X.columns)}): \\n{X.columns}') if not verbose==0 else None\n",
    "\n",
    "#     folds = KFold(n_splits=n_fold, shuffle=True, random_state=random_state)\n",
    "    folds = StratifiedKFold(n_splits=n_fold, shuffle=True, random_state=random_state)\n",
    "\n",
    "    scores = []\n",
    "    oof = np.zeros(len(X))\n",
    "    oof_round = np.zeros(len(X))\n",
    "    test_pred = np.zeros(len(X_te))\n",
    "    df_pi = pd.DataFrame(columns=['feat', 'score_diff'])\n",
    "    for fold_n, (train_idx, valid_idx) in enumerate(folds.split(X, y=y)):\n",
    "        if  verbose==0:\n",
    "            pass\n",
    "        else:\n",
    "            print('\\n------------------')\n",
    "            print(f'- Fold {fold_n + 1}/{N_FOLD} started at {time.ctime()}')\n",
    "\n",
    "        # prepare dataset\n",
    "        X_train, X_valid = X.iloc[train_idx], X.iloc[valid_idx]\n",
    "        y_train, y_valid = y[train_idx], y[valid_idx]\n",
    "\n",
    "        # train\n",
    "        model = LGBMRegressor(**lgbm_params, n_estimators=N_ESTIMATORS)\n",
    "        model.fit(X_train, y_train,\n",
    "                  eval_set=[(X_train, y_train), (X_valid, y_valid)],\n",
    "                  verbose=verbose,\n",
    "                  early_stopping_rounds=early_stopping_rounds)\n",
    "\n",
    "        # pred\n",
    "        y_valid_pred = model.predict(X_valid, model.best_iteration_)\n",
    "        y_valid_pred_round = np.round(y_valid_pred).astype('int8')\n",
    "        test_pred = model.predict(X_te, model.best_iteration_)\n",
    "\n",
    "        # permutation importance\n",
    "        pi = permutation_importance(model, f1_macro) # model と metric を渡す\n",
    "        pi.compute(X_valid, y_valid)\n",
    "        pi_result = pi.df_result\n",
    "\n",
    "        # result\n",
    "        oof[valid_idx] = y_valid_pred\n",
    "        oof_round[valid_idx] = y_valid_pred_round\n",
    "        score = f1_score(y_valid, y_valid_pred_round, average='macro')\n",
    "        scores.append(score)\n",
    "        test_pred += test_pred\n",
    "        df_pi = pd.concat([df_pi, pi_result[['feat', 'score_diff']]])\n",
    "        if verbose==0:\n",
    "            pass\n",
    "        else:\n",
    "            print(f'---> f1-score(macro) valid: {f1_score(y_valid, y_valid_pred_round, average=\"macro\"):.4f}')\n",
    "            print('')\n",
    "\n",
    "\n",
    "    print('====== finish ======')\n",
    "    print('score list:', scores)\n",
    "    print('CV mean score(f1_macro): {0:.4f}, std: {1:.4f}'.format(np.mean(scores), np.std(scores)))\n",
    "    print(f'oof score(f1_macro): {f1_score(y, oof_round, average=\"macro\"):.4f}')\n",
    "    print('')\n",
    "\n",
    "\n",
    "    if show_fig==False:\n",
    "        pass\n",
    "    else:\n",
    "        # visualization\n",
    "        plt.figure(figsize=(5, 5))\n",
    "        plt.plot([0, 10], [0, 10], color='gray')\n",
    "        plt.scatter(y, oof, alpha=0.05, color=cp[1])\n",
    "        plt.xlabel('true')\n",
    "        plt.ylabel('pred')\n",
    "        plt.show()\n",
    "        \n",
    "        # permutation importance\n",
    "        plt.figure(figsize=(15, int(0.25*len(X.columns))))\n",
    "        plt.figure()\n",
    "        order = df_pi.groupby([\"feat\"]).mean()['score_diff'].reset_index().sort_values('score_diff', ascending=False)\n",
    "        sns.barplot(x=\"score_diff\", y=\"feat\", data=df_pi, order=order['feat'])\n",
    "        plt.title('base_score - permutation_score')\n",
    "        plt.show()\n",
    "\n",
    "    # submission\n",
    "    test_pred = test_pred/N_FOLD\n",
    "    test_pred_round = np.round(test_pred).astype('int8')\n",
    "      \n",
    "    return test_pred_round, test_pred, oof_round, oof"
   ]
  },
  {
   "cell_type": "code",
   "execution_count": 13,
   "metadata": {},
   "outputs": [],
   "source": [
    "# Configuration\n",
    "N_ESTIMATORS = 200          # 最大学習回数\n",
    "# N_ESTIMATORS = 20          # 最大学習回数\n",
    "VERBOSE = 50               # 300回ごとに評価する\n",
    "EARLY_STOPPING_ROUNDS = 30  # 200回の学習でよくならなければ、学習をとめる\n",
    "N_JOBS = multiprocessing.cpu_count() - 2\n",
    "N_FOLD = 4\n",
    "KFOLD_SEED = 0\n",
    "\n",
    "# lgbm_params\n",
    "lgbm_params = {'objective': 'huber',\n",
    "              \"metric\": 'mae',\n",
    "#               'reg_alpha': 0.1,\n",
    "#               'reg_lambda': 0.1,\n",
    "              \"boosting_type\": \"gbdt\",\n",
    "              'learning_rate': 2,\n",
    "              'n_jobs': N_JOBS,\n",
    "# #               \"subsample_freq\": 1,\n",
    "# #               \"subsample\": 1,\n",
    "#               \"bagging_seed\": 2,\n",
    "# #               \"verbosity\": -1,\n",
    "#     'num_leaves': 51, 'max_depth': 158, 'min_chiled_samples': 15, 'min_chiled_weight': 1, 'learning_rate': 0.07, 'colsample_bytree': 0.8\n",
    "             }"
   ]
  },
  {
   "cell_type": "code",
   "execution_count": 14,
   "metadata": {},
   "outputs": [
    {
     "name": "stdout",
     "output_type": "stream",
     "text": [
      "features(10): \n",
      "Index(['signal', 'signal_mv_mean', 'signal_mv_std', 'signal_mv_min',\n",
      "       'signal_mv_max', 'signal_lag01', 'signal_lag02', 'signal_lag03',\n",
      "       'signal_lag04', 'signal_lag05'],\n",
      "      dtype='object')\n",
      "\n",
      "------------------\n",
      "- Fold 1/4 started at Sun Apr 26 01:06:53 2020\n",
      "Training until validation scores don't improve for 30 rounds\n",
      "[50]\ttraining's l1: 0.333722\tvalid_1's l1: 0.334343\n",
      "[100]\ttraining's l1: 0.3012\tvalid_1's l1: 0.301803\n",
      "[150]\ttraining's l1: 0.282506\tvalid_1's l1: 0.283232\n",
      "[200]\ttraining's l1: 0.268794\tvalid_1's l1: 0.26956\n",
      "Did not meet early stopping. Best iteration is:\n",
      "[199]\ttraining's l1: 0.268682\tvalid_1's l1: 0.269395\n",
      "---> f1-score(macro) valid: 0.5312\n",
      "\n",
      "\n",
      "------------------\n",
      "- Fold 2/4 started at Sun Apr 26 01:08:19 2020\n",
      "Training until validation scores don't improve for 30 rounds\n",
      "[50]\ttraining's l1: 0.326887\tvalid_1's l1: 0.326769\n",
      "[100]\ttraining's l1: 0.290726\tvalid_1's l1: 0.290613\n",
      "[150]\ttraining's l1: 0.277502\tvalid_1's l1: 0.277781\n",
      "[200]\ttraining's l1: 0.265279\tvalid_1's l1: 0.265644\n",
      "Did not meet early stopping. Best iteration is:\n",
      "[200]\ttraining's l1: 0.265279\tvalid_1's l1: 0.265644\n",
      "---> f1-score(macro) valid: 0.5206\n",
      "\n",
      "\n",
      "------------------\n",
      "- Fold 3/4 started at Sun Apr 26 01:09:45 2020\n",
      "Training until validation scores don't improve for 30 rounds\n",
      "[50]\ttraining's l1: 0.320923\tvalid_1's l1: 0.32068\n",
      "[100]\ttraining's l1: 0.292468\tvalid_1's l1: 0.29256\n",
      "[150]\ttraining's l1: 0.274754\tvalid_1's l1: 0.275006\n",
      "[200]\ttraining's l1: 0.26027\tvalid_1's l1: 0.260722\n",
      "Did not meet early stopping. Best iteration is:\n",
      "[199]\ttraining's l1: 0.259751\tvalid_1's l1: 0.260267\n",
      "---> f1-score(macro) valid: 0.5354\n",
      "\n",
      "\n",
      "------------------\n",
      "- Fold 4/4 started at Sun Apr 26 01:11:12 2020\n",
      "Training until validation scores don't improve for 30 rounds\n",
      "[50]\ttraining's l1: 0.331166\tvalid_1's l1: 0.331262\n",
      "[100]\ttraining's l1: 0.299713\tvalid_1's l1: 0.29988\n",
      "[150]\ttraining's l1: 0.280179\tvalid_1's l1: 0.280558\n",
      "[200]\ttraining's l1: 0.265569\tvalid_1's l1: 0.266196\n",
      "Did not meet early stopping. Best iteration is:\n",
      "[200]\ttraining's l1: 0.265569\tvalid_1's l1: 0.266196\n",
      "---> f1-score(macro) valid: 0.5492\n",
      "\n",
      "====== finish ======\n",
      "score list: [0.5311772762753006, 0.5206321157886649, 0.535385616575216, 0.5491962930330849]\n",
      "CV mean score(f1_macro): 0.5341, std: 0.0102\n",
      "oof score(f1_macro): 0.4801\n",
      "\n"
     ]
    },
    {
     "data": {
      "image/png": "[encoded data removed]",
      "text/plain": [
       "<Figure size 360x360 with 1 Axes>"
      ]
     },
     "metadata": {},
     "output_type": "display_data"
    },
    {
     "data": {
      "text/plain": [
       "<Figure size 1080x144 with 0 Axes>"
      ]
     },
     "metadata": {},
     "output_type": "display_data"
    },
    {
     "data": {
      "image/png": "[encoded data removed]",
      "text/plain": [
       "<Figure size 432x288 with 1 Axes>"
      ]
     },
     "metadata": {},
     "output_type": "display_data"
    },
    {
     "name": "stdout",
     "output_type": "stream",
     "text": [
      "CPU times: user 30min 14s, sys: 2.43 s, total: 30min 16s\n",
      "Wall time: 6min 40s\n"
     ]
    }
   ],
   "source": [
    "%%time\n",
    "test_pred_round, test_pred, oof_round, oof = train_lgbm(X, y, X_te, lgbm_params,\n",
    "                                                        n_fold=N_FOLD, \n",
    "                                                        verbose=VERBOSE, \n",
    "                                                        random_state=KFOLD_SEED, \n",
    "                                                        early_stopping_rounds=EARLY_STOPPING_ROUNDS, \n",
    "                                                        show_fig=True\n",
    "                                                       )"
   ]
  },
  {
   "cell_type": "markdown",
   "metadata": {},
   "source": [
    "# save"
   ]
  },
  {
   "cell_type": "code",
   "execution_count": 15,
   "metadata": {},
   "outputs": [
    {
     "name": "stdout",
     "output_type": "stream",
     "text": [
      "save path: ./../data/output/submission_nb006_cv_0.4801.csv\n"
     ]
    }
   ],
   "source": [
    "save_path = f'{DIR_OUTPUT}submission_nb{NB}_cv_{f1_macro(y, oof_round):.4f}.csv'\n",
    "sub = pd.read_csv(PATH_SMPLE_SUB)\n",
    "sub['open_channels'] = test_pred_round\n",
    "print(f'save path: {save_path}')"
   ]
  },
  {
   "cell_type": "code",
   "execution_count": 16,
   "metadata": {},
   "outputs": [],
   "source": [
    "sub.to_csv(save_path, index=False, float_format='%.4f')"
   ]
  },
  {
   "cell_type": "code",
   "execution_count": null,
   "metadata": {},
   "outputs": [],
   "source": []
  },
  {
   "cell_type": "code",
   "execution_count": null,
   "metadata": {},
   "outputs": [],
   "source": [
    "\n",
    "\n",
    "\n",
    "\n",
    "\n",
    "\n",
    "\n",
    "\n",
    "\n",
    "\n",
    "\n",
    "\n",
    "\n",
    "\n",
    "\n",
    "\n",
    "\n",
    "\n",
    "\n",
    "\n",
    "\n",
    "\n",
    "\n",
    "\n",
    "\n",
    "\n"
   ]
  }
 ],
 "metadata": {
  "kernelspec": {
   "display_name": "Python 3",
   "language": "python",
   "name": "python3"
  },
  "language_info": {
   "codemirror_mode": {
    "name": "ipython",
    "version": 3
   },
   "file_extension": ".py",
   "mimetype": "text/x-python",
   "name": "python",
   "nbconvert_exporter": "python",
   "pygments_lexer": "ipython3",
   "version": "3.6.10"
  },
  "toc-autonumbering": true,
  "toc-showmarkdowntxt": false
 },
 "nbformat": 4,
 "nbformat_minor": 4
}
