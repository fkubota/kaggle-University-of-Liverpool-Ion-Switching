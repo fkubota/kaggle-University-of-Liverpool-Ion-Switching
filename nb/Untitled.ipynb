{
 "cells": [
  {
   "cell_type": "code",
   "execution_count": 1,
   "metadata": {},
   "outputs": [],
   "source": [
    "import numpy as np"
   ]
  },
  {
   "cell_type": "code",
   "execution_count": 13,
   "metadata": {},
   "outputs": [
    {
     "name": "stdout",
     "output_type": "stream",
     "text": [
      "log val(1   ):\t 0.0000000000\t 0.000\n",
      "log val(10  ):\t 2.3025850930\t 2.303\n",
      "log val(100 ):\t 4.6051701860\t 4.605\n",
      "log val(1000):\t 6.9077552790\t 6.908\n"
     ]
    }
   ],
   "source": [
    "for i in [1, 10, 100, 1000]:\n",
    "    log = np.log(i)\n",
    "    print(f'log val({i:<4}):\\t {log:.10f}\\t {log:.3f}')"
   ]
  },
  {
   "cell_type": "code",
   "execution_count": null,
   "metadata": {},
   "outputs": [],
   "source": [
    "{s:_>8}"
   ]
  }
 ],
 "metadata": {
  "kernelspec": {
   "display_name": "Python 3",
   "language": "python",
   "name": "python3"
  },
  "language_info": {
   "codemirror_mode": {
    "name": "ipython",
    "version": 3
   },
   "file_extension": ".py",
   "mimetype": "text/x-python",
   "name": "python",
   "nbconvert_exporter": "python",
   "pygments_lexer": "ipython3",
   "version": "3.6.8"
  }
 },
 "nbformat": 4,
 "nbformat_minor": 2
}
