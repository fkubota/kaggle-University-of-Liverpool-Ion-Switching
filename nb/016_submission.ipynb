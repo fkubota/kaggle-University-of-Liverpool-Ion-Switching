{
 "cells": [
  {
   "cell_type": "markdown",
   "metadata": {},
   "source": [
    "# Overview\n",
    "- nb015の編集\n",
    "- nb011 の方法(閾値で0を除く)を使う "
   ]
  },
  {
   "cell_type": "markdown",
   "metadata": {},
   "source": [
    "# Const"
   ]
  },
  {
   "cell_type": "code",
   "execution_count": 24,
   "metadata": {},
   "outputs": [],
   "source": [
    "NB = '016'\n",
    "isSmallSet = False\n",
    "if isSmallSet:\n",
    "    LENGTH = 7000\n",
    "else:\n",
    "    LENGTH = 500_000\n",
    "\n",
    "PATH_TRAIN = './../data/input/train_clean.csv'\n",
    "PATH_TEST = './../data/input/test_clean.csv'\n",
    "PATH_SMPLE_SUB = './../data/input/sample_submission.csv'\n",
    "DIR_OUTPUT = './../data/output/'\n",
    "cp = ['#f8b195', '#f67280', '#c06c84', '#6c5b7b', '#355c7d']\n",
    "sr = 10*10**3  # 10 kHz"
   ]
  },
  {
   "cell_type": "markdown",
   "metadata": {},
   "source": [
    "# Import everything I need :)"
   ]
  },
  {
   "cell_type": "code",
   "execution_count": 2,
   "metadata": {},
   "outputs": [],
   "source": [
    "import warnings\n",
    "warnings.filterwarnings('ignore')\n",
    "import time\n",
    "import gc\n",
    "import itertools\n",
    "import multiprocessing\n",
    "import numpy as np\n",
    "from scipy import signal\n",
    "import pandas as pd\n",
    "import matplotlib.pyplot as plt\n",
    "import seaborn as sns\n",
    "from fastprogress import progress_bar\n",
    "from lightgbm import LGBMRegressor\n",
    "from sklearn.model_selection import KFold, train_test_split, StratifiedKFold\n",
    "from sklearn.metrics import f1_score, mean_absolute_error, confusion_matrix\n",
    "from sklearn.ensemble import RandomForestRegressor\n",
    "from sklearn.tree import DecisionTreeRegressor\n",
    "from sklearn.svm import SVR\n",
    "from sklearn.linear_model import Lasso\n",
    "# from dtreeviz.trees import dtreeviz"
   ]
  },
  {
   "cell_type": "markdown",
   "metadata": {},
   "source": [
    "# My function"
   ]
  },
  {
   "cell_type": "code",
   "execution_count": 3,
   "metadata": {},
   "outputs": [],
   "source": [
    "def f1_macro(true, pred):\n",
    "    return f1_score(true, pred, average='macro')\n",
    "\n",
    "def get_df_batch(df, batch):\n",
    "    idxs = df['batch'] == batch\n",
    "    assert any(idxs), 'そのようなbatchはありません'\n",
    "    return df[idxs]\n",
    "    \n",
    "def get_signal_mv_mean(df, n=3001):\n",
    "    signal_mv = np.zeros(len(df))\n",
    "    for bt in df['batch'].unique():\n",
    "        idxs = df['batch'] == bt\n",
    "        _signal_mv = df['signal'][idxs].rolling(n, center=True).mean().interpolate('spline', order=5, limit_direction='both').values\n",
    "        signal_mv[idxs] = _signal_mv\n",
    "    return signal_mv\n",
    "\n",
    "def get_signal_mv_std(df, n=3001):\n",
    "    signal_mv = np.zeros(len(df))\n",
    "    for bt in df['batch'].unique():\n",
    "        idxs = df['batch'] == bt\n",
    "        _signal_mv = df['signal'][idxs].rolling(n, center=True).std().interpolate('spline', order=5, limit_direction='both').values\n",
    "        signal_mv[idxs] = _signal_mv\n",
    "    return signal_mv\n",
    "\n",
    "def get_signal_mv_min(df, n=3001):\n",
    "    signal_mv = np.zeros(len(df))\n",
    "    for bt in df['batch'].unique():\n",
    "        idxs = df['batch'] == bt\n",
    "        _signal_mv = df['signal'][idxs].rolling(n, center=True).min().interpolate('spline', order=5, limit_direction='both').values\n",
    "        signal_mv[idxs] = _signal_mv\n",
    "    return signal_mv\n",
    "\n",
    "def get_signal_mv_max(df, n=3001):\n",
    "    signal_mv = np.zeros(len(df))\n",
    "    for bt in df['batch'].unique():\n",
    "        idxs = df['batch'] == bt\n",
    "        _signal_mv = df['signal'][idxs].rolling(n, center=True).max().interpolate('spline', order=5, limit_direction='both').values\n",
    "        signal_mv[idxs] = _signal_mv\n",
    "    return signal_mv\n",
    "\n",
    "class permutation_importance():\n",
    "    def __init__(self, model, metric):\n",
    "        self.is_computed = False\n",
    "        self.n_feat = 0\n",
    "        self.base_score = 0\n",
    "        self.model = model\n",
    "        self.metric = metric\n",
    "        self.df_result = []\n",
    "    \n",
    "    def compute(self, X_valid, y_valid):\n",
    "        self.n_feat = len(X_valid.columns)\n",
    "        if self.metric == 'auc':\n",
    "            y_valid_score = self.model.predict_proba(X_valid)[:, 1]\n",
    "            fpr, tpr, thresholds = roc_curve(y_valid, y_valid_score)\n",
    "            self.base_score = auc(fpr, tpr)\n",
    "        else:\n",
    "            pred = np.round(self.model.predict(X_valid)).astype('int8')\n",
    "            self.base_score = self.metric(y_valid, pred)\n",
    "        self.df_result = pd.DataFrame({'feat': X_valid.columns, \n",
    "                                       'score': np.zeros(self.n_feat),\n",
    "                                       'score_diff': np.zeros(self.n_feat)})\n",
    "        \n",
    "        # predict\n",
    "        for i, col in enumerate(X_valid.columns):\n",
    "            df_perm = X_valid.copy()\n",
    "            np.random.seed(1)\n",
    "            df_perm[col] = np.random.permutation(df_perm[col])\n",
    "            y_valid_pred = self.model.predict(df_perm)\n",
    "            if self.metric == 'auc':\n",
    "                y_valid_score = self.model.predict_proba(df_perm)[:, 1]\n",
    "                fpr, tpr, thresholds = roc_curve(y_valid, y_valid_score)\n",
    "                score = auc(fpr, tpr)\n",
    "            else:\n",
    "                score = self.metric(y_valid, np.round(y_valid_pred).astype('int8'))\n",
    "            self.df_result['score'][self.df_result['feat']==col] = score\n",
    "            self.df_result['score_diff'][self.df_result['feat']==col] = self.base_score - score\n",
    "        self.is_computed = True\n",
    "    \n",
    "    def get_negative_feature(self):\n",
    "        assert self.is_computed!=False, 'compute メソッドが実行されていません'\n",
    "        idx = self.df_result['score_diff'] < 0\n",
    "        return self.df_result.loc[idx, 'feat'].values.tolist()\n",
    "        \n",
    "    def get_positive_feature(self):\n",
    "        assert self.is_computed!=False, 'compute メソッドが実行されていません'\n",
    "        idx = self.df_result['score_diff'] > 0\n",
    "        return self.df_result.loc[idx, 'feat'].values.tolist()\n",
    "    \n",
    "    def show_permutation_importance(self, score_type='loss'):\n",
    "        '''score_type = 'loss' or 'accuracy'  '''\n",
    "        assert self.is_computed!=False, 'compute メソッドが実行されていません'\n",
    "        if score_type=='loss':\n",
    "            ascending = True\n",
    "        elif score_type=='accuracy':\n",
    "            ascending = False\n",
    "        else:\n",
    "            ascending = ''\n",
    "        \n",
    "        plt.figure(figsize=(15, int(0.25*self.n_feat)))\n",
    "        sns.barplot(x=\"score_diff\", y=\"feat\", data=self.df_result.sort_values(by=\"score_diff\", ascending=ascending))\n",
    "        plt.title('base_score - permutation_score')\n",
    "\n",
    "def plot_corr(df, abs_=False, threshold=0.95):\n",
    "    if abs_==True:\n",
    "        corr = df.corr().abs()>threshold\n",
    "        vmin = 0\n",
    "    else:\n",
    "        corr = df.corr()\n",
    "        vmin = -1\n",
    "\n",
    "    # Plot\n",
    "    fig, ax = plt.subplots(figsize=(12, 10), dpi=100)\n",
    "    fig.patch.set_facecolor('white')\n",
    "    sns.heatmap(corr,\n",
    "                xticklabels=df.corr().columns,\n",
    "                yticklabels=df.corr().columns,\n",
    "                vmin=vmin,\n",
    "                vmax=1,\n",
    "                center=0, \n",
    "                annot=False)\n",
    "\n",
    "    # Decorations\n",
    "    ax.set_title('Correlation', fontsize=22)\n",
    "\n",
    "def get_low_corr_column(df, threshold):\n",
    "\n",
    "    df_corr = df.corr()\n",
    "    df_corr = abs(df_corr)\n",
    "    columns = df_corr.columns\n",
    "\n",
    "    # 対角線の値を0にする\n",
    "    for i in range(0, len(columns)):\n",
    "        df_corr.iloc[i, i] = 0\n",
    "\n",
    "    while True:\n",
    "        columns = df_corr.columns\n",
    "        max_corr = 0.0\n",
    "        query_column = None\n",
    "        target_column = None\n",
    "\n",
    "        df_max_column_value = df_corr.max()\n",
    "        max_corr = df_max_column_value.max()\n",
    "        query_column = df_max_column_value.idxmax()\n",
    "        target_column = df_corr[query_column].idxmax()\n",
    "\n",
    "        if max_corr < threshold:\n",
    "            # しきい値を超えるものがなかったため終了\n",
    "            break\n",
    "        else:\n",
    "            # しきい値を超えるものがあった場合\n",
    "            delete_column = None\n",
    "            saved_column = None\n",
    "\n",
    "            # その他との相関の絶対値が大きい方を除去\n",
    "            if sum(df_corr[query_column]) <= sum(df_corr[target_column]):\n",
    "                delete_column = target_column\n",
    "                saved_column = query_column\n",
    "            else:\n",
    "                delete_column = query_column\n",
    "                saved_column = target_column\n",
    "\n",
    "            # 除去すべき特徴を相関行列から消す（行、列）\n",
    "            df_corr.drop([delete_column], axis=0, inplace=True)\n",
    "            df_corr.drop([delete_column], axis=1, inplace=True)\n",
    "\n",
    "    return df_corr.columns  # 相関が高い特徴量を除いた名前リスト"
   ]
  },
  {
   "cell_type": "code",
   "execution_count": 4,
   "metadata": {},
   "outputs": [],
   "source": [
    "def train_lgbm(X, y, X_te, lgbm_params, random_state=5, n_fold=5, verbose=50, early_stopping_rounds=100, show_fig=True):\n",
    "    # using features\n",
    "    print(f'features({len(X.columns)}): \\n{X.columns}') if not verbose==0 else None\n",
    "\n",
    "#     folds = KFold(n_splits=n_fold, shuffle=True, random_state=random_state)\n",
    "    folds = StratifiedKFold(n_splits=n_fold, shuffle=True, random_state=random_state)\n",
    "\n",
    "    scores = []\n",
    "    oof = np.zeros(len(X))\n",
    "    oof_round = np.zeros(len(X))\n",
    "    test_pred = np.zeros(len(X_te))\n",
    "    df_pi = pd.DataFrame(columns=['feat', 'score_diff'])\n",
    "    for fold_n, (train_idx, valid_idx) in enumerate(folds.split(X, y=y)):\n",
    "        if  verbose==0:\n",
    "            pass\n",
    "        else:\n",
    "            print('\\n------------------')\n",
    "            print(f'- Fold {fold_n + 1}/{N_FOLD} started at {time.ctime()}')\n",
    "\n",
    "        # prepare dataset\n",
    "        X_train, X_valid = X.iloc[train_idx], X.iloc[valid_idx]\n",
    "        y_train, y_valid = y[train_idx], y[valid_idx]\n",
    "\n",
    "        # train\n",
    "        model = LGBMRegressor(**lgbm_params, n_estimators=N_ESTIMATORS)\n",
    "        model.fit(X_train, y_train,\n",
    "                  eval_set=[(X_train, y_train), (X_valid, y_valid)],\n",
    "                  verbose=verbose,\n",
    "                  early_stopping_rounds=early_stopping_rounds)\n",
    "\n",
    "        # pred\n",
    "        y_valid_pred = model.predict(X_valid, model.best_iteration_)\n",
    "        y_valid_pred_round = np.round(np.clip(y_valid_pred, 0, 10)).astype(int)\n",
    "        _test_pred = model.predict(X_te, model.best_iteration_)\n",
    "\n",
    "        # permutation importance\n",
    "        pi = permutation_importance(model, f1_macro) # model と metric を渡す\n",
    "        pi.compute(X_valid, y_valid)\n",
    "        pi_result = pi.df_result\n",
    "\n",
    "        # result\n",
    "        oof[valid_idx] = y_valid_pred\n",
    "        oof_round[valid_idx] = y_valid_pred_round\n",
    "        score = f1_score(y_valid, y_valid_pred_round, average='macro')\n",
    "        scores.append(score)\n",
    "        test_pred += _test_pred\n",
    "        df_pi = pd.concat([df_pi, pi_result[['feat', 'score_diff']]])\n",
    "        if verbose==0:\n",
    "            pass\n",
    "        else:\n",
    "            print(f'---> f1-score(macro) valid: {f1_score(y_valid, y_valid_pred_round, average=\"macro\"):.4f}')\n",
    "            print('')\n",
    "\n",
    "\n",
    "    print('====== finish ======')\n",
    "    print('score list:', scores)\n",
    "    print('CV mean score(f1_macro): {0:.4f}, std: {1:.4f}'.format(np.mean(scores), np.std(scores)))\n",
    "    print(f'oof score(f1_macro): {f1_score(y, oof_round, average=\"macro\"):.4f}')\n",
    "    print('')\n",
    "\n",
    "\n",
    "    if show_fig==False:\n",
    "        pass\n",
    "    else:\n",
    "        # visualization\n",
    "        plt.figure(figsize=(5, 5))\n",
    "        plt.plot([0, 10], [0, 10], color='gray')\n",
    "        plt.scatter(y, oof, alpha=0.05, color=cp[1])\n",
    "        plt.xlabel('true')\n",
    "        plt.ylabel('pred')\n",
    "        plt.show()\n",
    "          \n",
    "        # confusion_matrix\n",
    "        plot_confusion_matrix(y, oof_round, classes=np.arange(11))\n",
    "        \n",
    "        \n",
    "        # permutation importance\n",
    "        plt.figure(figsize=(15, int(0.25*len(X.columns))))\n",
    "        order = df_pi.groupby([\"feat\"]).mean()['score_diff'].reset_index().sort_values('score_diff', ascending=False)\n",
    "        sns.barplot(x=\"score_diff\", y=\"feat\", data=df_pi, order=order['feat'])\n",
    "        plt.title('base_score - permutation_score')\n",
    "        plt.show()\n",
    "\n",
    "    # submission\n",
    "    test_pred = test_pred/N_FOLD\n",
    "    test_pred_round = np.round(np.clip(test_pred), 0, 10).astype(int)\n",
    "      \n",
    "    return test_pred_round, test_pred, oof_round, oof\n",
    "\n",
    "def plot_confusion_matrix(truth, pred, classes, normalize=False, title=''):\n",
    "    cm = confusion_matrix(truth, pred)\n",
    "    if normalize:\n",
    "        cm = cm.astype('float') / cm.sum(axis=1)[:, np.newaxis]\n",
    "    \n",
    "    plt.figure(figsize=(10, 10))\n",
    "    plt.imshow(cm, interpolation='nearest', cmap=plt.cm.Blues)\n",
    "    plt.title('Confusion matrix', size=15)\n",
    "    plt.colorbar(fraction=0.046, pad=0.04)\n",
    "    tick_marks = np.arange(len(classes))\n",
    "    plt.xticks(tick_marks, classes, rotation=45)\n",
    "    plt.yticks(tick_marks, classes)\n",
    "\n",
    "    fmt = '.2f' if normalize else 'd'\n",
    "    thresh = cm.max() / 2.\n",
    "    for i, j in itertools.product(range(cm.shape[0]), range(cm.shape[1])):\n",
    "        plt.text(j, i, format(cm[i, j], fmt),\n",
    "                 horizontalalignment=\"center\",\n",
    "                 color=\"white\" if cm[i, j] > thresh else \"black\")\n",
    "\n",
    "    plt.ylabel('True label')\n",
    "    plt.xlabel('Predicted label')\n",
    "    plt.grid(False)\n",
    "    plt.tight_layout()"
   ]
  },
  {
   "cell_type": "code",
   "execution_count": 5,
   "metadata": {},
   "outputs": [],
   "source": [
    "def train_test_split_lgbm(X, y, X_te, lgbm_params, random_state=5, test_size=0.3, verbose=50, early_stopping_rounds=100, show_fig=True):\n",
    "    # using features\n",
    "    print(f'features({len(X.columns)}): \\n{X.columns}') if not verbose==0 else None\n",
    "\n",
    "#     folds = KFold(n_splits=n_fold, shuffle=True, random_state=random_state)\n",
    "#     folds = StratifiedKFold(n_splits=n_fold, shuffle=True, random_state=random_state)\n",
    "    \n",
    "    # prepare dataset\n",
    "    X_train, X_valid, y_train, y_valid = train_test_split(X, y, test_size=test_size, random_state=random_state)\n",
    "\n",
    "    # train\n",
    "    model = LGBMRegressor(**lgbm_params, n_estimators=N_ESTIMATORS)\n",
    "    model.fit(X_train, y_train,\n",
    "              eval_set=[(X_train, y_train), (X_valid, y_valid)],\n",
    "              verbose=verbose,\n",
    "              early_stopping_rounds=early_stopping_rounds)\n",
    "\n",
    "    # pred\n",
    "    oof = model.predict(X_valid, model.best_iteration_)\n",
    "    oof_round = np.round(oof).astype('int8')\n",
    "    test_pred = model.predict(X_te, model.best_iteration_)\n",
    "    test_pred_round = np.round(test_pred).astype('int8')\n",
    "\n",
    "    print('====== finish ======')\n",
    "    print(f'oof score(f1_macro): {f1_score(y_valid, oof_round, average=\"macro\"):.4f}')\n",
    "    print('')\n",
    "\n",
    "\n",
    "    if show_fig==False:\n",
    "        pass\n",
    "    else:\n",
    "        # visualization\n",
    "        plt.figure(figsize=(5, 5))\n",
    "        plt.plot([0, 10], [0, 10], color='gray')\n",
    "        plt.scatter(y_valid, oof, alpha=0.05, color=cp[1])\n",
    "        plt.xlabel('true')\n",
    "        plt.ylabel('pred')\n",
    "        plt.show()\n",
    "          \n",
    "        # confusion_matrix\n",
    "        plot_confusion_matrix(y_valid, oof_round, classes=np.arange(11))\n",
    "        \n",
    "        # permutation importance\n",
    "        pi = permutation_importance(model, f1_macro) # model と metric を渡す\n",
    "        pi.compute(X_valid, y_valid)\n",
    "        pi.show_permutation_importance(score_type='accuracy')  # loss or accuracy\n",
    "        plt.show()\n",
    "\n",
    "    return test_pred_round, test_pred, oof_round, oof"
   ]
  },
  {
   "cell_type": "markdown",
   "metadata": {},
   "source": [
    "<br>\n",
    "\n",
    "ref: https://www.kaggle.com/martxelo/fe-and-ensemble-mlp-and-lgbm"
   ]
  },
  {
   "cell_type": "code",
   "execution_count": 6,
   "metadata": {},
   "outputs": [],
   "source": [
    "def calc_gradients(s, n_grads=4):\n",
    "    '''\n",
    "    Calculate gradients for a pandas series. Returns the same number of samples\n",
    "    '''\n",
    "    grads = pd.DataFrame()\n",
    "    \n",
    "    g = s.values\n",
    "    for i in range(n_grads):\n",
    "        g = np.gradient(g)\n",
    "        grads['grad_' + str(i+1)] = g\n",
    "        \n",
    "    return grads\n",
    "\n",
    "\n",
    "def calc_low_pass(s, n_filts=10):\n",
    "    '''\n",
    "    Applies low pass filters to the signal. Left delayed and no delayed\n",
    "    '''\n",
    "#     wns = np.logspace(-2, -0.3, n_filts)\n",
    "    wns = [0.3244]\n",
    "    \n",
    "    low_pass = pd.DataFrame()\n",
    "    x = s.values\n",
    "    for wn in wns:\n",
    "        b, a = signal.butter(1, Wn=wn, btype='low')\n",
    "        zi = signal.lfilter_zi(b, a)\n",
    "        low_pass['lowpass_lf_' + str('%.4f' %wn)] = signal.lfilter(b, a, x, zi=zi*x[0])[0]\n",
    "        low_pass['lowpass_ff_' + str('%.4f' %wn)] = signal.filtfilt(b, a, x)\n",
    "        \n",
    "    return low_pass\n",
    "\n",
    "def calc_high_pass(s, n_filts=10):\n",
    "    '''\n",
    "    Applies high pass filters to the signal. Left delayed and no delayed\n",
    "    '''\n",
    "#     wns = np.logspace(-2, -0.1, n_filts)\n",
    "    wns = [0.0100, 0.0264, 0.0699, 0.3005, 0.4885, 0.7943]\n",
    "    \n",
    "    high_pass = pd.DataFrame()\n",
    "    x = s.values\n",
    "    for wn in wns:\n",
    "        b, a = signal.butter(1, Wn=wn, btype='high')\n",
    "        zi = signal.lfilter_zi(b, a)\n",
    "        high_pass['highpass_lf_' + str('%.4f' %wn)] = signal.lfilter(b, a, x, zi=zi*x[0])[0]\n",
    "        high_pass['highpass_ff_' + str('%.4f' %wn)] = signal.filtfilt(b, a, x)\n",
    "        \n",
    "    return high_pass\n",
    "\n",
    "def calc_roll_stats(s, windows=[10, 50, 100, 500, 1000, 3000]):\n",
    "    '''\n",
    "    Calculates rolling stats like mean, std, min, max...\n",
    "    '''\n",
    "    roll_stats = pd.DataFrame()\n",
    "    for w in windows:\n",
    "#         roll_stats['roll_mean_' + str(w)] = s.rolling(window=w, min_periods=1).mean().interpolate('spline', order=5, limit_direction='both')\n",
    "        roll_stats['roll_std_' + str(w)] = s.rolling(window=w, min_periods=1).std().interpolate('spline', order=5, limit_direction='both')\n",
    "        roll_stats['roll_min_' + str(w)] = s.rolling(window=w, min_periods=1).min().interpolate('spline', order=5, limit_direction='both')\n",
    "        roll_stats['roll_max_' + str(w)] = s.rolling(window=w, min_periods=1).max().interpolate('spline', order=5, limit_direction='both')\n",
    "        roll_stats['roll_range_' + str(w)] = roll_stats['roll_max_' + str(w)] - roll_stats['roll_min_' + str(w)]\n",
    "        roll_stats['roll_q10_' + str(w)] = s.rolling(window=w, min_periods=1).quantile(0.10).interpolate('spline', order=5, limit_direction='both')\n",
    "#         roll_stats['roll_q25_' + str(w)] = s.rolling(window=w, min_periods=1).quantile(0.25).interpolate('spline', order=5, limit_direction='both')\n",
    "        roll_stats['roll_q50_' + str(w)] = s.rolling(window=w, min_periods=1).quantile(0.50).interpolate('spline', order=5, limit_direction='both')\n",
    "#         roll_stats['roll_q75_' + str(w)] = s.rolling(window=w, min_periods=1).quantile(0.75).interpolate('spline', order=5, limit_direction='both')\n",
    "#         roll_stats['roll_q90_' + str(w)] = s.rolling(window=w, min_periods=1).quantile(0.90).interpolate('spline', order=5, limit_direction='both')\n",
    "    \n",
    "    # add zeros when na values (std)\n",
    "#     roll_stats = roll_stats.fillna(value=0)\n",
    "             \n",
    "    return roll_stats\n",
    "\n",
    "# def calc_ewm(s, windows=[10, 50, 100, 500, 1000, 3000]):\n",
    "#     '''\n",
    "#     Calculates exponential weighted functions\n",
    "#     '''\n",
    "#     ewm = pd.DataFrame()\n",
    "#     for w in windows:\n",
    "#         ewm['ewm_mean_' + str(w)] = s.ewm(span=w, min_periods=1).mean()\n",
    "#         ewm['ewm_std_' + str(w)] = s.ewm(span=w, min_periods=1).std()\n",
    "        \n",
    "#     # add zeros when na values (std)\n",
    "#     ewm = ewm.fillna(value=0)\n",
    "        \n",
    "#     return ewm\n",
    "\n",
    "\n",
    "\n",
    "def divide_and_add_features(s, signal_size=500000):\n",
    "    '''\n",
    "    Divide the signal in bags of \"signal_size\".\n",
    "    Normalize the data dividing it by 15.0\n",
    "    '''\n",
    "    # normalize\n",
    "    s = s/15.0\n",
    "    \n",
    "    ls = []\n",
    "    for i in progress_bar(range(int(s.shape[0]/signal_size))):\n",
    "        sig = s[i*signal_size:(i+1)*signal_size].copy().reset_index(drop=True)\n",
    "        sig_featured = add_features(sig)\n",
    "        ls.append(sig_featured)\n",
    "    \n",
    "    return pd.concat(ls, axis=0)"
   ]
  },
  {
   "cell_type": "markdown",
   "metadata": {},
   "source": [
    "# Preparation"
   ]
  },
  {
   "cell_type": "markdown",
   "metadata": {},
   "source": [
    "setting"
   ]
  },
  {
   "cell_type": "code",
   "execution_count": 7,
   "metadata": {},
   "outputs": [],
   "source": [
    "sns.set()"
   ]
  },
  {
   "cell_type": "markdown",
   "metadata": {},
   "source": [
    "<br>\n",
    "\n",
    "load dataset"
   ]
  },
  {
   "cell_type": "code",
   "execution_count": 8,
   "metadata": {},
   "outputs": [],
   "source": [
    "df_tr = pd.read_csv(PATH_TRAIN)\n",
    "df_te = pd.read_csv(PATH_TEST)"
   ]
  },
  {
   "cell_type": "markdown",
   "metadata": {},
   "source": [
    "<br>\n",
    "\n",
    "処理のしやすさのために、バッチ番号を振る"
   ]
  },
  {
   "cell_type": "code",
   "execution_count": 9,
   "metadata": {},
   "outputs": [],
   "source": [
    "batch_list = []\n",
    "for n in range(10):\n",
    "    batchs = np.ones(500000)*n\n",
    "    batch_list.append(batchs.astype(int))\n",
    "batch_list = np.hstack(batch_list)\n",
    "df_tr['batch'] = batch_list\n",
    "\n",
    "batch_list = []\n",
    "for n in range(4):\n",
    "    batchs = np.ones(500000)*n\n",
    "    batch_list.append(batchs.astype(int))\n",
    "batch_list = np.hstack(batch_list)\n",
    "df_te['batch'] = batch_list"
   ]
  },
  {
   "cell_type": "markdown",
   "metadata": {},
   "source": [
    "<br>\n",
    "\n",
    "smallset?"
   ]
  },
  {
   "cell_type": "code",
   "execution_count": 10,
   "metadata": {},
   "outputs": [],
   "source": [
    "if isSmallSet:\n",
    "    print('small set mode')\n",
    "    # train\n",
    "    batchs = df_tr['batch'].values\n",
    "    dfs = []\n",
    "    for i_bt, bt in enumerate(df_tr['batch'].unique()):\n",
    "        idxs = batchs == bt\n",
    "        _df = df_tr[idxs][:LENGTH].copy()\n",
    "        dfs.append(_df)\n",
    "    df_tr = pd.concat(dfs).reset_index(drop=True)\n",
    "    \n",
    "    # test\n",
    "    batchs = df_te['batch'].values\n",
    "    dfs = []\n",
    "    for i_bt, bt in enumerate(df_te['batch'].unique()):\n",
    "        idxs = batchs == bt\n",
    "        _df = df_te[idxs][:LENGTH].copy()\n",
    "        dfs.append(_df)\n",
    "    df_te = pd.concat(dfs).reset_index(drop=True)"
   ]
  },
  {
   "cell_type": "markdown",
   "metadata": {},
   "source": [
    "# Train"
   ]
  },
  {
   "cell_type": "code",
   "execution_count": 11,
   "metadata": {},
   "outputs": [],
   "source": [
    "def add_features(s):\n",
    "    '''\n",
    "    All calculations together\n",
    "    '''\n",
    "    feat_list = [s]\n",
    "    feat_list.append(calc_gradients(s))\n",
    "    feat_list.append(calc_low_pass(s))\n",
    "    feat_list.append(calc_high_pass(s))\n",
    "    feat_list.append(calc_roll_stats(s))\n",
    "#     feat_list.append(calc_ewm(s))\n",
    "    \n",
    "    return pd.concat(feat_list, axis=1)"
   ]
  },
  {
   "cell_type": "code",
   "execution_count": 12,
   "metadata": {},
   "outputs": [
    {
     "data": {
      "text/html": [
       "\n",
       "    <div>\n",
       "        <style>\n",
       "            /* Turns off some styling */\n",
       "            progress {\n",
       "                /* gets rid of default border in Firefox and Opera. */\n",
       "                border: none;\n",
       "                /* Needs to be in here for Safari polyfill so background images work as expected. */\n",
       "                background-size: auto;\n",
       "            }\n",
       "            .progress-bar-interrupted, .progress-bar-interrupted::-webkit-progress-bar {\n",
       "                background: #F44336;\n",
       "            }\n",
       "        </style>\n",
       "      <progress value='10' class='' max='10', style='width:300px; height:20px; vertical-align: middle;'></progress>\n",
       "      100.00% [10/10 00:56<00:00]\n",
       "    </div>\n",
       "    "
      ],
      "text/plain": [
       "<IPython.core.display.HTML object>"
      ]
     },
     "metadata": {},
     "output_type": "display_data"
    },
    {
     "data": {
      "text/html": [
       "\n",
       "    <div>\n",
       "        <style>\n",
       "            /* Turns off some styling */\n",
       "            progress {\n",
       "                /* gets rid of default border in Firefox and Opera. */\n",
       "                border: none;\n",
       "                /* Needs to be in here for Safari polyfill so background images work as expected. */\n",
       "                background-size: auto;\n",
       "            }\n",
       "            .progress-bar-interrupted, .progress-bar-interrupted::-webkit-progress-bar {\n",
       "                background: #F44336;\n",
       "            }\n",
       "        </style>\n",
       "      <progress value='4' class='' max='4', style='width:300px; height:20px; vertical-align: middle;'></progress>\n",
       "      100.00% [4/4 00:22<00:00]\n",
       "    </div>\n",
       "    "
      ],
      "text/plain": [
       "<IPython.core.display.HTML object>"
      ]
     },
     "metadata": {},
     "output_type": "display_data"
    }
   ],
   "source": [
    "X = divide_and_add_features(df_tr['signal'], signal_size=LENGTH)\n",
    "_feats = get_low_corr_column(X, threshold=0.97).to_list()\n",
    "_feats.append('signal')\n",
    "X = X[_feats]\n",
    "\n",
    "X_te = divide_and_add_features(df_te['signal'], signal_size=LENGTH)\n",
    "X_te = X_te[_feats]\n",
    "\n",
    "y = df_tr['open_channels'].values"
   ]
  },
  {
   "cell_type": "markdown",
   "metadata": {},
   "source": [
    "<br>\n",
    "nb011決めた閾値を使って open_channels=0 の一部を抜き出す "
   ]
  },
  {
   "cell_type": "code",
   "execution_count": 13,
   "metadata": {},
   "outputs": [
    {
     "data": {
      "text/plain": [
       "(1122617, 1092938)"
      ]
     },
     "execution_count": 13,
     "metadata": {},
     "output_type": "execute_result"
    }
   ],
   "source": [
    "thre_0 = -2.4084126325478956\n",
    "idxs_thre = df_tr['signal'].values < thre_0\n",
    "idxs_thre_te = df_te['signal'].values < thre_0\n",
    "\n",
    "X = X[~idxs_thre]\n",
    "y = y[~idxs_thre]\n",
    "X_te = X_te[~idxs_thre_te]\n",
    "\n",
    "len(df_tr[idxs_thre]), len(df_te[idxs_thre_te])"
   ]
  },
  {
   "cell_type": "raw",
   "metadata": {},
   "source": [
    "X = df_tr.drop(['time', 'open_channels', 'batch'], axis=1)\n",
    "# y = df_tr['open_channels']\n",
    "y = df_tr['open_channels'].values\n",
    "X_te = df_te.drop(['time', 'batch'], axis=1)"
   ]
  },
  {
   "cell_type": "code",
   "execution_count": 14,
   "metadata": {},
   "outputs": [],
   "source": [
    "# Configuration\n",
    "N_ESTIMATORS = 1000          # 最大学習回数\n",
    "# N_ESTIMATORS = 20          # 最大学習回数\n",
    "VERBOSE = 100               # 300回ごとに評価する\n",
    "EARLY_STOPPING_ROUNDS = 50  # 200回の学習でよくならなければ、学習をとめる\n",
    "# N_JOBS = multiprocessing.cpu_count() - 2\n",
    "N_JOBS = 18\n",
    "N_FOLD = 4\n",
    "KFOLD_SEED = 0\n",
    "\n",
    "# lgbm_params\n",
    "# lgbm_params = {'objective': 'huber',\n",
    "# lgbm_params = {'objective': 'regression',\n",
    "#               \"metric\": 'rmse',\n",
    "# #               'reg_alpha': 0.1,\n",
    "# #               'reg_lambda': 0.1,\n",
    "#               \"boosting_type\": \"gbdt\",\n",
    "#               'learning_rate': 0.1,\n",
    "#               'n_jobs': N_JOBS,\n",
    "# # #               \"subsample_freq\": 1,\n",
    "# # #               \"subsample\": 1,\n",
    "# #               \"bagging_seed\": 2,\n",
    "# # #               \"verbosity\": -1,\n",
    "# #     'num_leaves': 51, 'max_depth': 158, 'min_chiled_samples': 15, 'min_chiled_weight': 1, 'learning_rate': 0.07, 'colsample_bytree': 0.8\n",
    "#              }\n",
    "\n",
    "lgbm_params = {'boosting_type': 'gbdt',\n",
    "          'metric': 'rmse',\n",
    "          'objective': 'regression',\n",
    "          'n_jobs': N_JOBS,\n",
    "          'seed': 236,\n",
    "          'num_leaves': 280,\n",
    "          'learning_rate': 0.026623466966581126,\n",
    "          'max_depth': 73,\n",
    "          'lambda_l1': 2.959759088169741,\n",
    "          'lambda_l2': 1.331172832164913,\n",
    "          'bagging_fraction': 0.9655406551472153,\n",
    "          'bagging_freq': 9,\n",
    "          'colsample_bytree': 0.6867118652742716}"
   ]
  },
  {
   "cell_type": "code",
   "execution_count": 15,
   "metadata": {},
   "outputs": [
    {
     "name": "stdout",
     "output_type": "stream",
     "text": [
      "features(35): \n",
      "Index(['grad_1', 'grad_2', 'grad_3', 'grad_4', 'highpass_lf_0.0100',\n",
      "       'highpass_ff_0.0100', 'highpass_lf_0.0264', 'highpass_lf_0.0699',\n",
      "       'highpass_ff_0.0699', 'highpass_lf_0.3005', 'highpass_ff_0.3005',\n",
      "       'highpass_lf_0.4885', 'highpass_ff_0.4885', 'highpass_lf_0.7943',\n",
      "       'highpass_ff_0.7943', 'roll_std_10', 'roll_min_10', 'roll_q50_10',\n",
      "       'roll_min_50', 'roll_range_50', 'roll_q10_50', 'roll_q50_50',\n",
      "       'roll_std_100', 'roll_min_100', 'roll_max_100', 'roll_q10_100',\n",
      "       'roll_min_500', 'roll_range_500', 'roll_q10_500', 'roll_min_1000',\n",
      "       'roll_std_3000', 'roll_min_3000', 'roll_range_3000', 'roll_q10_3000',\n",
      "       'signal'],\n",
      "      dtype='object')\n",
      "\n",
      "------------------\n",
      "- Fold 1/4 started at Tue Apr 28 06:40:52 2020\n",
      "Training until validation scores don't improve for 50 rounds\n",
      "[100]\ttraining's rmse: 0.249401\tvalid_1's rmse: 0.250298\n",
      "[200]\ttraining's rmse: 0.176321\tvalid_1's rmse: 0.178827\n",
      "[300]\ttraining's rmse: 0.173595\tvalid_1's rmse: 0.177324\n",
      "[400]\ttraining's rmse: 0.171883\tvalid_1's rmse: 0.176889\n",
      "[500]\ttraining's rmse: 0.170501\tvalid_1's rmse: 0.176665\n",
      "[600]\ttraining's rmse: 0.169278\tvalid_1's rmse: 0.176524\n",
      "[700]\ttraining's rmse: 0.168137\tvalid_1's rmse: 0.176398\n",
      "[800]\ttraining's rmse: 0.167017\tvalid_1's rmse: 0.176306\n",
      "[900]\ttraining's rmse: 0.165999\tvalid_1's rmse: 0.176231\n",
      "[1000]\ttraining's rmse: 0.164998\tvalid_1's rmse: 0.176148\n",
      "Did not meet early stopping. Best iteration is:\n",
      "[1000]\ttraining's rmse: 0.164998\tvalid_1's rmse: 0.176148\n",
      "---> f1-score(macro) valid: 0.9366\n",
      "\n",
      "\n",
      "------------------\n",
      "- Fold 2/4 started at Tue Apr 28 06:51:08 2020\n",
      "Training until validation scores don't improve for 50 rounds\n",
      "[100]\ttraining's rmse: 0.249279\tvalid_1's rmse: 0.250308\n",
      "[200]\ttraining's rmse: 0.176205\tvalid_1's rmse: 0.178826\n",
      "[300]\ttraining's rmse: 0.173475\tvalid_1's rmse: 0.177354\n",
      "[400]\ttraining's rmse: 0.171773\tvalid_1's rmse: 0.176926\n",
      "[500]\ttraining's rmse: 0.170397\tvalid_1's rmse: 0.176711\n",
      "[600]\ttraining's rmse: 0.16917\tvalid_1's rmse: 0.17657\n",
      "[700]\ttraining's rmse: 0.168039\tvalid_1's rmse: 0.176455\n",
      "[800]\ttraining's rmse: 0.166942\tvalid_1's rmse: 0.176366\n",
      "[900]\ttraining's rmse: 0.165914\tvalid_1's rmse: 0.176293\n",
      "[1000]\ttraining's rmse: 0.164913\tvalid_1's rmse: 0.176224\n",
      "Did not meet early stopping. Best iteration is:\n",
      "[1000]\ttraining's rmse: 0.164913\tvalid_1's rmse: 0.176224\n",
      "---> f1-score(macro) valid: 0.9365\n",
      "\n",
      "\n",
      "------------------\n",
      "- Fold 3/4 started at Tue Apr 28 07:01:35 2020\n",
      "Training until validation scores don't improve for 50 rounds\n",
      "[100]\ttraining's rmse: 0.249128\tvalid_1's rmse: 0.251138\n",
      "[200]\ttraining's rmse: 0.175991\tvalid_1's rmse: 0.179716\n",
      "[300]\ttraining's rmse: 0.17328\tvalid_1's rmse: 0.178231\n",
      "[400]\ttraining's rmse: 0.171599\tvalid_1's rmse: 0.177779\n",
      "[500]\ttraining's rmse: 0.17021\tvalid_1's rmse: 0.177542\n",
      "[600]\ttraining's rmse: 0.168986\tvalid_1's rmse: 0.177398\n",
      "[700]\ttraining's rmse: 0.167845\tvalid_1's rmse: 0.177285\n",
      "[800]\ttraining's rmse: 0.166764\tvalid_1's rmse: 0.177185\n",
      "[900]\ttraining's rmse: 0.165758\tvalid_1's rmse: 0.177107\n",
      "[1000]\ttraining's rmse: 0.164789\tvalid_1's rmse: 0.177032\n",
      "Did not meet early stopping. Best iteration is:\n",
      "[1000]\ttraining's rmse: 0.164789\tvalid_1's rmse: 0.177032\n",
      "---> f1-score(macro) valid: 0.9356\n",
      "\n",
      "\n",
      "------------------\n",
      "- Fold 4/4 started at Tue Apr 28 07:12:26 2020\n",
      "Training until validation scores don't improve for 50 rounds\n",
      "[100]\ttraining's rmse: 0.249321\tvalid_1's rmse: 0.250297\n",
      "[200]\ttraining's rmse: 0.176263\tvalid_1's rmse: 0.178758\n",
      "[300]\ttraining's rmse: 0.173523\tvalid_1's rmse: 0.177254\n",
      "[400]\ttraining's rmse: 0.171835\tvalid_1's rmse: 0.176834\n",
      "[500]\ttraining's rmse: 0.170451\tvalid_1's rmse: 0.176593\n",
      "[600]\ttraining's rmse: 0.169228\tvalid_1's rmse: 0.176449\n",
      "[700]\ttraining's rmse: 0.168087\tvalid_1's rmse: 0.176349\n",
      "[800]\ttraining's rmse: 0.167003\tvalid_1's rmse: 0.176259\n",
      "[900]\ttraining's rmse: 0.165958\tvalid_1's rmse: 0.176182\n",
      "[1000]\ttraining's rmse: 0.16499\tvalid_1's rmse: 0.176114\n",
      "Did not meet early stopping. Best iteration is:\n",
      "[1000]\ttraining's rmse: 0.16499\tvalid_1's rmse: 0.176114\n",
      "---> f1-score(macro) valid: 0.9364\n",
      "\n",
      "====== finish ======\n",
      "score list: [0.936635725723315, 0.9364749915945331, 0.9356480955048831, 0.9364324944815194]\n",
      "CV mean score(f1_macro): 0.9363, std: 0.0004\n",
      "oof score(f1_macro): 0.9363\n",
      "\n"
     ]
    },
    {
     "data": {
      "image/png": "[encoded data removed]",
      "text/plain": [
       "<Figure size 360x360 with 1 Axes>"
      ]
     },
     "metadata": {},
     "output_type": "display_data"
    },
    {
     "data": {
      "image/png": "[encoded data removed]",
      "text/plain": [
       "<Figure size 720x720 with 2 Axes>"
      ]
     },
     "metadata": {},
     "output_type": "display_data"
    },
    {
     "data": {
      "image/png": "[encoded data removed]",
      "text/plain": [
       "<Figure size 1080x576 with 1 Axes>"
      ]
     },
     "metadata": {},
     "output_type": "display_data"
    },
    {
     "name": "stdout",
     "output_type": "stream",
     "text": [
      "CPU times: user 10h 8min 52s, sys: 7min 30s, total: 10h 16min 22s\n",
      "Wall time: 43min 23s\n"
     ]
    }
   ],
   "source": [
    "%%time\n",
    "test_pred_round, test_pred, oof_round, oof = train_lgbm(X, y, X_te, lgbm_params,\n",
    "                                                        n_fold=N_FOLD, \n",
    "                                                        verbose=VERBOSE, \n",
    "                                                        random_state=KFOLD_SEED, \n",
    "                                                        early_stopping_rounds=EARLY_STOPPING_ROUNDS, \n",
    "                                                        show_fig=True\n",
    "                                                       )"
   ]
  },
  {
   "cell_type": "markdown",
   "metadata": {},
   "source": [
    "<br>\n",
    "\n",
    "閾値以下の部分を0とする"
   ]
  },
  {
   "cell_type": "code",
   "execution_count": 16,
   "metadata": {},
   "outputs": [
    {
     "name": "stdout",
     "output_type": "stream",
     "text": [
      "f1_macro 0.9370005987516017\n"
     ]
    },
    {
     "data": {
      "image/png": "[encoded data removed]",
      "text/plain": [
       "<Figure size 360x360 with 1 Axes>"
      ]
     },
     "metadata": {},
     "output_type": "display_data"
    }
   ],
   "source": [
    "oof_round_mod = np.zeros(len(df_tr)).astype('int8')\n",
    "oof_mod = np.zeros(len(df_tr))\n",
    "oof_round_mod[~idxs_thre] = oof_round\n",
    "oof_mod[~idxs_thre] = oof\n",
    "print('f1_macro', f1_macro(df_tr['open_channels'].values, oof_round_mod))\n",
    "\n",
    "test_pred_round_mod = np.zeros(len(df_te)).astype('int8')\n",
    "test_pred_round_mod[~idxs_thre_te] = test_pred_round\n",
    "\n",
    "# visualization\n",
    "plt.figure(figsize=(5, 5))\n",
    "plt.plot([0, 10], [0, 10], color='gray')\n",
    "plt.scatter(df_tr['open_channels'], oof_mod, alpha=0.05, color=cp[1])\n",
    "plt.xlabel('true')\n",
    "plt.ylabel('pred')\n",
    "plt.show()"
   ]
  },
  {
   "cell_type": "markdown",
   "metadata": {},
   "source": [
    "# save"
   ]
  },
  {
   "cell_type": "code",
   "execution_count": 25,
   "metadata": {},
   "outputs": [
    {
     "name": "stdout",
     "output_type": "stream",
     "text": [
      "save path: ./../data/output/submission_nb016_cv_0.9370.csv\n"
     ]
    }
   ],
   "source": [
    "save_path = f'{DIR_OUTPUT}submission_nb{NB}_cv_{f1_macro(df_tr[\"open_channels\"].values, oof_round_mod):.4f}.csv'\n",
    "sub = pd.read_csv(PATH_SMPLE_SUB)\n",
    "sub['open_channels'] = test_pred_round_mod\n",
    "print(f'save path: {save_path}')"
   ]
  },
  {
   "cell_type": "code",
   "execution_count": 26,
   "metadata": {},
   "outputs": [],
   "source": [
    "sub.to_csv(save_path, index=False, float_format='%.4f')"
   ]
  },
  {
   "cell_type": "code",
   "execution_count": null,
   "metadata": {},
   "outputs": [],
   "source": []
  },
  {
   "cell_type": "code",
   "execution_count": null,
   "metadata": {},
   "outputs": [],
   "source": []
  },
  {
   "cell_type": "code",
   "execution_count": null,
   "metadata": {},
   "outputs": [],
   "source": []
  },
  {
   "cell_type": "raw",
   "metadata": {},
   "source": [
    "# save"
   ]
  },
  {
   "cell_type": "raw",
   "metadata": {},
   "source": [
    "len(test_pred_round), len(sub)"
   ]
  },
  {
   "cell_type": "raw",
   "metadata": {},
   "source": [
    "save_path = f'{DIR_OUTPUT}submission_nb{NB}_cv_{f1_macro(y, oof_round):.4f}.csv'\n",
    "sub = pd.read_csv(PATH_SMPLE_SUB)\n",
    "sub['open_channels'] = test_pred_round\n",
    "print(f'save path: {save_path}')"
   ]
  },
  {
   "cell_type": "raw",
   "metadata": {},
   "source": [
    "sub.to_csv(save_path, index=False, float_format='%.4f')"
   ]
  },
  {
   "cell_type": "code",
   "execution_count": null,
   "metadata": {},
   "outputs": [],
   "source": []
  },
  {
   "cell_type": "code",
   "execution_count": null,
   "metadata": {},
   "outputs": [],
   "source": []
  },
  {
   "cell_type": "code",
   "execution_count": null,
   "metadata": {},
   "outputs": [],
   "source": []
  },
  {
   "cell_type": "code",
   "execution_count": null,
   "metadata": {},
   "outputs": [],
   "source": [
    "\n",
    "\n",
    "\n",
    "\n",
    "\n",
    "\n",
    "\n",
    "\n",
    "\n",
    "\n",
    "\n",
    "\n",
    "\n",
    "\n",
    "\n",
    "\n",
    "\n",
    "\n",
    "\n",
    "\n",
    "\n",
    "\n",
    "\n",
    "\n",
    "\n",
    "\n"
   ]
  }
 ],
 "metadata": {
  "kernelspec": {
   "display_name": "Python 3",
   "language": "python",
   "name": "python3"
  },
  "language_info": {
   "codemirror_mode": {
    "name": "ipython",
    "version": 3
   },
   "file_extension": ".py",
   "mimetype": "text/x-python",
   "name": "python",
   "nbconvert_exporter": "python",
   "pygments_lexer": "ipython3",
   "version": "3.6.8"
  },
  "toc-autonumbering": true,
  "toc-showmarkdowntxt": false
 },
 "nbformat": 4,
 "nbformat_minor": 4
}
