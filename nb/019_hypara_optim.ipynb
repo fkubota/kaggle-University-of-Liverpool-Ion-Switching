{
 "cells": [
  {
   "cell_type": "markdown",
   "metadata": {},
   "source": [
    "# Overview\n",
    "- nb14ベース\n",
    "- ハイパラチューニングする"
   ]
  },
  {
   "cell_type": "markdown",
   "metadata": {},
   "source": [
    "# Const"
   ]
  },
  {
   "cell_type": "code",
   "execution_count": 19,
   "metadata": {},
   "outputs": [],
   "source": [
    "NB = '019'\n",
    "isSmallSet = False\n",
    "if isSmallSet:\n",
    "    LENGTH = 7000\n",
    "else:\n",
    "    LENGTH = 500_000\n",
    "\n",
    "PATH_TRAIN = './../data/input/train_clean.csv'\n",
    "PATH_TEST = './../data/input/test_clean.csv'\n",
    "PATH_SMPLE_SUB = './../data/input/sample_submission.csv'\n",
    "DIR_OUTPUT = './../data/output/'\n",
    "cp = ['#f8b195', '#f67280', '#c06c84', '#6c5b7b', '#355c7d']\n",
    "sr = 10*10**3  # 10 kHz"
   ]
  },
  {
   "cell_type": "markdown",
   "metadata": {},
   "source": [
    "# Import everything I need :)"
   ]
  },
  {
   "cell_type": "code",
   "execution_count": 20,
   "metadata": {},
   "outputs": [],
   "source": [
    "import warnings\n",
    "warnings.filterwarnings('ignore')\n",
    "import time\n",
    "import gc\n",
    "import itertools\n",
    "import multiprocessing\n",
    "import numpy as np\n",
    "from scipy import signal\n",
    "import pandas as pd\n",
    "import matplotlib.pyplot as plt\n",
    "import seaborn as sns\n",
    "from fastprogress import progress_bar\n",
    "from lightgbm import LGBMRegressor\n",
    "from sklearn.model_selection import KFold, train_test_split, StratifiedKFold\n",
    "from sklearn.metrics import f1_score, mean_absolute_error, confusion_matrix\n",
    "from sklearn.ensemble import RandomForestRegressor\n",
    "from sklearn.tree import DecisionTreeRegressor\n",
    "from sklearn.svm import SVR\n",
    "from sklearn.linear_model import Lasso\n",
    "import optuna\n",
    "# from dtreeviz.trees import dtreeviz"
   ]
  },
  {
   "cell_type": "markdown",
   "metadata": {},
   "source": [
    "# My function"
   ]
  },
  {
   "cell_type": "code",
   "execution_count": 21,
   "metadata": {},
   "outputs": [],
   "source": [
    "def f1_macro(true, pred):\n",
    "    return f1_score(true, pred, average='macro')\n",
    "\n",
    "def get_df_batch(df, batch):\n",
    "    idxs = df['batch'] == batch\n",
    "    assert any(idxs), 'そのようなbatchはありません'\n",
    "    return df[idxs]\n",
    "    \n",
    "def get_signal_mv_mean(df, n=3001):\n",
    "    signal_mv = np.zeros(len(df))\n",
    "    for bt in df['batch'].unique():\n",
    "        idxs = df['batch'] == bt\n",
    "        _signal_mv = df['signal'][idxs].rolling(n, center=True).mean().interpolate('spline', order=5, limit_direction='both').values\n",
    "        signal_mv[idxs] = _signal_mv\n",
    "    return signal_mv\n",
    "\n",
    "def get_signal_mv_std(df, n=3001):\n",
    "    signal_mv = np.zeros(len(df))\n",
    "    for bt in df['batch'].unique():\n",
    "        idxs = df['batch'] == bt\n",
    "        _signal_mv = df['signal'][idxs].rolling(n, center=True).std().interpolate('spline', order=5, limit_direction='both').values\n",
    "        signal_mv[idxs] = _signal_mv\n",
    "    return signal_mv\n",
    "\n",
    "def get_signal_mv_min(df, n=3001):\n",
    "    signal_mv = np.zeros(len(df))\n",
    "    for bt in df['batch'].unique():\n",
    "        idxs = df['batch'] == bt\n",
    "        _signal_mv = df['signal'][idxs].rolling(n, center=True).min().interpolate('spline', order=5, limit_direction='both').values\n",
    "        signal_mv[idxs] = _signal_mv\n",
    "    return signal_mv\n",
    "\n",
    "def get_signal_mv_max(df, n=3001):\n",
    "    signal_mv = np.zeros(len(df))\n",
    "    for bt in df['batch'].unique():\n",
    "        idxs = df['batch'] == bt\n",
    "        _signal_mv = df['signal'][idxs].rolling(n, center=True).max().interpolate('spline', order=5, limit_direction='both').values\n",
    "        signal_mv[idxs] = _signal_mv\n",
    "    return signal_mv\n",
    "\n",
    "class permutation_importance():\n",
    "    def __init__(self, model, metric):\n",
    "        self.is_computed = False\n",
    "        self.n_feat = 0\n",
    "        self.base_score = 0\n",
    "        self.model = model\n",
    "        self.metric = metric\n",
    "        self.df_result = []\n",
    "    \n",
    "    def compute(self, X_valid, y_valid):\n",
    "        self.n_feat = len(X_valid.columns)\n",
    "        if self.metric == 'auc':\n",
    "            y_valid_score = self.model.predict_proba(X_valid)[:, 1]\n",
    "            fpr, tpr, thresholds = roc_curve(y_valid, y_valid_score)\n",
    "            self.base_score = auc(fpr, tpr)\n",
    "        else:\n",
    "            pred = np.round(self.model.predict(X_valid)).astype('int8')\n",
    "            self.base_score = self.metric(y_valid, pred)\n",
    "        self.df_result = pd.DataFrame({'feat': X_valid.columns, \n",
    "                                       'score': np.zeros(self.n_feat),\n",
    "                                       'score_diff': np.zeros(self.n_feat)})\n",
    "        \n",
    "        # predict\n",
    "        for i, col in enumerate(X_valid.columns):\n",
    "            df_perm = X_valid.copy()\n",
    "            np.random.seed(1)\n",
    "            df_perm[col] = np.random.permutation(df_perm[col])\n",
    "            y_valid_pred = self.model.predict(df_perm)\n",
    "            if self.metric == 'auc':\n",
    "                y_valid_score = self.model.predict_proba(df_perm)[:, 1]\n",
    "                fpr, tpr, thresholds = roc_curve(y_valid, y_valid_score)\n",
    "                score = auc(fpr, tpr)\n",
    "            else:\n",
    "                score = self.metric(y_valid, np.round(y_valid_pred).astype('int8'))\n",
    "            self.df_result['score'][self.df_result['feat']==col] = score\n",
    "            self.df_result['score_diff'][self.df_result['feat']==col] = self.base_score - score\n",
    "        self.is_computed = True\n",
    "    \n",
    "    def get_negative_feature(self):\n",
    "        assert self.is_computed!=False, 'compute メソッドが実行されていません'\n",
    "        idx = self.df_result['score_diff'] < 0\n",
    "        return self.df_result.loc[idx, 'feat'].values.tolist()\n",
    "        \n",
    "    def get_positive_feature(self):\n",
    "        assert self.is_computed!=False, 'compute メソッドが実行されていません'\n",
    "        idx = self.df_result['score_diff'] > 0\n",
    "        return self.df_result.loc[idx, 'feat'].values.tolist()\n",
    "    \n",
    "    def show_permutation_importance(self, score_type='loss'):\n",
    "        '''score_type = 'loss' or 'accuracy'  '''\n",
    "        assert self.is_computed!=False, 'compute メソッドが実行されていません'\n",
    "        if score_type=='loss':\n",
    "            ascending = True\n",
    "        elif score_type=='accuracy':\n",
    "            ascending = False\n",
    "        else:\n",
    "            ascending = ''\n",
    "        \n",
    "        plt.figure(figsize=(15, int(0.25*self.n_feat)))\n",
    "        sns.barplot(x=\"score_diff\", y=\"feat\", data=self.df_result.sort_values(by=\"score_diff\", ascending=ascending))\n",
    "        plt.title('base_score - permutation_score')\n",
    "\n",
    "def plot_corr(df, abs_=False, threshold=0.95):\n",
    "    if abs_==True:\n",
    "        corr = df.corr().abs()>threshold\n",
    "        vmin = 0\n",
    "    else:\n",
    "        corr = df.corr()\n",
    "        vmin = -1\n",
    "\n",
    "    # Plot\n",
    "    fig, ax = plt.subplots(figsize=(12, 10), dpi=100)\n",
    "    fig.patch.set_facecolor('white')\n",
    "    sns.heatmap(corr,\n",
    "                xticklabels=df.corr().columns,\n",
    "                yticklabels=df.corr().columns,\n",
    "                vmin=vmin,\n",
    "                vmax=1,\n",
    "                center=0, \n",
    "                annot=False)\n",
    "\n",
    "    # Decorations\n",
    "    ax.set_title('Correlation', fontsize=22)\n",
    "\n",
    "def get_low_corr_column(df, threshold):\n",
    "\n",
    "    df_corr = df.corr()\n",
    "    df_corr = abs(df_corr)\n",
    "    columns = df_corr.columns\n",
    "\n",
    "    # 対角線の値を0にする\n",
    "    for i in range(0, len(columns)):\n",
    "        df_corr.iloc[i, i] = 0\n",
    "\n",
    "    while True:\n",
    "        columns = df_corr.columns\n",
    "        max_corr = 0.0\n",
    "        query_column = None\n",
    "        target_column = None\n",
    "\n",
    "        df_max_column_value = df_corr.max()\n",
    "        max_corr = df_max_column_value.max()\n",
    "        query_column = df_max_column_value.idxmax()\n",
    "        target_column = df_corr[query_column].idxmax()\n",
    "\n",
    "        if max_corr < threshold:\n",
    "            # しきい値を超えるものがなかったため終了\n",
    "            break\n",
    "        else:\n",
    "            # しきい値を超えるものがあった場合\n",
    "            delete_column = None\n",
    "            saved_column = None\n",
    "\n",
    "            # その他との相関の絶対値が大きい方を除去\n",
    "            if sum(df_corr[query_column]) <= sum(df_corr[target_column]):\n",
    "                delete_column = target_column\n",
    "                saved_column = query_column\n",
    "            else:\n",
    "                delete_column = query_column\n",
    "                saved_column = target_column\n",
    "\n",
    "            # 除去すべき特徴を相関行列から消す（行、列）\n",
    "            df_corr.drop([delete_column], axis=0, inplace=True)\n",
    "            df_corr.drop([delete_column], axis=1, inplace=True)\n",
    "\n",
    "    return df_corr.columns  # 相関が高い特徴量を除いた名前リスト"
   ]
  },
  {
   "cell_type": "code",
   "execution_count": 22,
   "metadata": {},
   "outputs": [],
   "source": [
    "def train_lgbm(X, y, X_te, lgbm_params, random_state=5, n_fold=5, verbose=50, early_stopping_rounds=100, show_fig=True):\n",
    "    # using features\n",
    "    print(f'features({len(X.columns)}): \\n{X.columns}') if not verbose==0 else None\n",
    "\n",
    "#     folds = KFold(n_splits=n_fold, shuffle=True, random_state=random_state)\n",
    "    folds = StratifiedKFold(n_splits=n_fold, shuffle=True, random_state=random_state)\n",
    "\n",
    "    scores = []\n",
    "    oof = np.zeros(len(X))\n",
    "    oof_round = np.zeros(len(X))\n",
    "    test_pred = np.zeros(len(X_te))\n",
    "    df_pi = pd.DataFrame(columns=['feat', 'score_diff'])\n",
    "    for fold_n, (train_idx, valid_idx) in enumerate(folds.split(X, y=y)):\n",
    "        if  verbose==0:\n",
    "            pass\n",
    "        else:\n",
    "            print('\\n------------------')\n",
    "            print(f'- Fold {fold_n + 1}/{N_FOLD} started at {time.ctime()}')\n",
    "\n",
    "        # prepare dataset\n",
    "        X_train, X_valid = X.iloc[train_idx], X.iloc[valid_idx]\n",
    "        y_train, y_valid = y[train_idx], y[valid_idx]\n",
    "\n",
    "        # train\n",
    "        model = LGBMRegressor(**lgbm_params, n_estimators=N_ESTIMATORS)\n",
    "        model.fit(X_train, y_train,\n",
    "                  eval_set=[(X_train, y_train), (X_valid, y_valid)],\n",
    "                  verbose=verbose,\n",
    "                  early_stopping_rounds=early_stopping_rounds)\n",
    "\n",
    "        # pred\n",
    "        y_valid_pred = model.predict(X_valid, model.best_iteration_)\n",
    "        y_valid_pred_round = np.round(y_valid_pred).astype('int8')\n",
    "        _test_pred = model.predict(X_te, model.best_iteration_)\n",
    "\n",
    "        # permutation importance\n",
    "        pi = permutation_importance(model, f1_macro) # model と metric を渡す\n",
    "        pi.compute(X_valid, y_valid)\n",
    "        pi_result = pi.df_result\n",
    "\n",
    "        # result\n",
    "        oof[valid_idx] = y_valid_pred\n",
    "        oof_round[valid_idx] = y_valid_pred_round\n",
    "        score = f1_score(y_valid, y_valid_pred_round, average='macro')\n",
    "        scores.append(score)\n",
    "        test_pred += _test_pred\n",
    "        df_pi = pd.concat([df_pi, pi_result[['feat', 'score_diff']]])\n",
    "        if verbose==0:\n",
    "            pass\n",
    "        else:\n",
    "            print(f'---> f1-score(macro) valid: {f1_score(y_valid, y_valid_pred_round, average=\"macro\"):.4f}')\n",
    "            print('')\n",
    "\n",
    "\n",
    "    print('====== finish ======')\n",
    "    print('score list:', scores)\n",
    "    print('CV mean score(f1_macro): {0:.4f}, std: {1:.4f}'.format(np.mean(scores), np.std(scores)))\n",
    "    print(f'oof score(f1_macro): {f1_score(y, oof_round, average=\"macro\"):.4f}')\n",
    "    print('')\n",
    "\n",
    "\n",
    "    if show_fig==False:\n",
    "        pass\n",
    "    else:\n",
    "        # visualization\n",
    "        plt.figure(figsize=(5, 5))\n",
    "        plt.plot([0, 10], [0, 10], color='gray')\n",
    "        plt.scatter(y, oof, alpha=0.05, color=cp[1])\n",
    "        plt.xlabel('true')\n",
    "        plt.ylabel('pred')\n",
    "        plt.show()\n",
    "          \n",
    "        # confusion_matrix\n",
    "        plot_confusion_matrix(y, oof_round, classes=np.arange(11))\n",
    "        \n",
    "        \n",
    "        # permutation importance\n",
    "        plt.figure(figsize=(15, int(0.25*len(X.columns))))\n",
    "        order = df_pi.groupby([\"feat\"]).mean()['score_diff'].reset_index().sort_values('score_diff', ascending=False)\n",
    "        sns.barplot(x=\"score_diff\", y=\"feat\", data=df_pi, order=order['feat'])\n",
    "        plt.title('base_score - permutation_score')\n",
    "        plt.show()\n",
    "\n",
    "    # submission\n",
    "    test_pred = test_pred/N_FOLD\n",
    "    test_pred_round = np.round(test_pred).astype('int8')\n",
    "      \n",
    "    return test_pred_round, test_pred, oof_round, oof\n",
    "\n",
    "def plot_confusion_matrix(truth, pred, classes, normalize=False, title=''):\n",
    "    cm = confusion_matrix(truth, pred)\n",
    "    if normalize:\n",
    "        cm = cm.astype('float') / cm.sum(axis=1)[:, np.newaxis]\n",
    "    \n",
    "    plt.figure(figsize=(10, 10))\n",
    "    plt.imshow(cm, interpolation='nearest', cmap=plt.cm.Blues)\n",
    "    plt.title('Confusion matrix', size=15)\n",
    "    plt.colorbar(fraction=0.046, pad=0.04)\n",
    "    tick_marks = np.arange(len(classes))\n",
    "    plt.xticks(tick_marks, classes, rotation=45)\n",
    "    plt.yticks(tick_marks, classes)\n",
    "\n",
    "    fmt = '.2f' if normalize else 'd'\n",
    "    thresh = cm.max() / 2.\n",
    "    for i, j in itertools.product(range(cm.shape[0]), range(cm.shape[1])):\n",
    "        plt.text(j, i, format(cm[i, j], fmt),\n",
    "                 horizontalalignment=\"center\",\n",
    "                 color=\"white\" if cm[i, j] > thresh else \"black\")\n",
    "\n",
    "    plt.ylabel('True label')\n",
    "    plt.xlabel('Predicted label')\n",
    "    plt.grid(False)\n",
    "    plt.tight_layout()"
   ]
  },
  {
   "cell_type": "code",
   "execution_count": 23,
   "metadata": {},
   "outputs": [],
   "source": [
    "def train_test_split_lgbm(X, y, X_te, lgbm_params, random_state=5, test_size=0.3, verbose=50, early_stopping_rounds=100, show_fig=True):\n",
    "    # using features\n",
    "    print(f'features({len(X.columns)}): \\n{X.columns}') if not verbose==0 else None\n",
    "\n",
    "#     folds = KFold(n_splits=n_fold, shuffle=True, random_state=random_state)\n",
    "#     folds = StratifiedKFold(n_splits=n_fold, shuffle=True, random_state=random_state)\n",
    "    \n",
    "    # prepare dataset\n",
    "    X_train, X_valid, y_train, y_valid = train_test_split(X, y, test_size=test_size, random_state=random_state)\n",
    "\n",
    "    # train\n",
    "    model = LGBMRegressor(**lgbm_params, n_estimators=N_ESTIMATORS)\n",
    "    model.fit(X_train, y_train,\n",
    "              eval_set=[(X_train, y_train), (X_valid, y_valid)],\n",
    "              verbose=verbose,\n",
    "              early_stopping_rounds=early_stopping_rounds)\n",
    "\n",
    "    # pred\n",
    "    oof = model.predict(X_valid, model.best_iteration_)\n",
    "    oof_round = np.round(oof).astype('int8')\n",
    "    test_pred = model.predict(X_te, model.best_iteration_)\n",
    "    test_pred_round = np.round(test_pred).astype('int8')\n",
    "\n",
    "    print('====== finish ======')\n",
    "    print(f'oof score(f1_macro): {f1_score(y_valid, oof_round, average=\"macro\"):.4f}')\n",
    "    print('')\n",
    "\n",
    "\n",
    "    if show_fig==False:\n",
    "        pass\n",
    "    else:\n",
    "        # visualization\n",
    "        plt.figure(figsize=(5, 5))\n",
    "        plt.plot([0, 10], [0, 10], color='gray')\n",
    "        plt.scatter(y_valid, oof, alpha=0.05, color=cp[1])\n",
    "        plt.xlabel('true')\n",
    "        plt.ylabel('pred')\n",
    "        plt.show()\n",
    "          \n",
    "        # confusion_matrix\n",
    "        plot_confusion_matrix(y_valid, oof_round, classes=np.arange(11))\n",
    "        \n",
    "        # permutation importance\n",
    "        pi = permutation_importance(model, f1_macro) # model と metric を渡す\n",
    "        pi.compute(X_valid, y_valid)\n",
    "        pi.show_permutation_importance(score_type='accuracy')  # loss or accuracy\n",
    "        plt.show()\n",
    "\n",
    "    return test_pred_round, test_pred, oof_round, oof"
   ]
  },
  {
   "cell_type": "markdown",
   "metadata": {},
   "source": [
    "<br>\n",
    "\n",
    "ref: https://www.kaggle.com/martxelo/fe-and-ensemble-mlp-and-lgbm"
   ]
  },
  {
   "cell_type": "code",
   "execution_count": 24,
   "metadata": {},
   "outputs": [],
   "source": [
    "def calc_gradients(s, n_grads=4):\n",
    "    '''\n",
    "    Calculate gradients for a pandas series. Returns the same number of samples\n",
    "    '''\n",
    "    grads = pd.DataFrame()\n",
    "    \n",
    "    g = s.values\n",
    "    for i in range(n_grads):\n",
    "        g = np.gradient(g)\n",
    "        grads['grad_' + str(i+1)] = g\n",
    "        \n",
    "    return grads\n",
    "\n",
    "\n",
    "def calc_low_pass(s, n_filts=10):\n",
    "    '''\n",
    "    Applies low pass filters to the signal. Left delayed and no delayed\n",
    "    '''\n",
    "#     wns = np.logspace(-2, -0.3, n_filts)\n",
    "    wns = [0.3244]\n",
    "    \n",
    "    low_pass = pd.DataFrame()\n",
    "    x = s.values\n",
    "    for wn in wns:\n",
    "        b, a = signal.butter(1, Wn=wn, btype='low')\n",
    "        zi = signal.lfilter_zi(b, a)\n",
    "        low_pass['lowpass_lf_' + str('%.4f' %wn)] = signal.lfilter(b, a, x, zi=zi*x[0])[0]\n",
    "        low_pass['lowpass_ff_' + str('%.4f' %wn)] = signal.filtfilt(b, a, x)\n",
    "        \n",
    "    return low_pass\n",
    "\n",
    "def calc_high_pass(s, n_filts=10):\n",
    "    '''\n",
    "    Applies high pass filters to the signal. Left delayed and no delayed\n",
    "    '''\n",
    "#     wns = np.logspace(-2, -0.1, n_filts)\n",
    "    wns = [0.0100, 0.0264, 0.0699, 0.3005, 0.4885, 0.7943]\n",
    "    \n",
    "    high_pass = pd.DataFrame()\n",
    "    x = s.values\n",
    "    for wn in wns:\n",
    "        b, a = signal.butter(1, Wn=wn, btype='high')\n",
    "        zi = signal.lfilter_zi(b, a)\n",
    "        high_pass['highpass_lf_' + str('%.4f' %wn)] = signal.lfilter(b, a, x, zi=zi*x[0])[0]\n",
    "        high_pass['highpass_ff_' + str('%.4f' %wn)] = signal.filtfilt(b, a, x)\n",
    "        \n",
    "    return high_pass\n",
    "\n",
    "def calc_roll_stats(s, windows=[10, 50, 100, 500, 1000, 3000]):\n",
    "    '''\n",
    "    Calculates rolling stats like mean, std, min, max...\n",
    "    '''\n",
    "    roll_stats = pd.DataFrame()\n",
    "    for w in windows:\n",
    "#         roll_stats['roll_mean_' + str(w)] = s.rolling(window=w, min_periods=1).mean().interpolate('spline', order=5, limit_direction='both')\n",
    "        roll_stats['roll_std_' + str(w)] = s.rolling(window=w, min_periods=1).std().interpolate('spline', order=5, limit_direction='both')\n",
    "        roll_stats['roll_min_' + str(w)] = s.rolling(window=w, min_periods=1).min().interpolate('spline', order=5, limit_direction='both')\n",
    "        roll_stats['roll_max_' + str(w)] = s.rolling(window=w, min_periods=1).max().interpolate('spline', order=5, limit_direction='both')\n",
    "        roll_stats['roll_range_' + str(w)] = roll_stats['roll_max_' + str(w)] - roll_stats['roll_min_' + str(w)]\n",
    "        roll_stats['roll_q10_' + str(w)] = s.rolling(window=w, min_periods=1).quantile(0.10).interpolate('spline', order=5, limit_direction='both')\n",
    "#         roll_stats['roll_q25_' + str(w)] = s.rolling(window=w, min_periods=1).quantile(0.25).interpolate('spline', order=5, limit_direction='both')\n",
    "        roll_stats['roll_q50_' + str(w)] = s.rolling(window=w, min_periods=1).quantile(0.50).interpolate('spline', order=5, limit_direction='both')\n",
    "#         roll_stats['roll_q75_' + str(w)] = s.rolling(window=w, min_periods=1).quantile(0.75).interpolate('spline', order=5, limit_direction='both')\n",
    "#         roll_stats['roll_q90_' + str(w)] = s.rolling(window=w, min_periods=1).quantile(0.90).interpolate('spline', order=5, limit_direction='both')\n",
    "    \n",
    "    # add zeros when na values (std)\n",
    "#     roll_stats = roll_stats.fillna(value=0)\n",
    "             \n",
    "    return roll_stats\n",
    "\n",
    "# def calc_ewm(s, windows=[10, 50, 100, 500, 1000, 3000]):\n",
    "#     '''\n",
    "#     Calculates exponential weighted functions\n",
    "#     '''\n",
    "#     ewm = pd.DataFrame()\n",
    "#     for w in windows:\n",
    "#         ewm['ewm_mean_' + str(w)] = s.ewm(span=w, min_periods=1).mean()\n",
    "#         ewm['ewm_std_' + str(w)] = s.ewm(span=w, min_periods=1).std()\n",
    "        \n",
    "#     # add zeros when na values (std)\n",
    "#     ewm = ewm.fillna(value=0)\n",
    "        \n",
    "#     return ewm\n",
    "\n",
    "\n",
    "\n",
    "def divide_and_add_features(s, signal_size=500000):\n",
    "    '''\n",
    "    Divide the signal in bags of \"signal_size\".\n",
    "    Normalize the data dividing it by 15.0\n",
    "    '''\n",
    "    # normalize\n",
    "    s = s/15.0\n",
    "    \n",
    "    ls = []\n",
    "    for i in progress_bar(range(int(s.shape[0]/signal_size))):\n",
    "        sig = s[i*signal_size:(i+1)*signal_size].copy().reset_index(drop=True)\n",
    "        sig_featured = add_features(sig)\n",
    "        ls.append(sig_featured)\n",
    "    \n",
    "    return pd.concat(ls, axis=0)"
   ]
  },
  {
   "cell_type": "markdown",
   "metadata": {},
   "source": [
    "# Preparation"
   ]
  },
  {
   "cell_type": "markdown",
   "metadata": {},
   "source": [
    "setting"
   ]
  },
  {
   "cell_type": "code",
   "execution_count": 25,
   "metadata": {},
   "outputs": [],
   "source": [
    "sns.set()"
   ]
  },
  {
   "cell_type": "markdown",
   "metadata": {},
   "source": [
    "<br>\n",
    "\n",
    "load dataset"
   ]
  },
  {
   "cell_type": "code",
   "execution_count": 26,
   "metadata": {},
   "outputs": [],
   "source": [
    "df_tr = pd.read_csv(PATH_TRAIN)\n",
    "df_te = pd.read_csv(PATH_TEST)"
   ]
  },
  {
   "cell_type": "markdown",
   "metadata": {},
   "source": [
    "<br>\n",
    "\n",
    "処理のしやすさのために、バッチ番号を振る"
   ]
  },
  {
   "cell_type": "code",
   "execution_count": 27,
   "metadata": {},
   "outputs": [],
   "source": [
    "batch_list = []\n",
    "for n in range(10):\n",
    "    batchs = np.ones(500000)*n\n",
    "    batch_list.append(batchs.astype(int))\n",
    "batch_list = np.hstack(batch_list)\n",
    "df_tr['batch'] = batch_list\n",
    "\n",
    "batch_list = []\n",
    "for n in range(4):\n",
    "    batchs = np.ones(500000)*n\n",
    "    batch_list.append(batchs.astype(int))\n",
    "batch_list = np.hstack(batch_list)\n",
    "df_te['batch'] = batch_list"
   ]
  },
  {
   "cell_type": "markdown",
   "metadata": {},
   "source": [
    "<br>\n",
    "\n",
    "smallset?"
   ]
  },
  {
   "cell_type": "code",
   "execution_count": 28,
   "metadata": {},
   "outputs": [],
   "source": [
    "if isSmallSet:\n",
    "    print('small set mode')\n",
    "    # train\n",
    "    batchs = df_tr['batch'].values\n",
    "    dfs = []\n",
    "    for i_bt, bt in enumerate(df_tr['batch'].unique()):\n",
    "        idxs = batchs == bt\n",
    "        _df = df_tr[idxs][:LENGTH].copy()\n",
    "        dfs.append(_df)\n",
    "    df_tr = pd.concat(dfs).reset_index(drop=True)\n",
    "    \n",
    "    # test\n",
    "    batchs = df_te['batch'].values\n",
    "    dfs = []\n",
    "    for i_bt, bt in enumerate(df_te['batch'].unique()):\n",
    "        idxs = batchs == bt\n",
    "        _df = df_te[idxs][:LENGTH].copy()\n",
    "        dfs.append(_df)\n",
    "    df_te = pd.concat(dfs).reset_index(drop=True)"
   ]
  },
  {
   "cell_type": "markdown",
   "metadata": {},
   "source": [
    "# Train"
   ]
  },
  {
   "cell_type": "code",
   "execution_count": 29,
   "metadata": {},
   "outputs": [],
   "source": [
    "def add_features(s):\n",
    "    '''\n",
    "    All calculations together\n",
    "    '''\n",
    "    feat_list = [s]\n",
    "    feat_list.append(calc_gradients(s))\n",
    "    feat_list.append(calc_low_pass(s))\n",
    "    feat_list.append(calc_high_pass(s))\n",
    "    feat_list.append(calc_roll_stats(s))\n",
    "#     feat_list.append(calc_ewm(s))\n",
    "    \n",
    "    return pd.concat(feat_list, axis=1)"
   ]
  },
  {
   "cell_type": "code",
   "execution_count": 30,
   "metadata": {},
   "outputs": [
    {
     "data": {
      "text/html": [
       "\n",
       "    <div>\n",
       "        <style>\n",
       "            /* Turns off some styling */\n",
       "            progress {\n",
       "                /* gets rid of default border in Firefox and Opera. */\n",
       "                border: none;\n",
       "                /* Needs to be in here for Safari polyfill so background images work as expected. */\n",
       "                background-size: auto;\n",
       "            }\n",
       "            .progress-bar-interrupted, .progress-bar-interrupted::-webkit-progress-bar {\n",
       "                background: #F44336;\n",
       "            }\n",
       "        </style>\n",
       "      <progress value='10' class='' max='10', style='width:300px; height:20px; vertical-align: middle;'></progress>\n",
       "      100.00% [10/10 00:57<00:00]\n",
       "    </div>\n",
       "    "
      ],
      "text/plain": [
       "<IPython.core.display.HTML object>"
      ]
     },
     "metadata": {},
     "output_type": "display_data"
    },
    {
     "data": {
      "text/html": [
       "\n",
       "    <div>\n",
       "        <style>\n",
       "            /* Turns off some styling */\n",
       "            progress {\n",
       "                /* gets rid of default border in Firefox and Opera. */\n",
       "                border: none;\n",
       "                /* Needs to be in here for Safari polyfill so background images work as expected. */\n",
       "                background-size: auto;\n",
       "            }\n",
       "            .progress-bar-interrupted, .progress-bar-interrupted::-webkit-progress-bar {\n",
       "                background: #F44336;\n",
       "            }\n",
       "        </style>\n",
       "      <progress value='4' class='' max='4', style='width:300px; height:20px; vertical-align: middle;'></progress>\n",
       "      100.00% [4/4 00:23<00:00]\n",
       "    </div>\n",
       "    "
      ],
      "text/plain": [
       "<IPython.core.display.HTML object>"
      ]
     },
     "metadata": {},
     "output_type": "display_data"
    }
   ],
   "source": [
    "X = divide_and_add_features(df_tr['signal'], signal_size=LENGTH)\n",
    "_feats = get_low_corr_column(X, threshold=0.97).to_list()\n",
    "_feats.append('signal')\n",
    "X = X[_feats]\n",
    "\n",
    "X_te = divide_and_add_features(df_te['signal'], signal_size=LENGTH)\n",
    "X_te = X_te[_feats]\n",
    "\n",
    "y = df_tr['open_channels'].values"
   ]
  },
  {
   "cell_type": "markdown",
   "metadata": {},
   "source": [
    "# hyper params optimization\n",
    "- oputuna をつかう"
   ]
  },
  {
   "cell_type": "code",
   "execution_count": 43,
   "metadata": {},
   "outputs": [],
   "source": [
    "# 最小化したい関数\n",
    "N_ESTIMATORS = 500          # 最大学習回数\n",
    "# N_ESTIMATORS = 20          # 最大学習回数\n",
    "VERBOSE = 100               # 300回ごとに評価する\n",
    "EARLY_STOPPING_ROUNDS = 50  # 200回の学習でよくならなければ、学習をとめる\n",
    "# N_JOBS = multiprocessing.cpu_count() - 2\n",
    "N_JOBS = 18\n",
    "def objective(trial):\n",
    "    print('')\n",
    "    lgbm_params = {\n",
    "              'max_depth': trial.suggest_int('max_depth', 1, 200),\n",
    "              'min_child_samples': trial.suggest_int('min_chiled_samples', 5, 500),\n",
    "              'min_child_weight': trial.suggest_int('min_chiled_weight', 1, 12),\n",
    "              'learning_rate': trial.suggest_loguniform('learning_rate', 0.01, 0.5),\n",
    "              'colsample_bytree': trial.suggest_discrete_uniform('colsample_bytree', 0.7, 1, 0.1),\n",
    "              'subsample': trial.suggest_discrete_uniform('sugsample', 0.7, 1, 0.1),\n",
    "              'lambda_l1' : trial.suggest_uniform('lambda_l1' , 0.0, 3.0),\n",
    "              'lambda_l2' : trial.suggest_uniform('lambda_l2' , 0.0, 3.0),\n",
    "             }\n",
    "\n",
    "    X_train, X_valid, y_train, y_valid = train_test_split(X, y, test_size=0.33, random_state=42, stratify=y)\n",
    "    \n",
    "    model = LGBMRegressor(**lgbm_params, n_estimators=N_ESTIMATORS)\n",
    "    model.fit(X_train, y_train,\n",
    "              eval_set=[(X_train, y_train), (X_valid, y_valid)],\n",
    "              verbose=0,\n",
    "              early_stopping_rounds=EARLY_STOPPING_ROUNDS\n",
    "             )\n",
    "\n",
    "    \n",
    "    \n",
    "    y_valid_pred = model.predict(X_valid, model.best_iteration_)\n",
    "    y_valid_pred_round = np.round(y_valid_pred).astype('int8')\n",
    "    score = f1_score(y_valid, y_valid_pred_round, average=\"macro\")\n",
    "     \n",
    "    return -score"
   ]
  },
  {
   "cell_type": "code",
   "execution_count": 44,
   "metadata": {},
   "outputs": [
    {
     "name": "stdout",
     "output_type": "stream",
     "text": [
      "\n"
     ]
    },
    {
     "name": "stderr",
     "output_type": "stream",
     "text": [
      "[I 2020-04-29 09:17:13,365] Finished trial#0 resulted in value: -0.935725785040066. Current best value is -0.935725785040066 with parameters: {'max_depth': 32, 'min_chiled_samples': 82, 'min_chiled_weight': 7, 'learning_rate': 0.12156822713235231, 'colsample_bytree': 1.0, 'sugsample': 1.0, 'lambda_l1': 1.0858089332938854, 'lambda_l2': 1.7229416631796926}.\n"
     ]
    },
    {
     "name": "stdout",
     "output_type": "stream",
     "text": [
      "\n"
     ]
    },
    {
     "name": "stderr",
     "output_type": "stream",
     "text": [
      "[I 2020-04-29 09:19:07,336] Finished trial#1 resulted in value: -0.9355642235379474. Current best value is -0.935725785040066 with parameters: {'max_depth': 32, 'min_chiled_samples': 82, 'min_chiled_weight': 7, 'learning_rate': 0.12156822713235231, 'colsample_bytree': 1.0, 'sugsample': 1.0, 'lambda_l1': 1.0858089332938854, 'lambda_l2': 1.7229416631796926}.\n"
     ]
    },
    {
     "name": "stdout",
     "output_type": "stream",
     "text": [
      "\n"
     ]
    },
    {
     "name": "stderr",
     "output_type": "stream",
     "text": [
      "[I 2020-04-29 09:21:20,316] Finished trial#2 resulted in value: -0.9311739308443563. Current best value is -0.935725785040066 with parameters: {'max_depth': 32, 'min_chiled_samples': 82, 'min_chiled_weight': 7, 'learning_rate': 0.12156822713235231, 'colsample_bytree': 1.0, 'sugsample': 1.0, 'lambda_l1': 1.0858089332938854, 'lambda_l2': 1.7229416631796926}.\n"
     ]
    },
    {
     "name": "stdout",
     "output_type": "stream",
     "text": [
      "\n"
     ]
    },
    {
     "name": "stderr",
     "output_type": "stream",
     "text": [
      "[I 2020-04-29 09:23:47,340] Finished trial#3 resulted in value: -0.9317819868252488. Current best value is -0.935725785040066 with parameters: {'max_depth': 32, 'min_chiled_samples': 82, 'min_chiled_weight': 7, 'learning_rate': 0.12156822713235231, 'colsample_bytree': 1.0, 'sugsample': 1.0, 'lambda_l1': 1.0858089332938854, 'lambda_l2': 1.7229416631796926}.\n"
     ]
    },
    {
     "name": "stdout",
     "output_type": "stream",
     "text": [
      "\n"
     ]
    },
    {
     "name": "stderr",
     "output_type": "stream",
     "text": [
      "[I 2020-04-29 09:25:34,793] Finished trial#4 resulted in value: -0.8573739689118676. Current best value is -0.935725785040066 with parameters: {'max_depth': 32, 'min_chiled_samples': 82, 'min_chiled_weight': 7, 'learning_rate': 0.12156822713235231, 'colsample_bytree': 1.0, 'sugsample': 1.0, 'lambda_l1': 1.0858089332938854, 'lambda_l2': 1.7229416631796926}.\n"
     ]
    },
    {
     "name": "stdout",
     "output_type": "stream",
     "text": [
      "\n"
     ]
    },
    {
     "name": "stderr",
     "output_type": "stream",
     "text": [
      "[I 2020-04-29 09:27:34,667] Finished trial#5 resulted in value: -0.9355592732680205. Current best value is -0.935725785040066 with parameters: {'max_depth': 32, 'min_chiled_samples': 82, 'min_chiled_weight': 7, 'learning_rate': 0.12156822713235231, 'colsample_bytree': 1.0, 'sugsample': 1.0, 'lambda_l1': 1.0858089332938854, 'lambda_l2': 1.7229416631796926}.\n"
     ]
    },
    {
     "name": "stdout",
     "output_type": "stream",
     "text": [
      "\n"
     ]
    },
    {
     "name": "stderr",
     "output_type": "stream",
     "text": [
      "[I 2020-04-29 09:29:49,359] Finished trial#6 resulted in value: -0.9356283926753508. Current best value is -0.935725785040066 with parameters: {'max_depth': 32, 'min_chiled_samples': 82, 'min_chiled_weight': 7, 'learning_rate': 0.12156822713235231, 'colsample_bytree': 1.0, 'sugsample': 1.0, 'lambda_l1': 1.0858089332938854, 'lambda_l2': 1.7229416631796926}.\n"
     ]
    },
    {
     "name": "stdout",
     "output_type": "stream",
     "text": [
      "\n"
     ]
    },
    {
     "name": "stderr",
     "output_type": "stream",
     "text": [
      "[I 2020-04-29 09:32:15,700] Finished trial#7 resulted in value: -0.9316623632696991. Current best value is -0.935725785040066 with parameters: {'max_depth': 32, 'min_chiled_samples': 82, 'min_chiled_weight': 7, 'learning_rate': 0.12156822713235231, 'colsample_bytree': 1.0, 'sugsample': 1.0, 'lambda_l1': 1.0858089332938854, 'lambda_l2': 1.7229416631796926}.\n"
     ]
    },
    {
     "name": "stdout",
     "output_type": "stream",
     "text": [
      "\n"
     ]
    },
    {
     "name": "stderr",
     "output_type": "stream",
     "text": [
      "[I 2020-04-29 09:33:35,896] Finished trial#8 resulted in value: -0.9350530481434745. Current best value is -0.935725785040066 with parameters: {'max_depth': 32, 'min_chiled_samples': 82, 'min_chiled_weight': 7, 'learning_rate': 0.12156822713235231, 'colsample_bytree': 1.0, 'sugsample': 1.0, 'lambda_l1': 1.0858089332938854, 'lambda_l2': 1.7229416631796926}.\n"
     ]
    },
    {
     "name": "stdout",
     "output_type": "stream",
     "text": [
      "\n"
     ]
    },
    {
     "name": "stderr",
     "output_type": "stream",
     "text": [
      "[I 2020-04-29 09:35:20,894] Finished trial#9 resulted in value: -0.9345622497406285. Current best value is -0.935725785040066 with parameters: {'max_depth': 32, 'min_chiled_samples': 82, 'min_chiled_weight': 7, 'learning_rate': 0.12156822713235231, 'colsample_bytree': 1.0, 'sugsample': 1.0, 'lambda_l1': 1.0858089332938854, 'lambda_l2': 1.7229416631796926}.\n"
     ]
    },
    {
     "name": "stdout",
     "output_type": "stream",
     "text": [
      "\n"
     ]
    },
    {
     "name": "stderr",
     "output_type": "stream",
     "text": [
      "[I 2020-04-29 09:37:18,280] Finished trial#10 resulted in value: -0.9346792857472918. Current best value is -0.935725785040066 with parameters: {'max_depth': 32, 'min_chiled_samples': 82, 'min_chiled_weight': 7, 'learning_rate': 0.12156822713235231, 'colsample_bytree': 1.0, 'sugsample': 1.0, 'lambda_l1': 1.0858089332938854, 'lambda_l2': 1.7229416631796926}.\n"
     ]
    },
    {
     "name": "stdout",
     "output_type": "stream",
     "text": [
      "\n"
     ]
    },
    {
     "name": "stderr",
     "output_type": "stream",
     "text": [
      "[I 2020-04-29 09:38:12,893] Finished trial#11 resulted in value: -0.9359084541127125. Current best value is -0.9359084541127125 with parameters: {'max_depth': 184, 'min_chiled_samples': 162, 'min_chiled_weight': 1, 'learning_rate': 0.19108285722672386, 'colsample_bytree': 0.7, 'sugsample': 0.7, 'lambda_l1': 2.9008973661432753, 'lambda_l2': 1.2561296493211382}.\n"
     ]
    },
    {
     "name": "stdout",
     "output_type": "stream",
     "text": [
      "\n"
     ]
    },
    {
     "name": "stderr",
     "output_type": "stream",
     "text": [
      "[I 2020-04-29 09:39:52,145] Finished trial#12 resulted in value: -0.9356908444540043. Current best value is -0.9359084541127125 with parameters: {'max_depth': 184, 'min_chiled_samples': 162, 'min_chiled_weight': 1, 'learning_rate': 0.19108285722672386, 'colsample_bytree': 0.7, 'sugsample': 0.7, 'lambda_l1': 2.9008973661432753, 'lambda_l2': 1.2561296493211382}.\n"
     ]
    },
    {
     "name": "stdout",
     "output_type": "stream",
     "text": [
      "\n"
     ]
    },
    {
     "name": "stderr",
     "output_type": "stream",
     "text": [
      "[I 2020-04-29 09:42:05,677] Finished trial#13 resulted in value: -0.9355904527460421. Current best value is -0.9359084541127125 with parameters: {'max_depth': 184, 'min_chiled_samples': 162, 'min_chiled_weight': 1, 'learning_rate': 0.19108285722672386, 'colsample_bytree': 0.7, 'sugsample': 0.7, 'lambda_l1': 2.9008973661432753, 'lambda_l2': 1.2561296493211382}.\n"
     ]
    },
    {
     "name": "stdout",
     "output_type": "stream",
     "text": [
      "\n"
     ]
    },
    {
     "name": "stderr",
     "output_type": "stream",
     "text": [
      "[I 2020-04-29 09:44:45,839] Finished trial#14 resulted in value: -0.933969527044584. Current best value is -0.9359084541127125 with parameters: {'max_depth': 184, 'min_chiled_samples': 162, 'min_chiled_weight': 1, 'learning_rate': 0.19108285722672386, 'colsample_bytree': 0.7, 'sugsample': 0.7, 'lambda_l1': 2.9008973661432753, 'lambda_l2': 1.2561296493211382}.\n"
     ]
    },
    {
     "name": "stdout",
     "output_type": "stream",
     "text": [
      "\n"
     ]
    },
    {
     "name": "stderr",
     "output_type": "stream",
     "text": [
      "[I 2020-04-29 09:46:01,373] Finished trial#15 resulted in value: -0.8570828096185279. Current best value is -0.9359084541127125 with parameters: {'max_depth': 184, 'min_chiled_samples': 162, 'min_chiled_weight': 1, 'learning_rate': 0.19108285722672386, 'colsample_bytree': 0.7, 'sugsample': 0.7, 'lambda_l1': 2.9008973661432753, 'lambda_l2': 1.2561296493211382}.\n"
     ]
    },
    {
     "name": "stdout",
     "output_type": "stream",
     "text": [
      "\n"
     ]
    },
    {
     "name": "stderr",
     "output_type": "stream",
     "text": [
      "[I 2020-04-29 09:48:06,810] Finished trial#16 resulted in value: -0.9358831001679743. Current best value is -0.9359084541127125 with parameters: {'max_depth': 184, 'min_chiled_samples': 162, 'min_chiled_weight': 1, 'learning_rate': 0.19108285722672386, 'colsample_bytree': 0.7, 'sugsample': 0.7, 'lambda_l1': 2.9008973661432753, 'lambda_l2': 1.2561296493211382}.\n"
     ]
    },
    {
     "name": "stdout",
     "output_type": "stream",
     "text": [
      "\n"
     ]
    },
    {
     "name": "stderr",
     "output_type": "stream",
     "text": [
      "[I 2020-04-29 09:50:34,342] Finished trial#17 resulted in value: -0.9358601142264408. Current best value is -0.9359084541127125 with parameters: {'max_depth': 184, 'min_chiled_samples': 162, 'min_chiled_weight': 1, 'learning_rate': 0.19108285722672386, 'colsample_bytree': 0.7, 'sugsample': 0.7, 'lambda_l1': 2.9008973661432753, 'lambda_l2': 1.2561296493211382}.\n"
     ]
    },
    {
     "name": "stdout",
     "output_type": "stream",
     "text": [
      "\n"
     ]
    },
    {
     "name": "stderr",
     "output_type": "stream",
     "text": [
      "[I 2020-04-29 09:52:10,888] Finished trial#18 resulted in value: -0.9357944107888077. Current best value is -0.9359084541127125 with parameters: {'max_depth': 184, 'min_chiled_samples': 162, 'min_chiled_weight': 1, 'learning_rate': 0.19108285722672386, 'colsample_bytree': 0.7, 'sugsample': 0.7, 'lambda_l1': 2.9008973661432753, 'lambda_l2': 1.2561296493211382}.\n"
     ]
    },
    {
     "name": "stdout",
     "output_type": "stream",
     "text": [
      "\n"
     ]
    },
    {
     "name": "stderr",
     "output_type": "stream",
     "text": [
      "[I 2020-04-29 09:54:21,658] Finished trial#19 resulted in value: -0.9357221373815872. Current best value is -0.9359084541127125 with parameters: {'max_depth': 184, 'min_chiled_samples': 162, 'min_chiled_weight': 1, 'learning_rate': 0.19108285722672386, 'colsample_bytree': 0.7, 'sugsample': 0.7, 'lambda_l1': 2.9008973661432753, 'lambda_l2': 1.2561296493211382}.\n"
     ]
    },
    {
     "name": "stdout",
     "output_type": "stream",
     "text": [
      "\n"
     ]
    },
    {
     "name": "stderr",
     "output_type": "stream",
     "text": [
      "[I 2020-04-29 09:56:51,709] Finished trial#20 resulted in value: -0.9353426810763049. Current best value is -0.9359084541127125 with parameters: {'max_depth': 184, 'min_chiled_samples': 162, 'min_chiled_weight': 1, 'learning_rate': 0.19108285722672386, 'colsample_bytree': 0.7, 'sugsample': 0.7, 'lambda_l1': 2.9008973661432753, 'lambda_l2': 1.2561296493211382}.\n"
     ]
    },
    {
     "name": "stdout",
     "output_type": "stream",
     "text": [
      "\n"
     ]
    },
    {
     "name": "stderr",
     "output_type": "stream",
     "text": [
      "[I 2020-04-29 09:59:45,200] Finished trial#21 resulted in value: -0.9358734639518822. Current best value is -0.9359084541127125 with parameters: {'max_depth': 184, 'min_chiled_samples': 162, 'min_chiled_weight': 1, 'learning_rate': 0.19108285722672386, 'colsample_bytree': 0.7, 'sugsample': 0.7, 'lambda_l1': 2.9008973661432753, 'lambda_l2': 1.2561296493211382}.\n"
     ]
    },
    {
     "name": "stdout",
     "output_type": "stream",
     "text": [
      "\n"
     ]
    },
    {
     "name": "stderr",
     "output_type": "stream",
     "text": [
      "[I 2020-04-29 10:02:04,115] Finished trial#22 resulted in value: -0.9360853531816619. Current best value is -0.9360853531816619 with parameters: {'max_depth': 100, 'min_chiled_samples': 125, 'min_chiled_weight': 5, 'learning_rate': 0.19364480760973427, 'colsample_bytree': 1.0, 'sugsample': 1.0, 'lambda_l1': 2.772988419586879, 'lambda_l2': 0.26125032787457125}.\n"
     ]
    },
    {
     "name": "stdout",
     "output_type": "stream",
     "text": [
      "\n"
     ]
    },
    {
     "name": "stderr",
     "output_type": "stream",
     "text": [
      "[I 2020-04-29 10:05:08,598] Finished trial#23 resulted in value: -0.9360902320787318. Current best value is -0.9360902320787318 with parameters: {'max_depth': 87, 'min_chiled_samples': 118, 'min_chiled_weight': 6, 'learning_rate': 0.17498604532684864, 'colsample_bytree': 1.0, 'sugsample': 1.0, 'lambda_l1': 2.9032844341073516, 'lambda_l2': 0.3886354887015593}.\n"
     ]
    },
    {
     "name": "stdout",
     "output_type": "stream",
     "text": [
      "\n"
     ]
    },
    {
     "name": "stderr",
     "output_type": "stream",
     "text": [
      "[I 2020-04-29 10:07:48,384] Finished trial#24 resulted in value: -0.85782281751694. Current best value is -0.9360902320787318 with parameters: {'max_depth': 87, 'min_chiled_samples': 118, 'min_chiled_weight': 6, 'learning_rate': 0.17498604532684864, 'colsample_bytree': 1.0, 'sugsample': 1.0, 'lambda_l1': 2.9032844341073516, 'lambda_l2': 0.3886354887015593}.\n"
     ]
    },
    {
     "name": "stdout",
     "output_type": "stream",
     "text": [
      "\n"
     ]
    },
    {
     "name": "stderr",
     "output_type": "stream",
     "text": [
      "[I 2020-04-29 10:09:37,762] Finished trial#25 resulted in value: -0.9346891818800386. Current best value is -0.9360902320787318 with parameters: {'max_depth': 87, 'min_chiled_samples': 118, 'min_chiled_weight': 6, 'learning_rate': 0.17498604532684864, 'colsample_bytree': 1.0, 'sugsample': 1.0, 'lambda_l1': 2.9032844341073516, 'lambda_l2': 0.3886354887015593}.\n"
     ]
    },
    {
     "name": "stdout",
     "output_type": "stream",
     "text": [
      "\n"
     ]
    },
    {
     "name": "stderr",
     "output_type": "stream",
     "text": [
      "[I 2020-04-29 10:11:43,151] Finished trial#26 resulted in value: -0.9355091837367276. Current best value is -0.9360902320787318 with parameters: {'max_depth': 87, 'min_chiled_samples': 118, 'min_chiled_weight': 6, 'learning_rate': 0.17498604532684864, 'colsample_bytree': 1.0, 'sugsample': 1.0, 'lambda_l1': 2.9032844341073516, 'lambda_l2': 0.3886354887015593}.\n"
     ]
    },
    {
     "name": "stdout",
     "output_type": "stream",
     "text": [
      "\n"
     ]
    },
    {
     "name": "stderr",
     "output_type": "stream",
     "text": [
      "[I 2020-04-29 10:14:30,527] Finished trial#27 resulted in value: -0.935796347315335. Current best value is -0.9360902320787318 with parameters: {'max_depth': 87, 'min_chiled_samples': 118, 'min_chiled_weight': 6, 'learning_rate': 0.17498604532684864, 'colsample_bytree': 1.0, 'sugsample': 1.0, 'lambda_l1': 2.9032844341073516, 'lambda_l2': 0.3886354887015593}.\n"
     ]
    },
    {
     "name": "stdout",
     "output_type": "stream",
     "text": [
      "\n"
     ]
    },
    {
     "name": "stderr",
     "output_type": "stream",
     "text": [
      "[I 2020-04-29 10:16:51,675] Finished trial#28 resulted in value: -0.9354127304628217. Current best value is -0.9360902320787318 with parameters: {'max_depth': 87, 'min_chiled_samples': 118, 'min_chiled_weight': 6, 'learning_rate': 0.17498604532684864, 'colsample_bytree': 1.0, 'sugsample': 1.0, 'lambda_l1': 2.9032844341073516, 'lambda_l2': 0.3886354887015593}.\n"
     ]
    },
    {
     "name": "stdout",
     "output_type": "stream",
     "text": [
      "\n"
     ]
    },
    {
     "name": "stderr",
     "output_type": "stream",
     "text": [
      "[I 2020-04-29 10:19:08,767] Finished trial#29 resulted in value: -0.9357184440444191. Current best value is -0.9360902320787318 with parameters: {'max_depth': 87, 'min_chiled_samples': 118, 'min_chiled_weight': 6, 'learning_rate': 0.17498604532684864, 'colsample_bytree': 1.0, 'sugsample': 1.0, 'lambda_l1': 2.9032844341073516, 'lambda_l2': 0.3886354887015593}.\n"
     ]
    },
    {
     "name": "stdout",
     "output_type": "stream",
     "text": [
      "\n"
     ]
    },
    {
     "name": "stderr",
     "output_type": "stream",
     "text": [
      "[I 2020-04-29 10:21:48,636] Finished trial#30 resulted in value: -0.9359258335468353. Current best value is -0.9360902320787318 with parameters: {'max_depth': 87, 'min_chiled_samples': 118, 'min_chiled_weight': 6, 'learning_rate': 0.17498604532684864, 'colsample_bytree': 1.0, 'sugsample': 1.0, 'lambda_l1': 2.9032844341073516, 'lambda_l2': 0.3886354887015593}.\n"
     ]
    },
    {
     "name": "stdout",
     "output_type": "stream",
     "text": [
      "\n"
     ]
    },
    {
     "name": "stderr",
     "output_type": "stream",
     "text": [
      "[I 2020-04-29 10:23:45,226] Finished trial#31 resulted in value: -0.9358167886735326. Current best value is -0.9360902320787318 with parameters: {'max_depth': 87, 'min_chiled_samples': 118, 'min_chiled_weight': 6, 'learning_rate': 0.17498604532684864, 'colsample_bytree': 1.0, 'sugsample': 1.0, 'lambda_l1': 2.9032844341073516, 'lambda_l2': 0.3886354887015593}.\n"
     ]
    },
    {
     "name": "stdout",
     "output_type": "stream",
     "text": [
      "\n"
     ]
    },
    {
     "name": "stderr",
     "output_type": "stream",
     "text": [
      "[I 2020-04-29 10:25:21,745] Finished trial#32 resulted in value: -0.936081009245384. Current best value is -0.9360902320787318 with parameters: {'max_depth': 87, 'min_chiled_samples': 118, 'min_chiled_weight': 6, 'learning_rate': 0.17498604532684864, 'colsample_bytree': 1.0, 'sugsample': 1.0, 'lambda_l1': 2.9032844341073516, 'lambda_l2': 0.3886354887015593}.\n"
     ]
    },
    {
     "name": "stdout",
     "output_type": "stream",
     "text": [
      "\n"
     ]
    },
    {
     "name": "stderr",
     "output_type": "stream",
     "text": [
      "[I 2020-04-29 10:26:51,891] Finished trial#33 resulted in value: -0.9354699908128796. Current best value is -0.9360902320787318 with parameters: {'max_depth': 87, 'min_chiled_samples': 118, 'min_chiled_weight': 6, 'learning_rate': 0.17498604532684864, 'colsample_bytree': 1.0, 'sugsample': 1.0, 'lambda_l1': 2.9032844341073516, 'lambda_l2': 0.3886354887015593}.\n"
     ]
    },
    {
     "name": "stdout",
     "output_type": "stream",
     "text": [
      "\n"
     ]
    },
    {
     "name": "stderr",
     "output_type": "stream",
     "text": [
      "[I 2020-04-29 10:27:34,296] Finished trial#34 resulted in value: -0.8574798980059056. Current best value is -0.9360902320787318 with parameters: {'max_depth': 87, 'min_chiled_samples': 118, 'min_chiled_weight': 6, 'learning_rate': 0.17498604532684864, 'colsample_bytree': 1.0, 'sugsample': 1.0, 'lambda_l1': 2.9032844341073516, 'lambda_l2': 0.3886354887015593}.\n"
     ]
    },
    {
     "name": "stdout",
     "output_type": "stream",
     "text": [
      "\n"
     ]
    },
    {
     "name": "stderr",
     "output_type": "stream",
     "text": [
      "[I 2020-04-29 10:29:26,657] Finished trial#35 resulted in value: -0.9352961203724324. Current best value is -0.9360902320787318 with parameters: {'max_depth': 87, 'min_chiled_samples': 118, 'min_chiled_weight': 6, 'learning_rate': 0.17498604532684864, 'colsample_bytree': 1.0, 'sugsample': 1.0, 'lambda_l1': 2.9032844341073516, 'lambda_l2': 0.3886354887015593}.\n"
     ]
    },
    {
     "name": "stdout",
     "output_type": "stream",
     "text": [
      "\n"
     ]
    },
    {
     "name": "stderr",
     "output_type": "stream",
     "text": [
      "[I 2020-04-29 10:30:10,941] Finished trial#36 resulted in value: -0.9356645778900154. Current best value is -0.9360902320787318 with parameters: {'max_depth': 87, 'min_chiled_samples': 118, 'min_chiled_weight': 6, 'learning_rate': 0.17498604532684864, 'colsample_bytree': 1.0, 'sugsample': 1.0, 'lambda_l1': 2.9032844341073516, 'lambda_l2': 0.3886354887015593}.\n"
     ]
    },
    {
     "name": "stdout",
     "output_type": "stream",
     "text": [
      "\n"
     ]
    },
    {
     "name": "stderr",
     "output_type": "stream",
     "text": [
      "[I 2020-04-29 10:30:53,204] Finished trial#37 resulted in value: -0.9352984520146671. Current best value is -0.9360902320787318 with parameters: {'max_depth': 87, 'min_chiled_samples': 118, 'min_chiled_weight': 6, 'learning_rate': 0.17498604532684864, 'colsample_bytree': 1.0, 'sugsample': 1.0, 'lambda_l1': 2.9032844341073516, 'lambda_l2': 0.3886354887015593}.\n"
     ]
    },
    {
     "name": "stdout",
     "output_type": "stream",
     "text": [
      "\n"
     ]
    },
    {
     "name": "stderr",
     "output_type": "stream",
     "text": [
      "[I 2020-04-29 10:32:43,085] Finished trial#38 resulted in value: -0.9355368999976761. Current best value is -0.9360902320787318 with parameters: {'max_depth': 87, 'min_chiled_samples': 118, 'min_chiled_weight': 6, 'learning_rate': 0.17498604532684864, 'colsample_bytree': 1.0, 'sugsample': 1.0, 'lambda_l1': 2.9032844341073516, 'lambda_l2': 0.3886354887015593}.\n"
     ]
    },
    {
     "name": "stdout",
     "output_type": "stream",
     "text": [
      "\n"
     ]
    },
    {
     "name": "stderr",
     "output_type": "stream",
     "text": [
      "[I 2020-04-29 10:34:27,816] Finished trial#39 resulted in value: -0.9356514306450023. Current best value is -0.9360902320787318 with parameters: {'max_depth': 87, 'min_chiled_samples': 118, 'min_chiled_weight': 6, 'learning_rate': 0.17498604532684864, 'colsample_bytree': 1.0, 'sugsample': 1.0, 'lambda_l1': 2.9032844341073516, 'lambda_l2': 0.3886354887015593}.\n"
     ]
    },
    {
     "name": "stdout",
     "output_type": "stream",
     "text": [
      "\n"
     ]
    },
    {
     "name": "stderr",
     "output_type": "stream",
     "text": [
      "[I 2020-04-29 10:36:00,483] Finished trial#40 resulted in value: -0.9345951655186808. Current best value is -0.9360902320787318 with parameters: {'max_depth': 87, 'min_chiled_samples': 118, 'min_chiled_weight': 6, 'learning_rate': 0.17498604532684864, 'colsample_bytree': 1.0, 'sugsample': 1.0, 'lambda_l1': 2.9032844341073516, 'lambda_l2': 0.3886354887015593}.\n"
     ]
    },
    {
     "name": "stdout",
     "output_type": "stream",
     "text": [
      "\n"
     ]
    },
    {
     "name": "stderr",
     "output_type": "stream",
     "text": [
      "[I 2020-04-29 10:38:38,603] Finished trial#41 resulted in value: -0.9360217709397108. Current best value is -0.9360902320787318 with parameters: {'max_depth': 87, 'min_chiled_samples': 118, 'min_chiled_weight': 6, 'learning_rate': 0.17498604532684864, 'colsample_bytree': 1.0, 'sugsample': 1.0, 'lambda_l1': 2.9032844341073516, 'lambda_l2': 0.3886354887015593}.\n"
     ]
    },
    {
     "name": "stdout",
     "output_type": "stream",
     "text": [
      "\n"
     ]
    },
    {
     "name": "stderr",
     "output_type": "stream",
     "text": [
      "[I 2020-04-29 10:39:41,156] Finished trial#42 resulted in value: -0.935674940560472. Current best value is -0.9360902320787318 with parameters: {'max_depth': 87, 'min_chiled_samples': 118, 'min_chiled_weight': 6, 'learning_rate': 0.17498604532684864, 'colsample_bytree': 1.0, 'sugsample': 1.0, 'lambda_l1': 2.9032844341073516, 'lambda_l2': 0.3886354887015593}.\n"
     ]
    },
    {
     "name": "stdout",
     "output_type": "stream",
     "text": [
      "\n"
     ]
    },
    {
     "name": "stderr",
     "output_type": "stream",
     "text": [
      "[I 2020-04-29 10:41:03,469] Finished trial#43 resulted in value: -0.9355488963616424. Current best value is -0.9360902320787318 with parameters: {'max_depth': 87, 'min_chiled_samples': 118, 'min_chiled_weight': 6, 'learning_rate': 0.17498604532684864, 'colsample_bytree': 1.0, 'sugsample': 1.0, 'lambda_l1': 2.9032844341073516, 'lambda_l2': 0.3886354887015593}.\n"
     ]
    },
    {
     "name": "stdout",
     "output_type": "stream",
     "text": [
      "\n"
     ]
    },
    {
     "name": "stderr",
     "output_type": "stream",
     "text": [
      "[I 2020-04-29 10:42:09,407] Finished trial#44 resulted in value: -0.9356963573316706. Current best value is -0.9360902320787318 with parameters: {'max_depth': 87, 'min_chiled_samples': 118, 'min_chiled_weight': 6, 'learning_rate': 0.17498604532684864, 'colsample_bytree': 1.0, 'sugsample': 1.0, 'lambda_l1': 2.9032844341073516, 'lambda_l2': 0.3886354887015593}.\n"
     ]
    },
    {
     "name": "stdout",
     "output_type": "stream",
     "text": [
      "\n"
     ]
    },
    {
     "name": "stderr",
     "output_type": "stream",
     "text": [
      "[I 2020-04-29 10:43:15,006] Finished trial#45 resulted in value: -0.9355557784973443. Current best value is -0.9360902320787318 with parameters: {'max_depth': 87, 'min_chiled_samples': 118, 'min_chiled_weight': 6, 'learning_rate': 0.17498604532684864, 'colsample_bytree': 1.0, 'sugsample': 1.0, 'lambda_l1': 2.9032844341073516, 'lambda_l2': 0.3886354887015593}.\n"
     ]
    },
    {
     "name": "stdout",
     "output_type": "stream",
     "text": [
      "\n"
     ]
    },
    {
     "name": "stderr",
     "output_type": "stream",
     "text": [
      "[I 2020-04-29 10:44:11,727] Finished trial#46 resulted in value: -0.8576988126961832. Current best value is -0.9360902320787318 with parameters: {'max_depth': 87, 'min_chiled_samples': 118, 'min_chiled_weight': 6, 'learning_rate': 0.17498604532684864, 'colsample_bytree': 1.0, 'sugsample': 1.0, 'lambda_l1': 2.9032844341073516, 'lambda_l2': 0.3886354887015593}.\n"
     ]
    },
    {
     "name": "stdout",
     "output_type": "stream",
     "text": [
      "\n"
     ]
    },
    {
     "name": "stderr",
     "output_type": "stream",
     "text": [
      "[I 2020-04-29 10:46:09,624] Finished trial#47 resulted in value: -0.9357120527408445. Current best value is -0.9360902320787318 with parameters: {'max_depth': 87, 'min_chiled_samples': 118, 'min_chiled_weight': 6, 'learning_rate': 0.17498604532684864, 'colsample_bytree': 1.0, 'sugsample': 1.0, 'lambda_l1': 2.9032844341073516, 'lambda_l2': 0.3886354887015593}.\n"
     ]
    },
    {
     "name": "stdout",
     "output_type": "stream",
     "text": [
      "\n"
     ]
    },
    {
     "name": "stderr",
     "output_type": "stream",
     "text": [
      "[I 2020-04-29 10:48:00,458] Finished trial#48 resulted in value: -0.9330838421665025. Current best value is -0.9360902320787318 with parameters: {'max_depth': 87, 'min_chiled_samples': 118, 'min_chiled_weight': 6, 'learning_rate': 0.17498604532684864, 'colsample_bytree': 1.0, 'sugsample': 1.0, 'lambda_l1': 2.9032844341073516, 'lambda_l2': 0.3886354887015593}.\n"
     ]
    },
    {
     "name": "stdout",
     "output_type": "stream",
     "text": [
      "\n"
     ]
    },
    {
     "name": "stderr",
     "output_type": "stream",
     "text": [
      "[I 2020-04-29 10:50:03,880] Finished trial#49 resulted in value: -0.9350185186815174. Current best value is -0.9360902320787318 with parameters: {'max_depth': 87, 'min_chiled_samples': 118, 'min_chiled_weight': 6, 'learning_rate': 0.17498604532684864, 'colsample_bytree': 1.0, 'sugsample': 1.0, 'lambda_l1': 2.9032844341073516, 'lambda_l2': 0.3886354887015593}.\n"
     ]
    },
    {
     "name": "stdout",
     "output_type": "stream",
     "text": [
      "\n"
     ]
    },
    {
     "name": "stderr",
     "output_type": "stream",
     "text": [
      "[I 2020-04-29 10:51:09,750] Finished trial#50 resulted in value: -0.9355083389410782. Current best value is -0.9360902320787318 with parameters: {'max_depth': 87, 'min_chiled_samples': 118, 'min_chiled_weight': 6, 'learning_rate': 0.17498604532684864, 'colsample_bytree': 1.0, 'sugsample': 1.0, 'lambda_l1': 2.9032844341073516, 'lambda_l2': 0.3886354887015593}.\n"
     ]
    },
    {
     "name": "stdout",
     "output_type": "stream",
     "text": [
      "\n"
     ]
    },
    {
     "name": "stderr",
     "output_type": "stream",
     "text": [
      "[I 2020-04-29 10:52:57,237] Finished trial#51 resulted in value: -0.9359441305656454. Current best value is -0.9360902320787318 with parameters: {'max_depth': 87, 'min_chiled_samples': 118, 'min_chiled_weight': 6, 'learning_rate': 0.17498604532684864, 'colsample_bytree': 1.0, 'sugsample': 1.0, 'lambda_l1': 2.9032844341073516, 'lambda_l2': 0.3886354887015593}.\n"
     ]
    },
    {
     "name": "stdout",
     "output_type": "stream",
     "text": [
      "\n"
     ]
    },
    {
     "name": "stderr",
     "output_type": "stream",
     "text": [
      "[I 2020-04-29 10:53:42,520] Finished trial#52 resulted in value: -0.9357032885180021. Current best value is -0.9360902320787318 with parameters: {'max_depth': 87, 'min_chiled_samples': 118, 'min_chiled_weight': 6, 'learning_rate': 0.17498604532684864, 'colsample_bytree': 1.0, 'sugsample': 1.0, 'lambda_l1': 2.9032844341073516, 'lambda_l2': 0.3886354887015593}.\n"
     ]
    },
    {
     "name": "stdout",
     "output_type": "stream",
     "text": [
      "\n"
     ]
    },
    {
     "name": "stderr",
     "output_type": "stream",
     "text": [
      "[I 2020-04-29 10:54:46,220] Finished trial#53 resulted in value: -0.9356516222837032. Current best value is -0.9360902320787318 with parameters: {'max_depth': 87, 'min_chiled_samples': 118, 'min_chiled_weight': 6, 'learning_rate': 0.17498604532684864, 'colsample_bytree': 1.0, 'sugsample': 1.0, 'lambda_l1': 2.9032844341073516, 'lambda_l2': 0.3886354887015593}.\n"
     ]
    },
    {
     "name": "stdout",
     "output_type": "stream",
     "text": [
      "\n"
     ]
    },
    {
     "name": "stderr",
     "output_type": "stream",
     "text": [
      "[I 2020-04-29 10:55:50,239] Finished trial#54 resulted in value: -0.9356973646119826. Current best value is -0.9360902320787318 with parameters: {'max_depth': 87, 'min_chiled_samples': 118, 'min_chiled_weight': 6, 'learning_rate': 0.17498604532684864, 'colsample_bytree': 1.0, 'sugsample': 1.0, 'lambda_l1': 2.9032844341073516, 'lambda_l2': 0.3886354887015593}.\n"
     ]
    },
    {
     "name": "stdout",
     "output_type": "stream",
     "text": [
      "\n"
     ]
    },
    {
     "name": "stderr",
     "output_type": "stream",
     "text": [
      "[I 2020-04-29 10:56:56,412] Finished trial#55 resulted in value: -0.935267503541822. Current best value is -0.9360902320787318 with parameters: {'max_depth': 87, 'min_chiled_samples': 118, 'min_chiled_weight': 6, 'learning_rate': 0.17498604532684864, 'colsample_bytree': 1.0, 'sugsample': 1.0, 'lambda_l1': 2.9032844341073516, 'lambda_l2': 0.3886354887015593}.\n"
     ]
    },
    {
     "name": "stdout",
     "output_type": "stream",
     "text": [
      "\n"
     ]
    },
    {
     "name": "stderr",
     "output_type": "stream",
     "text": [
      "[I 2020-04-29 10:58:50,841] Finished trial#56 resulted in value: -0.9295861258415742. Current best value is -0.9360902320787318 with parameters: {'max_depth': 87, 'min_chiled_samples': 118, 'min_chiled_weight': 6, 'learning_rate': 0.17498604532684864, 'colsample_bytree': 1.0, 'sugsample': 1.0, 'lambda_l1': 2.9032844341073516, 'lambda_l2': 0.3886354887015593}.\n"
     ]
    },
    {
     "name": "stdout",
     "output_type": "stream",
     "text": [
      "\n"
     ]
    },
    {
     "name": "stderr",
     "output_type": "stream",
     "text": [
      "[I 2020-04-29 11:00:06,252] Finished trial#57 resulted in value: -0.9356171014529786. Current best value is -0.9360902320787318 with parameters: {'max_depth': 87, 'min_chiled_samples': 118, 'min_chiled_weight': 6, 'learning_rate': 0.17498604532684864, 'colsample_bytree': 1.0, 'sugsample': 1.0, 'lambda_l1': 2.9032844341073516, 'lambda_l2': 0.3886354887015593}.\n"
     ]
    },
    {
     "name": "stdout",
     "output_type": "stream",
     "text": [
      "\n"
     ]
    },
    {
     "name": "stderr",
     "output_type": "stream",
     "text": [
      "[I 2020-04-29 11:00:55,403] Finished trial#58 resulted in value: -0.9356253434093791. Current best value is -0.9360902320787318 with parameters: {'max_depth': 87, 'min_chiled_samples': 118, 'min_chiled_weight': 6, 'learning_rate': 0.17498604532684864, 'colsample_bytree': 1.0, 'sugsample': 1.0, 'lambda_l1': 2.9032844341073516, 'lambda_l2': 0.3886354887015593}.\n"
     ]
    },
    {
     "name": "stdout",
     "output_type": "stream",
     "text": [
      "\n"
     ]
    },
    {
     "name": "stderr",
     "output_type": "stream",
     "text": [
      "[I 2020-04-29 11:01:58,620] Finished trial#59 resulted in value: -0.9353977689345985. Current best value is -0.9360902320787318 with parameters: {'max_depth': 87, 'min_chiled_samples': 118, 'min_chiled_weight': 6, 'learning_rate': 0.17498604532684864, 'colsample_bytree': 1.0, 'sugsample': 1.0, 'lambda_l1': 2.9032844341073516, 'lambda_l2': 0.3886354887015593}.\n"
     ]
    },
    {
     "name": "stdout",
     "output_type": "stream",
     "text": [
      "\n"
     ]
    },
    {
     "name": "stderr",
     "output_type": "stream",
     "text": [
      "[I 2020-04-29 11:02:48,301] Finished trial#60 resulted in value: -0.9355050992051773. Current best value is -0.9360902320787318 with parameters: {'max_depth': 87, 'min_chiled_samples': 118, 'min_chiled_weight': 6, 'learning_rate': 0.17498604532684864, 'colsample_bytree': 1.0, 'sugsample': 1.0, 'lambda_l1': 2.9032844341073516, 'lambda_l2': 0.3886354887015593}.\n"
     ]
    },
    {
     "name": "stdout",
     "output_type": "stream",
     "text": [
      "\n"
     ]
    },
    {
     "name": "stderr",
     "output_type": "stream",
     "text": [
      "[I 2020-04-29 11:04:50,724] Finished trial#61 resulted in value: -0.935919753622077. Current best value is -0.9360902320787318 with parameters: {'max_depth': 87, 'min_chiled_samples': 118, 'min_chiled_weight': 6, 'learning_rate': 0.17498604532684864, 'colsample_bytree': 1.0, 'sugsample': 1.0, 'lambda_l1': 2.9032844341073516, 'lambda_l2': 0.3886354887015593}.\n"
     ]
    },
    {
     "name": "stdout",
     "output_type": "stream",
     "text": [
      "\n"
     ]
    },
    {
     "name": "stderr",
     "output_type": "stream",
     "text": [
      "[I 2020-04-29 11:05:59,160] Finished trial#62 resulted in value: -0.9356081633155465. Current best value is -0.9360902320787318 with parameters: {'max_depth': 87, 'min_chiled_samples': 118, 'min_chiled_weight': 6, 'learning_rate': 0.17498604532684864, 'colsample_bytree': 1.0, 'sugsample': 1.0, 'lambda_l1': 2.9032844341073516, 'lambda_l2': 0.3886354887015593}.\n"
     ]
    },
    {
     "name": "stdout",
     "output_type": "stream",
     "text": [
      "\n"
     ]
    },
    {
     "name": "stderr",
     "output_type": "stream",
     "text": [
      "[I 2020-04-29 11:07:12,341] Finished trial#63 resulted in value: -0.935753296133779. Current best value is -0.9360902320787318 with parameters: {'max_depth': 87, 'min_chiled_samples': 118, 'min_chiled_weight': 6, 'learning_rate': 0.17498604532684864, 'colsample_bytree': 1.0, 'sugsample': 1.0, 'lambda_l1': 2.9032844341073516, 'lambda_l2': 0.3886354887015593}.\n"
     ]
    },
    {
     "name": "stdout",
     "output_type": "stream",
     "text": [
      "\n"
     ]
    },
    {
     "name": "stderr",
     "output_type": "stream",
     "text": [
      "[I 2020-04-29 11:08:18,680] Finished trial#64 resulted in value: -0.9357052473313968. Current best value is -0.9360902320787318 with parameters: {'max_depth': 87, 'min_chiled_samples': 118, 'min_chiled_weight': 6, 'learning_rate': 0.17498604532684864, 'colsample_bytree': 1.0, 'sugsample': 1.0, 'lambda_l1': 2.9032844341073516, 'lambda_l2': 0.3886354887015593}.\n"
     ]
    },
    {
     "name": "stdout",
     "output_type": "stream",
     "text": [
      "\n"
     ]
    },
    {
     "name": "stderr",
     "output_type": "stream",
     "text": [
      "[I 2020-04-29 11:09:49,743] Finished trial#65 resulted in value: -0.9357998970506031. Current best value is -0.9360902320787318 with parameters: {'max_depth': 87, 'min_chiled_samples': 118, 'min_chiled_weight': 6, 'learning_rate': 0.17498604532684864, 'colsample_bytree': 1.0, 'sugsample': 1.0, 'lambda_l1': 2.9032844341073516, 'lambda_l2': 0.3886354887015593}.\n"
     ]
    },
    {
     "name": "stdout",
     "output_type": "stream",
     "text": [
      "\n"
     ]
    },
    {
     "name": "stderr",
     "output_type": "stream",
     "text": [
      "[I 2020-04-29 11:11:39,112] Finished trial#66 resulted in value: -0.9354571551029366. Current best value is -0.9360902320787318 with parameters: {'max_depth': 87, 'min_chiled_samples': 118, 'min_chiled_weight': 6, 'learning_rate': 0.17498604532684864, 'colsample_bytree': 1.0, 'sugsample': 1.0, 'lambda_l1': 2.9032844341073516, 'lambda_l2': 0.3886354887015593}.\n"
     ]
    },
    {
     "name": "stdout",
     "output_type": "stream",
     "text": [
      "\n"
     ]
    },
    {
     "name": "stderr",
     "output_type": "stream",
     "text": [
      "[I 2020-04-29 11:13:05,911] Finished trial#67 resulted in value: -0.9355865500281251. Current best value is -0.9360902320787318 with parameters: {'max_depth': 87, 'min_chiled_samples': 118, 'min_chiled_weight': 6, 'learning_rate': 0.17498604532684864, 'colsample_bytree': 1.0, 'sugsample': 1.0, 'lambda_l1': 2.9032844341073516, 'lambda_l2': 0.3886354887015593}.\n"
     ]
    },
    {
     "name": "stdout",
     "output_type": "stream",
     "text": [
      "\n"
     ]
    },
    {
     "name": "stderr",
     "output_type": "stream",
     "text": [
      "[I 2020-04-29 11:14:01,003] Finished trial#68 resulted in value: -0.9357046864948709. Current best value is -0.9360902320787318 with parameters: {'max_depth': 87, 'min_chiled_samples': 118, 'min_chiled_weight': 6, 'learning_rate': 0.17498604532684864, 'colsample_bytree': 1.0, 'sugsample': 1.0, 'lambda_l1': 2.9032844341073516, 'lambda_l2': 0.3886354887015593}.\n"
     ]
    },
    {
     "name": "stdout",
     "output_type": "stream",
     "text": [
      "\n"
     ]
    },
    {
     "name": "stderr",
     "output_type": "stream",
     "text": [
      "[I 2020-04-29 11:14:52,690] Finished trial#69 resulted in value: -0.935860339322407. Current best value is -0.9360902320787318 with parameters: {'max_depth': 87, 'min_chiled_samples': 118, 'min_chiled_weight': 6, 'learning_rate': 0.17498604532684864, 'colsample_bytree': 1.0, 'sugsample': 1.0, 'lambda_l1': 2.9032844341073516, 'lambda_l2': 0.3886354887015593}.\n"
     ]
    },
    {
     "name": "stdout",
     "output_type": "stream",
     "text": [
      "\n"
     ]
    },
    {
     "name": "stderr",
     "output_type": "stream",
     "text": [
      "[I 2020-04-29 11:16:23,934] Finished trial#70 resulted in value: -0.9351325042447562. Current best value is -0.9360902320787318 with parameters: {'max_depth': 87, 'min_chiled_samples': 118, 'min_chiled_weight': 6, 'learning_rate': 0.17498604532684864, 'colsample_bytree': 1.0, 'sugsample': 1.0, 'lambda_l1': 2.9032844341073516, 'lambda_l2': 0.3886354887015593}.\n"
     ]
    },
    {
     "name": "stdout",
     "output_type": "stream",
     "text": [
      "\n"
     ]
    },
    {
     "name": "stderr",
     "output_type": "stream",
     "text": [
      "[I 2020-04-29 11:19:09,584] Finished trial#71 resulted in value: -0.9360852154492109. Current best value is -0.9360902320787318 with parameters: {'max_depth': 87, 'min_chiled_samples': 118, 'min_chiled_weight': 6, 'learning_rate': 0.17498604532684864, 'colsample_bytree': 1.0, 'sugsample': 1.0, 'lambda_l1': 2.9032844341073516, 'lambda_l2': 0.3886354887015593}.\n"
     ]
    },
    {
     "name": "stdout",
     "output_type": "stream",
     "text": [
      "\n"
     ]
    },
    {
     "name": "stderr",
     "output_type": "stream",
     "text": [
      "[I 2020-04-29 11:20:31,871] Finished trial#72 resulted in value: -0.9357117237091398. Current best value is -0.9360902320787318 with parameters: {'max_depth': 87, 'min_chiled_samples': 118, 'min_chiled_weight': 6, 'learning_rate': 0.17498604532684864, 'colsample_bytree': 1.0, 'sugsample': 1.0, 'lambda_l1': 2.9032844341073516, 'lambda_l2': 0.3886354887015593}.\n"
     ]
    },
    {
     "name": "stdout",
     "output_type": "stream",
     "text": [
      "\n"
     ]
    },
    {
     "name": "stderr",
     "output_type": "stream",
     "text": [
      "[I 2020-04-29 11:21:42,223] Finished trial#73 resulted in value: -0.9354165433347074. Current best value is -0.9360902320787318 with parameters: {'max_depth': 87, 'min_chiled_samples': 118, 'min_chiled_weight': 6, 'learning_rate': 0.17498604532684864, 'colsample_bytree': 1.0, 'sugsample': 1.0, 'lambda_l1': 2.9032844341073516, 'lambda_l2': 0.3886354887015593}.\n"
     ]
    },
    {
     "name": "stdout",
     "output_type": "stream",
     "text": [
      "\n"
     ]
    },
    {
     "name": "stderr",
     "output_type": "stream",
     "text": [
      "[I 2020-04-29 11:22:52,591] Finished trial#74 resulted in value: -0.9356994972409987. Current best value is -0.9360902320787318 with parameters: {'max_depth': 87, 'min_chiled_samples': 118, 'min_chiled_weight': 6, 'learning_rate': 0.17498604532684864, 'colsample_bytree': 1.0, 'sugsample': 1.0, 'lambda_l1': 2.9032844341073516, 'lambda_l2': 0.3886354887015593}.\n"
     ]
    },
    {
     "name": "stdout",
     "output_type": "stream",
     "text": [
      "\n"
     ]
    },
    {
     "name": "stderr",
     "output_type": "stream",
     "text": [
      "[I 2020-04-29 11:23:37,542] Finished trial#75 resulted in value: -0.9356644227015011. Current best value is -0.9360902320787318 with parameters: {'max_depth': 87, 'min_chiled_samples': 118, 'min_chiled_weight': 6, 'learning_rate': 0.17498604532684864, 'colsample_bytree': 1.0, 'sugsample': 1.0, 'lambda_l1': 2.9032844341073516, 'lambda_l2': 0.3886354887015593}.\n"
     ]
    },
    {
     "name": "stdout",
     "output_type": "stream",
     "text": [
      "\n"
     ]
    },
    {
     "name": "stderr",
     "output_type": "stream",
     "text": [
      "[I 2020-04-29 11:24:36,102] Finished trial#76 resulted in value: -0.9355813639224003. Current best value is -0.9360902320787318 with parameters: {'max_depth': 87, 'min_chiled_samples': 118, 'min_chiled_weight': 6, 'learning_rate': 0.17498604532684864, 'colsample_bytree': 1.0, 'sugsample': 1.0, 'lambda_l1': 2.9032844341073516, 'lambda_l2': 0.3886354887015593}.\n"
     ]
    },
    {
     "name": "stdout",
     "output_type": "stream",
     "text": [
      "\n"
     ]
    },
    {
     "name": "stderr",
     "output_type": "stream",
     "text": [
      "[I 2020-04-29 11:25:59,573] Finished trial#77 resulted in value: -0.8574587468538589. Current best value is -0.9360902320787318 with parameters: {'max_depth': 87, 'min_chiled_samples': 118, 'min_chiled_weight': 6, 'learning_rate': 0.17498604532684864, 'colsample_bytree': 1.0, 'sugsample': 1.0, 'lambda_l1': 2.9032844341073516, 'lambda_l2': 0.3886354887015593}.\n"
     ]
    },
    {
     "name": "stdout",
     "output_type": "stream",
     "text": [
      "\n"
     ]
    },
    {
     "name": "stderr",
     "output_type": "stream",
     "text": [
      "[I 2020-04-29 11:27:23,128] Finished trial#78 resulted in value: -0.9356005743374454. Current best value is -0.9360902320787318 with parameters: {'max_depth': 87, 'min_chiled_samples': 118, 'min_chiled_weight': 6, 'learning_rate': 0.17498604532684864, 'colsample_bytree': 1.0, 'sugsample': 1.0, 'lambda_l1': 2.9032844341073516, 'lambda_l2': 0.3886354887015593}.\n"
     ]
    },
    {
     "name": "stdout",
     "output_type": "stream",
     "text": [
      "\n"
     ]
    },
    {
     "name": "stderr",
     "output_type": "stream",
     "text": [
      "[I 2020-04-29 11:29:07,753] Finished trial#79 resulted in value: -0.9356134379889554. Current best value is -0.9360902320787318 with parameters: {'max_depth': 87, 'min_chiled_samples': 118, 'min_chiled_weight': 6, 'learning_rate': 0.17498604532684864, 'colsample_bytree': 1.0, 'sugsample': 1.0, 'lambda_l1': 2.9032844341073516, 'lambda_l2': 0.3886354887015593}.\n"
     ]
    },
    {
     "name": "stdout",
     "output_type": "stream",
     "text": [
      "\n"
     ]
    },
    {
     "name": "stderr",
     "output_type": "stream",
     "text": [
      "[I 2020-04-29 11:30:08,772] Finished trial#80 resulted in value: -0.9354616247305831. Current best value is -0.9360902320787318 with parameters: {'max_depth': 87, 'min_chiled_samples': 118, 'min_chiled_weight': 6, 'learning_rate': 0.17498604532684864, 'colsample_bytree': 1.0, 'sugsample': 1.0, 'lambda_l1': 2.9032844341073516, 'lambda_l2': 0.3886354887015593}.\n"
     ]
    },
    {
     "name": "stdout",
     "output_type": "stream",
     "text": [
      "\n"
     ]
    },
    {
     "name": "stderr",
     "output_type": "stream",
     "text": [
      "[I 2020-04-29 11:32:04,101] Finished trial#81 resulted in value: -0.9356589203581872. Current best value is -0.9360902320787318 with parameters: {'max_depth': 87, 'min_chiled_samples': 118, 'min_chiled_weight': 6, 'learning_rate': 0.17498604532684864, 'colsample_bytree': 1.0, 'sugsample': 1.0, 'lambda_l1': 2.9032844341073516, 'lambda_l2': 0.3886354887015593}.\n"
     ]
    },
    {
     "name": "stdout",
     "output_type": "stream",
     "text": [
      "\n"
     ]
    },
    {
     "name": "stderr",
     "output_type": "stream",
     "text": [
      "[I 2020-04-29 11:33:46,342] Finished trial#82 resulted in value: -0.9356912084477991. Current best value is -0.9360902320787318 with parameters: {'max_depth': 87, 'min_chiled_samples': 118, 'min_chiled_weight': 6, 'learning_rate': 0.17498604532684864, 'colsample_bytree': 1.0, 'sugsample': 1.0, 'lambda_l1': 2.9032844341073516, 'lambda_l2': 0.3886354887015593}.\n"
     ]
    },
    {
     "name": "stdout",
     "output_type": "stream",
     "text": [
      "\n"
     ]
    },
    {
     "name": "stderr",
     "output_type": "stream",
     "text": [
      "[I 2020-04-29 11:35:09,784] Finished trial#83 resulted in value: -0.9358472806669517. Current best value is -0.9360902320787318 with parameters: {'max_depth': 87, 'min_chiled_samples': 118, 'min_chiled_weight': 6, 'learning_rate': 0.17498604532684864, 'colsample_bytree': 1.0, 'sugsample': 1.0, 'lambda_l1': 2.9032844341073516, 'lambda_l2': 0.3886354887015593}.\n"
     ]
    },
    {
     "name": "stdout",
     "output_type": "stream",
     "text": [
      "\n"
     ]
    },
    {
     "name": "stderr",
     "output_type": "stream",
     "text": [
      "[I 2020-04-29 11:36:51,303] Finished trial#84 resulted in value: -0.857854741557507. Current best value is -0.9360902320787318 with parameters: {'max_depth': 87, 'min_chiled_samples': 118, 'min_chiled_weight': 6, 'learning_rate': 0.17498604532684864, 'colsample_bytree': 1.0, 'sugsample': 1.0, 'lambda_l1': 2.9032844341073516, 'lambda_l2': 0.3886354887015593}.\n"
     ]
    },
    {
     "name": "stdout",
     "output_type": "stream",
     "text": [
      "\n"
     ]
    },
    {
     "name": "stderr",
     "output_type": "stream",
     "text": [
      "[I 2020-04-29 11:38:21,539] Finished trial#85 resulted in value: -0.9357156657692368. Current best value is -0.9360902320787318 with parameters: {'max_depth': 87, 'min_chiled_samples': 118, 'min_chiled_weight': 6, 'learning_rate': 0.17498604532684864, 'colsample_bytree': 1.0, 'sugsample': 1.0, 'lambda_l1': 2.9032844341073516, 'lambda_l2': 0.3886354887015593}.\n"
     ]
    },
    {
     "name": "stdout",
     "output_type": "stream",
     "text": [
      "\n"
     ]
    },
    {
     "name": "stderr",
     "output_type": "stream",
     "text": [
      "[I 2020-04-29 11:40:25,675] Finished trial#86 resulted in value: -0.9359734605662556. Current best value is -0.9360902320787318 with parameters: {'max_depth': 87, 'min_chiled_samples': 118, 'min_chiled_weight': 6, 'learning_rate': 0.17498604532684864, 'colsample_bytree': 1.0, 'sugsample': 1.0, 'lambda_l1': 2.9032844341073516, 'lambda_l2': 0.3886354887015593}.\n"
     ]
    },
    {
     "name": "stdout",
     "output_type": "stream",
     "text": [
      "\n"
     ]
    },
    {
     "name": "stderr",
     "output_type": "stream",
     "text": [
      "[I 2020-04-29 11:41:47,975] Finished trial#87 resulted in value: -0.9357869687928795. Current best value is -0.9360902320787318 with parameters: {'max_depth': 87, 'min_chiled_samples': 118, 'min_chiled_weight': 6, 'learning_rate': 0.17498604532684864, 'colsample_bytree': 1.0, 'sugsample': 1.0, 'lambda_l1': 2.9032844341073516, 'lambda_l2': 0.3886354887015593}.\n"
     ]
    },
    {
     "name": "stdout",
     "output_type": "stream",
     "text": [
      "\n"
     ]
    },
    {
     "name": "stderr",
     "output_type": "stream",
     "text": [
      "[I 2020-04-29 11:43:14,120] Finished trial#88 resulted in value: -0.9357936471090569. Current best value is -0.9360902320787318 with parameters: {'max_depth': 87, 'min_chiled_samples': 118, 'min_chiled_weight': 6, 'learning_rate': 0.17498604532684864, 'colsample_bytree': 1.0, 'sugsample': 1.0, 'lambda_l1': 2.9032844341073516, 'lambda_l2': 0.3886354887015593}.\n"
     ]
    },
    {
     "name": "stdout",
     "output_type": "stream",
     "text": [
      "\n"
     ]
    },
    {
     "name": "stderr",
     "output_type": "stream",
     "text": [
      "[I 2020-04-29 11:44:36,415] Finished trial#89 resulted in value: -0.9355949998096252. Current best value is -0.9360902320787318 with parameters: {'max_depth': 87, 'min_chiled_samples': 118, 'min_chiled_weight': 6, 'learning_rate': 0.17498604532684864, 'colsample_bytree': 1.0, 'sugsample': 1.0, 'lambda_l1': 2.9032844341073516, 'lambda_l2': 0.3886354887015593}.\n"
     ]
    },
    {
     "name": "stdout",
     "output_type": "stream",
     "text": [
      "\n"
     ]
    },
    {
     "name": "stderr",
     "output_type": "stream",
     "text": [
      "[I 2020-04-29 11:45:42,256] Finished trial#90 resulted in value: -0.9356563466705011. Current best value is -0.9360902320787318 with parameters: {'max_depth': 87, 'min_chiled_samples': 118, 'min_chiled_weight': 6, 'learning_rate': 0.17498604532684864, 'colsample_bytree': 1.0, 'sugsample': 1.0, 'lambda_l1': 2.9032844341073516, 'lambda_l2': 0.3886354887015593}.\n"
     ]
    },
    {
     "name": "stdout",
     "output_type": "stream",
     "text": [
      "\n"
     ]
    },
    {
     "name": "stderr",
     "output_type": "stream",
     "text": [
      "[I 2020-04-29 11:47:40,063] Finished trial#91 resulted in value: -0.9359138071952908. Current best value is -0.9360902320787318 with parameters: {'max_depth': 87, 'min_chiled_samples': 118, 'min_chiled_weight': 6, 'learning_rate': 0.17498604532684864, 'colsample_bytree': 1.0, 'sugsample': 1.0, 'lambda_l1': 2.9032844341073516, 'lambda_l2': 0.3886354887015593}.\n"
     ]
    },
    {
     "name": "stdout",
     "output_type": "stream",
     "text": [
      "\n"
     ]
    },
    {
     "name": "stderr",
     "output_type": "stream",
     "text": [
      "[I 2020-04-29 11:49:05,223] Finished trial#92 resulted in value: -0.9356855664957489. Current best value is -0.9360902320787318 with parameters: {'max_depth': 87, 'min_chiled_samples': 118, 'min_chiled_weight': 6, 'learning_rate': 0.17498604532684864, 'colsample_bytree': 1.0, 'sugsample': 1.0, 'lambda_l1': 2.9032844341073516, 'lambda_l2': 0.3886354887015593}.\n"
     ]
    },
    {
     "name": "stdout",
     "output_type": "stream",
     "text": [
      "\n"
     ]
    },
    {
     "name": "stderr",
     "output_type": "stream",
     "text": [
      "[I 2020-04-29 11:50:19,601] Finished trial#93 resulted in value: -0.9357173567702783. Current best value is -0.9360902320787318 with parameters: {'max_depth': 87, 'min_chiled_samples': 118, 'min_chiled_weight': 6, 'learning_rate': 0.17498604532684864, 'colsample_bytree': 1.0, 'sugsample': 1.0, 'lambda_l1': 2.9032844341073516, 'lambda_l2': 0.3886354887015593}.\n"
     ]
    },
    {
     "name": "stdout",
     "output_type": "stream",
     "text": [
      "\n"
     ]
    },
    {
     "name": "stderr",
     "output_type": "stream",
     "text": [
      "[I 2020-04-29 11:51:22,590] Finished trial#94 resulted in value: -0.9356010683624499. Current best value is -0.9360902320787318 with parameters: {'max_depth': 87, 'min_chiled_samples': 118, 'min_chiled_weight': 6, 'learning_rate': 0.17498604532684864, 'colsample_bytree': 1.0, 'sugsample': 1.0, 'lambda_l1': 2.9032844341073516, 'lambda_l2': 0.3886354887015593}.\n"
     ]
    },
    {
     "name": "stdout",
     "output_type": "stream",
     "text": [
      "\n"
     ]
    },
    {
     "name": "stderr",
     "output_type": "stream",
     "text": [
      "[I 2020-04-29 11:52:30,435] Finished trial#95 resulted in value: -0.9354466100197598. Current best value is -0.9360902320787318 with parameters: {'max_depth': 87, 'min_chiled_samples': 118, 'min_chiled_weight': 6, 'learning_rate': 0.17498604532684864, 'colsample_bytree': 1.0, 'sugsample': 1.0, 'lambda_l1': 2.9032844341073516, 'lambda_l2': 0.3886354887015593}.\n"
     ]
    },
    {
     "name": "stdout",
     "output_type": "stream",
     "text": [
      "\n"
     ]
    },
    {
     "name": "stderr",
     "output_type": "stream",
     "text": [
      "[I 2020-04-29 11:53:29,682] Finished trial#96 resulted in value: -0.9355775552031282. Current best value is -0.9360902320787318 with parameters: {'max_depth': 87, 'min_chiled_samples': 118, 'min_chiled_weight': 6, 'learning_rate': 0.17498604532684864, 'colsample_bytree': 1.0, 'sugsample': 1.0, 'lambda_l1': 2.9032844341073516, 'lambda_l2': 0.3886354887015593}.\n"
     ]
    },
    {
     "name": "stdout",
     "output_type": "stream",
     "text": [
      "\n"
     ]
    },
    {
     "name": "stderr",
     "output_type": "stream",
     "text": [
      "[I 2020-04-29 11:54:51,617] Finished trial#97 resulted in value: -0.9355893972412285. Current best value is -0.9360902320787318 with parameters: {'max_depth': 87, 'min_chiled_samples': 118, 'min_chiled_weight': 6, 'learning_rate': 0.17498604532684864, 'colsample_bytree': 1.0, 'sugsample': 1.0, 'lambda_l1': 2.9032844341073516, 'lambda_l2': 0.3886354887015593}.\n"
     ]
    },
    {
     "name": "stdout",
     "output_type": "stream",
     "text": [
      "\n"
     ]
    },
    {
     "name": "stderr",
     "output_type": "stream",
     "text": [
      "[I 2020-04-29 11:55:41,113] Finished trial#98 resulted in value: -0.9357903465296595. Current best value is -0.9360902320787318 with parameters: {'max_depth': 87, 'min_chiled_samples': 118, 'min_chiled_weight': 6, 'learning_rate': 0.17498604532684864, 'colsample_bytree': 1.0, 'sugsample': 1.0, 'lambda_l1': 2.9032844341073516, 'lambda_l2': 0.3886354887015593}.\n"
     ]
    },
    {
     "name": "stdout",
     "output_type": "stream",
     "text": [
      "\n"
     ]
    },
    {
     "name": "stderr",
     "output_type": "stream",
     "text": [
      "[I 2020-04-29 11:56:54,070] Finished trial#99 resulted in value: -0.9356397191367566. Current best value is -0.9360902320787318 with parameters: {'max_depth': 87, 'min_chiled_samples': 118, 'min_chiled_weight': 6, 'learning_rate': 0.17498604532684864, 'colsample_bytree': 1.0, 'sugsample': 1.0, 'lambda_l1': 2.9032844341073516, 'lambda_l2': 0.3886354887015593}.\n"
     ]
    },
    {
     "name": "stdout",
     "output_type": "stream",
     "text": [
      "\n"
     ]
    },
    {
     "name": "stderr",
     "output_type": "stream",
     "text": [
      "[I 2020-04-29 11:58:40,568] Finished trial#100 resulted in value: -0.9356891021584485. Current best value is -0.9360902320787318 with parameters: {'max_depth': 87, 'min_chiled_samples': 118, 'min_chiled_weight': 6, 'learning_rate': 0.17498604532684864, 'colsample_bytree': 1.0, 'sugsample': 1.0, 'lambda_l1': 2.9032844341073516, 'lambda_l2': 0.3886354887015593}.\n"
     ]
    },
    {
     "name": "stdout",
     "output_type": "stream",
     "text": [
      "\n"
     ]
    },
    {
     "name": "stderr",
     "output_type": "stream",
     "text": [
      "[I 2020-04-29 12:01:02,317] Finished trial#101 resulted in value: -0.9359930204497066. Current best value is -0.9360902320787318 with parameters: {'max_depth': 87, 'min_chiled_samples': 118, 'min_chiled_weight': 6, 'learning_rate': 0.17498604532684864, 'colsample_bytree': 1.0, 'sugsample': 1.0, 'lambda_l1': 2.9032844341073516, 'lambda_l2': 0.3886354887015593}.\n"
     ]
    },
    {
     "name": "stdout",
     "output_type": "stream",
     "text": [
      "\n"
     ]
    },
    {
     "name": "stderr",
     "output_type": "stream",
     "text": [
      "[I 2020-04-29 12:02:25,657] Finished trial#102 resulted in value: -0.9356088300514336. Current best value is -0.9360902320787318 with parameters: {'max_depth': 87, 'min_chiled_samples': 118, 'min_chiled_weight': 6, 'learning_rate': 0.17498604532684864, 'colsample_bytree': 1.0, 'sugsample': 1.0, 'lambda_l1': 2.9032844341073516, 'lambda_l2': 0.3886354887015593}.\n"
     ]
    },
    {
     "name": "stdout",
     "output_type": "stream",
     "text": [
      "\n"
     ]
    },
    {
     "name": "stderr",
     "output_type": "stream",
     "text": [
      "[I 2020-04-29 12:03:11,320] Finished trial#103 resulted in value: -0.9356149875395613. Current best value is -0.9360902320787318 with parameters: {'max_depth': 87, 'min_chiled_samples': 118, 'min_chiled_weight': 6, 'learning_rate': 0.17498604532684864, 'colsample_bytree': 1.0, 'sugsample': 1.0, 'lambda_l1': 2.9032844341073516, 'lambda_l2': 0.3886354887015593}.\n"
     ]
    },
    {
     "name": "stdout",
     "output_type": "stream",
     "text": [
      "\n"
     ]
    },
    {
     "name": "stderr",
     "output_type": "stream",
     "text": [
      "[I 2020-04-29 12:04:40,357] Finished trial#104 resulted in value: -0.9356007936605107. Current best value is -0.9360902320787318 with parameters: {'max_depth': 87, 'min_chiled_samples': 118, 'min_chiled_weight': 6, 'learning_rate': 0.17498604532684864, 'colsample_bytree': 1.0, 'sugsample': 1.0, 'lambda_l1': 2.9032844341073516, 'lambda_l2': 0.3886354887015593}.\n"
     ]
    },
    {
     "name": "stdout",
     "output_type": "stream",
     "text": [
      "\n"
     ]
    },
    {
     "name": "stderr",
     "output_type": "stream",
     "text": [
      "[I 2020-04-29 12:06:39,631] Finished trial#105 resulted in value: -0.9356974106286441. Current best value is -0.9360902320787318 with parameters: {'max_depth': 87, 'min_chiled_samples': 118, 'min_chiled_weight': 6, 'learning_rate': 0.17498604532684864, 'colsample_bytree': 1.0, 'sugsample': 1.0, 'lambda_l1': 2.9032844341073516, 'lambda_l2': 0.3886354887015593}.\n"
     ]
    },
    {
     "name": "stdout",
     "output_type": "stream",
     "text": [
      "\n"
     ]
    },
    {
     "name": "stderr",
     "output_type": "stream",
     "text": [
      "[I 2020-04-29 12:08:11,592] Finished trial#106 resulted in value: -0.9357564337675286. Current best value is -0.9360902320787318 with parameters: {'max_depth': 87, 'min_chiled_samples': 118, 'min_chiled_weight': 6, 'learning_rate': 0.17498604532684864, 'colsample_bytree': 1.0, 'sugsample': 1.0, 'lambda_l1': 2.9032844341073516, 'lambda_l2': 0.3886354887015593}.\n"
     ]
    },
    {
     "name": "stdout",
     "output_type": "stream",
     "text": [
      "\n"
     ]
    },
    {
     "name": "stderr",
     "output_type": "stream",
     "text": [
      "[I 2020-04-29 12:09:20,830] Finished trial#107 resulted in value: -0.9355761740229821. Current best value is -0.9360902320787318 with parameters: {'max_depth': 87, 'min_chiled_samples': 118, 'min_chiled_weight': 6, 'learning_rate': 0.17498604532684864, 'colsample_bytree': 1.0, 'sugsample': 1.0, 'lambda_l1': 2.9032844341073516, 'lambda_l2': 0.3886354887015593}.\n"
     ]
    },
    {
     "name": "stdout",
     "output_type": "stream",
     "text": [
      "\n"
     ]
    },
    {
     "name": "stderr",
     "output_type": "stream",
     "text": [
      "[I 2020-04-29 12:11:05,989] Finished trial#108 resulted in value: -0.9356052145758909. Current best value is -0.9360902320787318 with parameters: {'max_depth': 87, 'min_chiled_samples': 118, 'min_chiled_weight': 6, 'learning_rate': 0.17498604532684864, 'colsample_bytree': 1.0, 'sugsample': 1.0, 'lambda_l1': 2.9032844341073516, 'lambda_l2': 0.3886354887015593}.\n"
     ]
    },
    {
     "name": "stdout",
     "output_type": "stream",
     "text": [
      "\n"
     ]
    },
    {
     "name": "stderr",
     "output_type": "stream",
     "text": [
      "[I 2020-04-29 12:13:28,994] Finished trial#109 resulted in value: -0.9357753370389137. Current best value is -0.9360902320787318 with parameters: {'max_depth': 87, 'min_chiled_samples': 118, 'min_chiled_weight': 6, 'learning_rate': 0.17498604532684864, 'colsample_bytree': 1.0, 'sugsample': 1.0, 'lambda_l1': 2.9032844341073516, 'lambda_l2': 0.3886354887015593}.\n"
     ]
    },
    {
     "name": "stdout",
     "output_type": "stream",
     "text": [
      "\n"
     ]
    },
    {
     "name": "stderr",
     "output_type": "stream",
     "text": [
      "[I 2020-04-29 12:15:05,308] Finished trial#110 resulted in value: -0.9355935246701257. Current best value is -0.9360902320787318 with parameters: {'max_depth': 87, 'min_chiled_samples': 118, 'min_chiled_weight': 6, 'learning_rate': 0.17498604532684864, 'colsample_bytree': 1.0, 'sugsample': 1.0, 'lambda_l1': 2.9032844341073516, 'lambda_l2': 0.3886354887015593}.\n"
     ]
    },
    {
     "name": "stdout",
     "output_type": "stream",
     "text": [
      "\n"
     ]
    },
    {
     "name": "stderr",
     "output_type": "stream",
     "text": [
      "[I 2020-04-29 12:16:50,128] Finished trial#111 resulted in value: -0.9358789808010585. Current best value is -0.9360902320787318 with parameters: {'max_depth': 87, 'min_chiled_samples': 118, 'min_chiled_weight': 6, 'learning_rate': 0.17498604532684864, 'colsample_bytree': 1.0, 'sugsample': 1.0, 'lambda_l1': 2.9032844341073516, 'lambda_l2': 0.3886354887015593}.\n"
     ]
    },
    {
     "name": "stdout",
     "output_type": "stream",
     "text": [
      "\n"
     ]
    },
    {
     "name": "stderr",
     "output_type": "stream",
     "text": [
      "[I 2020-04-29 12:18:25,677] Finished trial#112 resulted in value: -0.9360033631973285. Current best value is -0.9360902320787318 with parameters: {'max_depth': 87, 'min_chiled_samples': 118, 'min_chiled_weight': 6, 'learning_rate': 0.17498604532684864, 'colsample_bytree': 1.0, 'sugsample': 1.0, 'lambda_l1': 2.9032844341073516, 'lambda_l2': 0.3886354887015593}.\n"
     ]
    },
    {
     "name": "stdout",
     "output_type": "stream",
     "text": [
      "\n"
     ]
    },
    {
     "name": "stderr",
     "output_type": "stream",
     "text": [
      "[I 2020-04-29 12:20:04,973] Finished trial#113 resulted in value: -0.9356509245173623. Current best value is -0.9360902320787318 with parameters: {'max_depth': 87, 'min_chiled_samples': 118, 'min_chiled_weight': 6, 'learning_rate': 0.17498604532684864, 'colsample_bytree': 1.0, 'sugsample': 1.0, 'lambda_l1': 2.9032844341073516, 'lambda_l2': 0.3886354887015593}.\n"
     ]
    },
    {
     "name": "stdout",
     "output_type": "stream",
     "text": [
      "\n"
     ]
    },
    {
     "name": "stderr",
     "output_type": "stream",
     "text": [
      "[I 2020-04-29 12:20:56,875] Finished trial#114 resulted in value: -0.9357758770578122. Current best value is -0.9360902320787318 with parameters: {'max_depth': 87, 'min_chiled_samples': 118, 'min_chiled_weight': 6, 'learning_rate': 0.17498604532684864, 'colsample_bytree': 1.0, 'sugsample': 1.0, 'lambda_l1': 2.9032844341073516, 'lambda_l2': 0.3886354887015593}.\n"
     ]
    },
    {
     "name": "stdout",
     "output_type": "stream",
     "text": [
      "\n"
     ]
    },
    {
     "name": "stderr",
     "output_type": "stream",
     "text": [
      "[I 2020-04-29 12:22:30,135] Finished trial#115 resulted in value: -0.9355769741240909. Current best value is -0.9360902320787318 with parameters: {'max_depth': 87, 'min_chiled_samples': 118, 'min_chiled_weight': 6, 'learning_rate': 0.17498604532684864, 'colsample_bytree': 1.0, 'sugsample': 1.0, 'lambda_l1': 2.9032844341073516, 'lambda_l2': 0.3886354887015593}.\n"
     ]
    },
    {
     "name": "stdout",
     "output_type": "stream",
     "text": [
      "\n"
     ]
    },
    {
     "name": "stderr",
     "output_type": "stream",
     "text": [
      "[I 2020-04-29 12:23:56,466] Finished trial#116 resulted in value: -0.9357022536378533. Current best value is -0.9360902320787318 with parameters: {'max_depth': 87, 'min_chiled_samples': 118, 'min_chiled_weight': 6, 'learning_rate': 0.17498604532684864, 'colsample_bytree': 1.0, 'sugsample': 1.0, 'lambda_l1': 2.9032844341073516, 'lambda_l2': 0.3886354887015593}.\n"
     ]
    },
    {
     "name": "stdout",
     "output_type": "stream",
     "text": [
      "\n"
     ]
    },
    {
     "name": "stderr",
     "output_type": "stream",
     "text": [
      "[I 2020-04-29 12:24:44,614] Finished trial#117 resulted in value: -0.9357637639215447. Current best value is -0.9360902320787318 with parameters: {'max_depth': 87, 'min_chiled_samples': 118, 'min_chiled_weight': 6, 'learning_rate': 0.17498604532684864, 'colsample_bytree': 1.0, 'sugsample': 1.0, 'lambda_l1': 2.9032844341073516, 'lambda_l2': 0.3886354887015593}.\n"
     ]
    },
    {
     "name": "stdout",
     "output_type": "stream",
     "text": [
      "\n"
     ]
    },
    {
     "name": "stderr",
     "output_type": "stream",
     "text": [
      "[I 2020-04-29 12:26:24,869] Finished trial#118 resulted in value: -0.9354898026089491. Current best value is -0.9360902320787318 with parameters: {'max_depth': 87, 'min_chiled_samples': 118, 'min_chiled_weight': 6, 'learning_rate': 0.17498604532684864, 'colsample_bytree': 1.0, 'sugsample': 1.0, 'lambda_l1': 2.9032844341073516, 'lambda_l2': 0.3886354887015593}.\n"
     ]
    },
    {
     "name": "stdout",
     "output_type": "stream",
     "text": [
      "\n"
     ]
    },
    {
     "name": "stderr",
     "output_type": "stream",
     "text": [
      "[I 2020-04-29 12:28:11,266] Finished trial#119 resulted in value: -0.9357455032586617. Current best value is -0.9360902320787318 with parameters: {'max_depth': 87, 'min_chiled_samples': 118, 'min_chiled_weight': 6, 'learning_rate': 0.17498604532684864, 'colsample_bytree': 1.0, 'sugsample': 1.0, 'lambda_l1': 2.9032844341073516, 'lambda_l2': 0.3886354887015593}.\n"
     ]
    },
    {
     "name": "stdout",
     "output_type": "stream",
     "text": [
      "\n"
     ]
    },
    {
     "name": "stderr",
     "output_type": "stream",
     "text": [
      "[I 2020-04-29 12:29:02,926] Finished trial#120 resulted in value: -0.9356980481742089. Current best value is -0.9360902320787318 with parameters: {'max_depth': 87, 'min_chiled_samples': 118, 'min_chiled_weight': 6, 'learning_rate': 0.17498604532684864, 'colsample_bytree': 1.0, 'sugsample': 1.0, 'lambda_l1': 2.9032844341073516, 'lambda_l2': 0.3886354887015593}.\n"
     ]
    },
    {
     "name": "stdout",
     "output_type": "stream",
     "text": [
      "\n"
     ]
    },
    {
     "name": "stderr",
     "output_type": "stream",
     "text": [
      "[I 2020-04-29 12:31:16,930] Finished trial#121 resulted in value: -0.935988781609224. Current best value is -0.9360902320787318 with parameters: {'max_depth': 87, 'min_chiled_samples': 118, 'min_chiled_weight': 6, 'learning_rate': 0.17498604532684864, 'colsample_bytree': 1.0, 'sugsample': 1.0, 'lambda_l1': 2.9032844341073516, 'lambda_l2': 0.3886354887015593}.\n"
     ]
    },
    {
     "name": "stdout",
     "output_type": "stream",
     "text": [
      "\n"
     ]
    },
    {
     "name": "stderr",
     "output_type": "stream",
     "text": [
      "[I 2020-04-29 12:32:37,591] Finished trial#122 resulted in value: -0.9356132621744198. Current best value is -0.9360902320787318 with parameters: {'max_depth': 87, 'min_chiled_samples': 118, 'min_chiled_weight': 6, 'learning_rate': 0.17498604532684864, 'colsample_bytree': 1.0, 'sugsample': 1.0, 'lambda_l1': 2.9032844341073516, 'lambda_l2': 0.3886354887015593}.\n"
     ]
    },
    {
     "name": "stdout",
     "output_type": "stream",
     "text": [
      "\n"
     ]
    },
    {
     "name": "stderr",
     "output_type": "stream",
     "text": [
      "[I 2020-04-29 12:33:29,606] Finished trial#123 resulted in value: -0.9357902362202988. Current best value is -0.9360902320787318 with parameters: {'max_depth': 87, 'min_chiled_samples': 118, 'min_chiled_weight': 6, 'learning_rate': 0.17498604532684864, 'colsample_bytree': 1.0, 'sugsample': 1.0, 'lambda_l1': 2.9032844341073516, 'lambda_l2': 0.3886354887015593}.\n"
     ]
    },
    {
     "name": "stdout",
     "output_type": "stream",
     "text": [
      "\n"
     ]
    },
    {
     "name": "stderr",
     "output_type": "stream",
     "text": [
      "[I 2020-04-29 12:35:08,685] Finished trial#124 resulted in value: -0.9355421640955512. Current best value is -0.9360902320787318 with parameters: {'max_depth': 87, 'min_chiled_samples': 118, 'min_chiled_weight': 6, 'learning_rate': 0.17498604532684864, 'colsample_bytree': 1.0, 'sugsample': 1.0, 'lambda_l1': 2.9032844341073516, 'lambda_l2': 0.3886354887015593}.\n"
     ]
    },
    {
     "name": "stdout",
     "output_type": "stream",
     "text": [
      "\n"
     ]
    },
    {
     "name": "stderr",
     "output_type": "stream",
     "text": [
      "[I 2020-04-29 12:36:37,404] Finished trial#125 resulted in value: -0.9355430711916397. Current best value is -0.9360902320787318 with parameters: {'max_depth': 87, 'min_chiled_samples': 118, 'min_chiled_weight': 6, 'learning_rate': 0.17498604532684864, 'colsample_bytree': 1.0, 'sugsample': 1.0, 'lambda_l1': 2.9032844341073516, 'lambda_l2': 0.3886354887015593}.\n"
     ]
    },
    {
     "name": "stdout",
     "output_type": "stream",
     "text": [
      "\n"
     ]
    },
    {
     "name": "stderr",
     "output_type": "stream",
     "text": [
      "[I 2020-04-29 12:37:55,709] Finished trial#126 resulted in value: -0.9355958325594074. Current best value is -0.9360902320787318 with parameters: {'max_depth': 87, 'min_chiled_samples': 118, 'min_chiled_weight': 6, 'learning_rate': 0.17498604532684864, 'colsample_bytree': 1.0, 'sugsample': 1.0, 'lambda_l1': 2.9032844341073516, 'lambda_l2': 0.3886354887015593}.\n"
     ]
    },
    {
     "name": "stdout",
     "output_type": "stream",
     "text": [
      "\n"
     ]
    },
    {
     "name": "stderr",
     "output_type": "stream",
     "text": [
      "[I 2020-04-29 12:40:03,595] Finished trial#127 resulted in value: -0.8575099473459296. Current best value is -0.9360902320787318 with parameters: {'max_depth': 87, 'min_chiled_samples': 118, 'min_chiled_weight': 6, 'learning_rate': 0.17498604532684864, 'colsample_bytree': 1.0, 'sugsample': 1.0, 'lambda_l1': 2.9032844341073516, 'lambda_l2': 0.3886354887015593}.\n"
     ]
    },
    {
     "name": "stdout",
     "output_type": "stream",
     "text": [
      "\n"
     ]
    },
    {
     "name": "stderr",
     "output_type": "stream",
     "text": [
      "[I 2020-04-29 12:41:40,730] Finished trial#128 resulted in value: -0.9356431764663738. Current best value is -0.9360902320787318 with parameters: {'max_depth': 87, 'min_chiled_samples': 118, 'min_chiled_weight': 6, 'learning_rate': 0.17498604532684864, 'colsample_bytree': 1.0, 'sugsample': 1.0, 'lambda_l1': 2.9032844341073516, 'lambda_l2': 0.3886354887015593}.\n"
     ]
    },
    {
     "name": "stdout",
     "output_type": "stream",
     "text": [
      "\n"
     ]
    },
    {
     "name": "stderr",
     "output_type": "stream",
     "text": [
      "[I 2020-04-29 12:43:06,190] Finished trial#129 resulted in value: -0.9346109808700024. Current best value is -0.9360902320787318 with parameters: {'max_depth': 87, 'min_chiled_samples': 118, 'min_chiled_weight': 6, 'learning_rate': 0.17498604532684864, 'colsample_bytree': 1.0, 'sugsample': 1.0, 'lambda_l1': 2.9032844341073516, 'lambda_l2': 0.3886354887015593}.\n"
     ]
    },
    {
     "name": "stdout",
     "output_type": "stream",
     "text": [
      "\n"
     ]
    },
    {
     "name": "stderr",
     "output_type": "stream",
     "text": [
      "[I 2020-04-29 12:44:19,828] Finished trial#130 resulted in value: -0.9354974374219325. Current best value is -0.9360902320787318 with parameters: {'max_depth': 87, 'min_chiled_samples': 118, 'min_chiled_weight': 6, 'learning_rate': 0.17498604532684864, 'colsample_bytree': 1.0, 'sugsample': 1.0, 'lambda_l1': 2.9032844341073516, 'lambda_l2': 0.3886354887015593}.\n"
     ]
    },
    {
     "name": "stdout",
     "output_type": "stream",
     "text": [
      "\n"
     ]
    },
    {
     "name": "stderr",
     "output_type": "stream",
     "text": [
      "[I 2020-04-29 12:47:29,509] Finished trial#131 resulted in value: -0.9357843135662667. Current best value is -0.9360902320787318 with parameters: {'max_depth': 87, 'min_chiled_samples': 118, 'min_chiled_weight': 6, 'learning_rate': 0.17498604532684864, 'colsample_bytree': 1.0, 'sugsample': 1.0, 'lambda_l1': 2.9032844341073516, 'lambda_l2': 0.3886354887015593}.\n"
     ]
    },
    {
     "name": "stdout",
     "output_type": "stream",
     "text": [
      "\n"
     ]
    },
    {
     "name": "stderr",
     "output_type": "stream",
     "text": [
      "[I 2020-04-29 12:50:27,487] Finished trial#132 resulted in value: -0.935827533188684. Current best value is -0.9360902320787318 with parameters: {'max_depth': 87, 'min_chiled_samples': 118, 'min_chiled_weight': 6, 'learning_rate': 0.17498604532684864, 'colsample_bytree': 1.0, 'sugsample': 1.0, 'lambda_l1': 2.9032844341073516, 'lambda_l2': 0.3886354887015593}.\n"
     ]
    },
    {
     "name": "stdout",
     "output_type": "stream",
     "text": [
      "\n"
     ]
    },
    {
     "name": "stderr",
     "output_type": "stream",
     "text": [
      "[I 2020-04-29 12:52:32,261] Finished trial#133 resulted in value: -0.9358854463176357. Current best value is -0.9360902320787318 with parameters: {'max_depth': 87, 'min_chiled_samples': 118, 'min_chiled_weight': 6, 'learning_rate': 0.17498604532684864, 'colsample_bytree': 1.0, 'sugsample': 1.0, 'lambda_l1': 2.9032844341073516, 'lambda_l2': 0.3886354887015593}.\n"
     ]
    },
    {
     "name": "stdout",
     "output_type": "stream",
     "text": [
      "\n"
     ]
    },
    {
     "name": "stderr",
     "output_type": "stream",
     "text": [
      "[I 2020-04-29 12:54:44,269] Finished trial#134 resulted in value: -0.93595687737523. Current best value is -0.9360902320787318 with parameters: {'max_depth': 87, 'min_chiled_samples': 118, 'min_chiled_weight': 6, 'learning_rate': 0.17498604532684864, 'colsample_bytree': 1.0, 'sugsample': 1.0, 'lambda_l1': 2.9032844341073516, 'lambda_l2': 0.3886354887015593}.\n"
     ]
    },
    {
     "name": "stdout",
     "output_type": "stream",
     "text": [
      "\n"
     ]
    },
    {
     "name": "stderr",
     "output_type": "stream",
     "text": [
      "[I 2020-04-29 12:56:36,761] Finished trial#135 resulted in value: -0.9355852391126571. Current best value is -0.9360902320787318 with parameters: {'max_depth': 87, 'min_chiled_samples': 118, 'min_chiled_weight': 6, 'learning_rate': 0.17498604532684864, 'colsample_bytree': 1.0, 'sugsample': 1.0, 'lambda_l1': 2.9032844341073516, 'lambda_l2': 0.3886354887015593}.\n"
     ]
    },
    {
     "name": "stdout",
     "output_type": "stream",
     "text": [
      "\n"
     ]
    },
    {
     "name": "stderr",
     "output_type": "stream",
     "text": [
      "[I 2020-04-29 12:58:16,813] Finished trial#136 resulted in value: -0.9356934786375707. Current best value is -0.9360902320787318 with parameters: {'max_depth': 87, 'min_chiled_samples': 118, 'min_chiled_weight': 6, 'learning_rate': 0.17498604532684864, 'colsample_bytree': 1.0, 'sugsample': 1.0, 'lambda_l1': 2.9032844341073516, 'lambda_l2': 0.3886354887015593}.\n"
     ]
    },
    {
     "name": "stdout",
     "output_type": "stream",
     "text": [
      "\n"
     ]
    },
    {
     "name": "stderr",
     "output_type": "stream",
     "text": [
      "[I 2020-04-29 13:00:03,831] Finished trial#137 resulted in value: -0.9355455675740508. Current best value is -0.9360902320787318 with parameters: {'max_depth': 87, 'min_chiled_samples': 118, 'min_chiled_weight': 6, 'learning_rate': 0.17498604532684864, 'colsample_bytree': 1.0, 'sugsample': 1.0, 'lambda_l1': 2.9032844341073516, 'lambda_l2': 0.3886354887015593}.\n"
     ]
    },
    {
     "name": "stdout",
     "output_type": "stream",
     "text": [
      "\n"
     ]
    },
    {
     "name": "stderr",
     "output_type": "stream",
     "text": [
      "[I 2020-04-29 13:01:52,643] Finished trial#138 resulted in value: -0.9356031292777424. Current best value is -0.9360902320787318 with parameters: {'max_depth': 87, 'min_chiled_samples': 118, 'min_chiled_weight': 6, 'learning_rate': 0.17498604532684864, 'colsample_bytree': 1.0, 'sugsample': 1.0, 'lambda_l1': 2.9032844341073516, 'lambda_l2': 0.3886354887015593}.\n"
     ]
    },
    {
     "name": "stdout",
     "output_type": "stream",
     "text": [
      "\n"
     ]
    },
    {
     "name": "stderr",
     "output_type": "stream",
     "text": [
      "[I 2020-04-29 13:02:41,037] Finished trial#139 resulted in value: -0.9356700057383214. Current best value is -0.9360902320787318 with parameters: {'max_depth': 87, 'min_chiled_samples': 118, 'min_chiled_weight': 6, 'learning_rate': 0.17498604532684864, 'colsample_bytree': 1.0, 'sugsample': 1.0, 'lambda_l1': 2.9032844341073516, 'lambda_l2': 0.3886354887015593}.\n"
     ]
    },
    {
     "name": "stdout",
     "output_type": "stream",
     "text": [
      "\n"
     ]
    },
    {
     "name": "stderr",
     "output_type": "stream",
     "text": [
      "[I 2020-04-29 13:04:53,058] Finished trial#140 resulted in value: -0.9357129354482668. Current best value is -0.9360902320787318 with parameters: {'max_depth': 87, 'min_chiled_samples': 118, 'min_chiled_weight': 6, 'learning_rate': 0.17498604532684864, 'colsample_bytree': 1.0, 'sugsample': 1.0, 'lambda_l1': 2.9032844341073516, 'lambda_l2': 0.3886354887015593}.\n"
     ]
    },
    {
     "name": "stdout",
     "output_type": "stream",
     "text": [
      "\n"
     ]
    },
    {
     "name": "stderr",
     "output_type": "stream",
     "text": [
      "[I 2020-04-29 13:07:25,035] Finished trial#141 resulted in value: -0.9360547864413337. Current best value is -0.9360902320787318 with parameters: {'max_depth': 87, 'min_chiled_samples': 118, 'min_chiled_weight': 6, 'learning_rate': 0.17498604532684864, 'colsample_bytree': 1.0, 'sugsample': 1.0, 'lambda_l1': 2.9032844341073516, 'lambda_l2': 0.3886354887015593}.\n"
     ]
    },
    {
     "name": "stdout",
     "output_type": "stream",
     "text": [
      "\n"
     ]
    },
    {
     "name": "stderr",
     "output_type": "stream",
     "text": [
      "[I 2020-04-29 13:08:40,996] Finished trial#142 resulted in value: -0.9357948437507684. Current best value is -0.9360902320787318 with parameters: {'max_depth': 87, 'min_chiled_samples': 118, 'min_chiled_weight': 6, 'learning_rate': 0.17498604532684864, 'colsample_bytree': 1.0, 'sugsample': 1.0, 'lambda_l1': 2.9032844341073516, 'lambda_l2': 0.3886354887015593}.\n"
     ]
    },
    {
     "name": "stdout",
     "output_type": "stream",
     "text": [
      "\n"
     ]
    },
    {
     "name": "stderr",
     "output_type": "stream",
     "text": [
      "[I 2020-04-29 13:09:49,944] Finished trial#143 resulted in value: -0.9356803858760034. Current best value is -0.9360902320787318 with parameters: {'max_depth': 87, 'min_chiled_samples': 118, 'min_chiled_weight': 6, 'learning_rate': 0.17498604532684864, 'colsample_bytree': 1.0, 'sugsample': 1.0, 'lambda_l1': 2.9032844341073516, 'lambda_l2': 0.3886354887015593}.\n"
     ]
    },
    {
     "name": "stdout",
     "output_type": "stream",
     "text": [
      "\n"
     ]
    },
    {
     "name": "stderr",
     "output_type": "stream",
     "text": [
      "[I 2020-04-29 13:11:31,319] Finished trial#144 resulted in value: -0.9357349767615344. Current best value is -0.9360902320787318 with parameters: {'max_depth': 87, 'min_chiled_samples': 118, 'min_chiled_weight': 6, 'learning_rate': 0.17498604532684864, 'colsample_bytree': 1.0, 'sugsample': 1.0, 'lambda_l1': 2.9032844341073516, 'lambda_l2': 0.3886354887015593}.\n"
     ]
    },
    {
     "name": "stdout",
     "output_type": "stream",
     "text": [
      "\n"
     ]
    },
    {
     "name": "stderr",
     "output_type": "stream",
     "text": [
      "[I 2020-04-29 13:12:16,808] Finished trial#145 resulted in value: -0.9358439716078949. Current best value is -0.9360902320787318 with parameters: {'max_depth': 87, 'min_chiled_samples': 118, 'min_chiled_weight': 6, 'learning_rate': 0.17498604532684864, 'colsample_bytree': 1.0, 'sugsample': 1.0, 'lambda_l1': 2.9032844341073516, 'lambda_l2': 0.3886354887015593}.\n"
     ]
    },
    {
     "name": "stdout",
     "output_type": "stream",
     "text": [
      "\n"
     ]
    },
    {
     "name": "stderr",
     "output_type": "stream",
     "text": [
      "[I 2020-04-29 13:13:06,592] Finished trial#146 resulted in value: -0.9357096390078898. Current best value is -0.9360902320787318 with parameters: {'max_depth': 87, 'min_chiled_samples': 118, 'min_chiled_weight': 6, 'learning_rate': 0.17498604532684864, 'colsample_bytree': 1.0, 'sugsample': 1.0, 'lambda_l1': 2.9032844341073516, 'lambda_l2': 0.3886354887015593}.\n"
     ]
    },
    {
     "name": "stdout",
     "output_type": "stream",
     "text": [
      "\n"
     ]
    },
    {
     "name": "stderr",
     "output_type": "stream",
     "text": [
      "[I 2020-04-29 13:14:16,021] Finished trial#147 resulted in value: -0.9358376786264525. Current best value is -0.9360902320787318 with parameters: {'max_depth': 87, 'min_chiled_samples': 118, 'min_chiled_weight': 6, 'learning_rate': 0.17498604532684864, 'colsample_bytree': 1.0, 'sugsample': 1.0, 'lambda_l1': 2.9032844341073516, 'lambda_l2': 0.3886354887015593}.\n"
     ]
    },
    {
     "name": "stdout",
     "output_type": "stream",
     "text": [
      "\n"
     ]
    },
    {
     "name": "stderr",
     "output_type": "stream",
     "text": [
      "[I 2020-04-29 13:15:14,911] Finished trial#148 resulted in value: -0.9355351759674282. Current best value is -0.9360902320787318 with parameters: {'max_depth': 87, 'min_chiled_samples': 118, 'min_chiled_weight': 6, 'learning_rate': 0.17498604532684864, 'colsample_bytree': 1.0, 'sugsample': 1.0, 'lambda_l1': 2.9032844341073516, 'lambda_l2': 0.3886354887015593}.\n"
     ]
    },
    {
     "name": "stdout",
     "output_type": "stream",
     "text": [
      "\n"
     ]
    },
    {
     "name": "stderr",
     "output_type": "stream",
     "text": [
      "[I 2020-04-29 13:16:09,729] Finished trial#149 resulted in value: -0.9354681889656598. Current best value is -0.9360902320787318 with parameters: {'max_depth': 87, 'min_chiled_samples': 118, 'min_chiled_weight': 6, 'learning_rate': 0.17498604532684864, 'colsample_bytree': 1.0, 'sugsample': 1.0, 'lambda_l1': 2.9032844341073516, 'lambda_l2': 0.3886354887015593}.\n"
     ]
    },
    {
     "name": "stdout",
     "output_type": "stream",
     "text": [
      "\n"
     ]
    },
    {
     "name": "stderr",
     "output_type": "stream",
     "text": [
      "[I 2020-04-29 13:17:27,778] Finished trial#150 resulted in value: -0.9338734004677817. Current best value is -0.9360902320787318 with parameters: {'max_depth': 87, 'min_chiled_samples': 118, 'min_chiled_weight': 6, 'learning_rate': 0.17498604532684864, 'colsample_bytree': 1.0, 'sugsample': 1.0, 'lambda_l1': 2.9032844341073516, 'lambda_l2': 0.3886354887015593}.\n"
     ]
    },
    {
     "name": "stdout",
     "output_type": "stream",
     "text": [
      "\n"
     ]
    },
    {
     "name": "stderr",
     "output_type": "stream",
     "text": [
      "[I 2020-04-29 13:19:23,836] Finished trial#151 resulted in value: -0.9358981565413312. Current best value is -0.9360902320787318 with parameters: {'max_depth': 87, 'min_chiled_samples': 118, 'min_chiled_weight': 6, 'learning_rate': 0.17498604532684864, 'colsample_bytree': 1.0, 'sugsample': 1.0, 'lambda_l1': 2.9032844341073516, 'lambda_l2': 0.3886354887015593}.\n"
     ]
    },
    {
     "name": "stdout",
     "output_type": "stream",
     "text": [
      "\n"
     ]
    },
    {
     "name": "stderr",
     "output_type": "stream",
     "text": [
      "[I 2020-04-29 13:20:55,162] Finished trial#152 resulted in value: -0.9358911490308471. Current best value is -0.9360902320787318 with parameters: {'max_depth': 87, 'min_chiled_samples': 118, 'min_chiled_weight': 6, 'learning_rate': 0.17498604532684864, 'colsample_bytree': 1.0, 'sugsample': 1.0, 'lambda_l1': 2.9032844341073516, 'lambda_l2': 0.3886354887015593}.\n"
     ]
    },
    {
     "name": "stdout",
     "output_type": "stream",
     "text": [
      "\n"
     ]
    },
    {
     "name": "stderr",
     "output_type": "stream",
     "text": [
      "[I 2020-04-29 13:22:41,040] Finished trial#153 resulted in value: -0.9358633189238048. Current best value is -0.9360902320787318 with parameters: {'max_depth': 87, 'min_chiled_samples': 118, 'min_chiled_weight': 6, 'learning_rate': 0.17498604532684864, 'colsample_bytree': 1.0, 'sugsample': 1.0, 'lambda_l1': 2.9032844341073516, 'lambda_l2': 0.3886354887015593}.\n"
     ]
    },
    {
     "name": "stdout",
     "output_type": "stream",
     "text": [
      "\n"
     ]
    },
    {
     "name": "stderr",
     "output_type": "stream",
     "text": [
      "[I 2020-04-29 13:23:52,747] Finished trial#154 resulted in value: -0.9358221200464829. Current best value is -0.9360902320787318 with parameters: {'max_depth': 87, 'min_chiled_samples': 118, 'min_chiled_weight': 6, 'learning_rate': 0.17498604532684864, 'colsample_bytree': 1.0, 'sugsample': 1.0, 'lambda_l1': 2.9032844341073516, 'lambda_l2': 0.3886354887015593}.\n"
     ]
    },
    {
     "name": "stdout",
     "output_type": "stream",
     "text": [
      "\n"
     ]
    },
    {
     "name": "stderr",
     "output_type": "stream",
     "text": [
      "[I 2020-04-29 13:25:58,688] Finished trial#155 resulted in value: -0.9357660791529141. Current best value is -0.9360902320787318 with parameters: {'max_depth': 87, 'min_chiled_samples': 118, 'min_chiled_weight': 6, 'learning_rate': 0.17498604532684864, 'colsample_bytree': 1.0, 'sugsample': 1.0, 'lambda_l1': 2.9032844341073516, 'lambda_l2': 0.3886354887015593}.\n"
     ]
    },
    {
     "name": "stdout",
     "output_type": "stream",
     "text": [
      "\n"
     ]
    },
    {
     "name": "stderr",
     "output_type": "stream",
     "text": [
      "[I 2020-04-29 13:27:40,119] Finished trial#156 resulted in value: -0.9361077850947903. Current best value is -0.9361077850947903 with parameters: {'max_depth': 187, 'min_chiled_samples': 147, 'min_chiled_weight': 6, 'learning_rate': 0.23713836611727865, 'colsample_bytree': 1.0, 'sugsample': 1.0, 'lambda_l1': 2.8943680775978597, 'lambda_l2': 1.3727573361886785}.\n"
     ]
    },
    {
     "name": "stdout",
     "output_type": "stream",
     "text": [
      "\n"
     ]
    },
    {
     "name": "stderr",
     "output_type": "stream",
     "text": [
      "[I 2020-04-29 13:28:58,586] Finished trial#157 resulted in value: -0.935842090777663. Current best value is -0.9361077850947903 with parameters: {'max_depth': 187, 'min_chiled_samples': 147, 'min_chiled_weight': 6, 'learning_rate': 0.23713836611727865, 'colsample_bytree': 1.0, 'sugsample': 1.0, 'lambda_l1': 2.8943680775978597, 'lambda_l2': 1.3727573361886785}.\n"
     ]
    },
    {
     "name": "stdout",
     "output_type": "stream",
     "text": [
      "\n"
     ]
    },
    {
     "name": "stderr",
     "output_type": "stream",
     "text": [
      "[I 2020-04-29 13:30:29,111] Finished trial#158 resulted in value: -0.9357770855631333. Current best value is -0.9361077850947903 with parameters: {'max_depth': 187, 'min_chiled_samples': 147, 'min_chiled_weight': 6, 'learning_rate': 0.23713836611727865, 'colsample_bytree': 1.0, 'sugsample': 1.0, 'lambda_l1': 2.8943680775978597, 'lambda_l2': 1.3727573361886785}.\n"
     ]
    },
    {
     "name": "stdout",
     "output_type": "stream",
     "text": [
      "\n"
     ]
    },
    {
     "name": "stderr",
     "output_type": "stream",
     "text": [
      "[I 2020-04-29 13:32:19,445] Finished trial#159 resulted in value: -0.9356589799082499. Current best value is -0.9361077850947903 with parameters: {'max_depth': 187, 'min_chiled_samples': 147, 'min_chiled_weight': 6, 'learning_rate': 0.23713836611727865, 'colsample_bytree': 1.0, 'sugsample': 1.0, 'lambda_l1': 2.8943680775978597, 'lambda_l2': 1.3727573361886785}.\n"
     ]
    },
    {
     "name": "stdout",
     "output_type": "stream",
     "text": [
      "\n"
     ]
    },
    {
     "name": "stderr",
     "output_type": "stream",
     "text": [
      "[I 2020-04-29 13:33:34,400] Finished trial#160 resulted in value: -0.9356735366032993. Current best value is -0.9361077850947903 with parameters: {'max_depth': 187, 'min_chiled_samples': 147, 'min_chiled_weight': 6, 'learning_rate': 0.23713836611727865, 'colsample_bytree': 1.0, 'sugsample': 1.0, 'lambda_l1': 2.8943680775978597, 'lambda_l2': 1.3727573361886785}.\n"
     ]
    },
    {
     "name": "stdout",
     "output_type": "stream",
     "text": [
      "\n"
     ]
    },
    {
     "name": "stderr",
     "output_type": "stream",
     "text": [
      "[I 2020-04-29 13:35:21,812] Finished trial#161 resulted in value: -0.9358215374566682. Current best value is -0.9361077850947903 with parameters: {'max_depth': 187, 'min_chiled_samples': 147, 'min_chiled_weight': 6, 'learning_rate': 0.23713836611727865, 'colsample_bytree': 1.0, 'sugsample': 1.0, 'lambda_l1': 2.8943680775978597, 'lambda_l2': 1.3727573361886785}.\n"
     ]
    },
    {
     "name": "stdout",
     "output_type": "stream",
     "text": [
      "\n"
     ]
    },
    {
     "name": "stderr",
     "output_type": "stream",
     "text": [
      "[I 2020-04-29 13:37:32,785] Finished trial#162 resulted in value: -0.9359315340011409. Current best value is -0.9361077850947903 with parameters: {'max_depth': 187, 'min_chiled_samples': 147, 'min_chiled_weight': 6, 'learning_rate': 0.23713836611727865, 'colsample_bytree': 1.0, 'sugsample': 1.0, 'lambda_l1': 2.8943680775978597, 'lambda_l2': 1.3727573361886785}.\n"
     ]
    },
    {
     "name": "stdout",
     "output_type": "stream",
     "text": [
      "\n"
     ]
    },
    {
     "ename": "KeyboardInterrupt",
     "evalue": "",
     "output_type": "error",
     "traceback": [
      "\u001b[0;31m---------------------------------------------------------------------------\u001b[0m",
      "\u001b[0;31mKeyboardInterrupt\u001b[0m                         Traceback (most recent call last)",
      "\u001b[0;32m<timed exec>\u001b[0m in \u001b[0;36m<module>\u001b[0;34m\u001b[0m\n",
      "\u001b[0;32m/usr/local/lib/python3.6/dist-packages/optuna/study.py\u001b[0m in \u001b[0;36moptimize\u001b[0;34m(self, func, n_trials, timeout, n_jobs, catch, callbacks, gc_after_trial)\u001b[0m\n\u001b[1;32m    259\u001b[0m             \u001b[0;32mif\u001b[0m \u001b[0mn_jobs\u001b[0m \u001b[0;34m==\u001b[0m \u001b[0;36m1\u001b[0m\u001b[0;34m:\u001b[0m\u001b[0;34m\u001b[0m\u001b[0;34m\u001b[0m\u001b[0m\n\u001b[1;32m    260\u001b[0m                 self._optimize_sequential(func, n_trials, timeout, catch, callbacks,\n\u001b[0;32m--> 261\u001b[0;31m                                           gc_after_trial)\n\u001b[0m\u001b[1;32m    262\u001b[0m             \u001b[0;32melse\u001b[0m\u001b[0;34m:\u001b[0m\u001b[0;34m\u001b[0m\u001b[0;34m\u001b[0m\u001b[0m\n\u001b[1;32m    263\u001b[0m                 self._optimize_parallel(func, n_trials, timeout, n_jobs, catch, callbacks,\n",
      "\u001b[0;32m/usr/local/lib/python3.6/dist-packages/optuna/study.py\u001b[0m in \u001b[0;36m_optimize_sequential\u001b[0;34m(self, func, n_trials, timeout, catch, callbacks, gc_after_trial)\u001b[0m\n\u001b[1;32m    441\u001b[0m                     \u001b[0;32mbreak\u001b[0m\u001b[0;34m\u001b[0m\u001b[0;34m\u001b[0m\u001b[0m\n\u001b[1;32m    442\u001b[0m \u001b[0;34m\u001b[0m\u001b[0m\n\u001b[0;32m--> 443\u001b[0;31m             \u001b[0mself\u001b[0m\u001b[0;34m.\u001b[0m\u001b[0m_run_trial_and_callbacks\u001b[0m\u001b[0;34m(\u001b[0m\u001b[0mfunc\u001b[0m\u001b[0;34m,\u001b[0m \u001b[0mcatch\u001b[0m\u001b[0;34m,\u001b[0m \u001b[0mcallbacks\u001b[0m\u001b[0;34m,\u001b[0m \u001b[0mgc_after_trial\u001b[0m\u001b[0;34m)\u001b[0m\u001b[0;34m\u001b[0m\u001b[0;34m\u001b[0m\u001b[0m\n\u001b[0m\u001b[1;32m    444\u001b[0m \u001b[0;34m\u001b[0m\u001b[0m\n\u001b[1;32m    445\u001b[0m     def _optimize_parallel(\n",
      "\u001b[0;32m/usr/local/lib/python3.6/dist-packages/optuna/study.py\u001b[0m in \u001b[0;36m_run_trial_and_callbacks\u001b[0;34m(self, func, catch, callbacks, gc_after_trial)\u001b[0m\n\u001b[1;32m    518\u001b[0m         \u001b[0;31m# type: (...) -> None\u001b[0m\u001b[0;34m\u001b[0m\u001b[0;34m\u001b[0m\u001b[0;34m\u001b[0m\u001b[0m\n\u001b[1;32m    519\u001b[0m \u001b[0;34m\u001b[0m\u001b[0m\n\u001b[0;32m--> 520\u001b[0;31m         \u001b[0mtrial\u001b[0m \u001b[0;34m=\u001b[0m \u001b[0mself\u001b[0m\u001b[0;34m.\u001b[0m\u001b[0m_run_trial\u001b[0m\u001b[0;34m(\u001b[0m\u001b[0mfunc\u001b[0m\u001b[0;34m,\u001b[0m \u001b[0mcatch\u001b[0m\u001b[0;34m,\u001b[0m \u001b[0mgc_after_trial\u001b[0m\u001b[0;34m)\u001b[0m\u001b[0;34m\u001b[0m\u001b[0;34m\u001b[0m\u001b[0m\n\u001b[0m\u001b[1;32m    521\u001b[0m         \u001b[0;32mif\u001b[0m \u001b[0mcallbacks\u001b[0m \u001b[0;32mis\u001b[0m \u001b[0;32mnot\u001b[0m \u001b[0;32mNone\u001b[0m\u001b[0;34m:\u001b[0m\u001b[0;34m\u001b[0m\u001b[0;34m\u001b[0m\u001b[0m\n\u001b[1;32m    522\u001b[0m             \u001b[0mfrozen_trial\u001b[0m \u001b[0;34m=\u001b[0m \u001b[0mself\u001b[0m\u001b[0;34m.\u001b[0m\u001b[0m_storage\u001b[0m\u001b[0;34m.\u001b[0m\u001b[0mget_trial\u001b[0m\u001b[0;34m(\u001b[0m\u001b[0mtrial\u001b[0m\u001b[0;34m.\u001b[0m\u001b[0m_trial_id\u001b[0m\u001b[0;34m)\u001b[0m\u001b[0;34m\u001b[0m\u001b[0;34m\u001b[0m\u001b[0m\n",
      "\u001b[0;32m/usr/local/lib/python3.6/dist-packages/optuna/study.py\u001b[0m in \u001b[0;36m_run_trial\u001b[0;34m(self, func, catch, gc_after_trial)\u001b[0m\n\u001b[1;32m    537\u001b[0m \u001b[0;34m\u001b[0m\u001b[0m\n\u001b[1;32m    538\u001b[0m         \u001b[0;32mtry\u001b[0m\u001b[0;34m:\u001b[0m\u001b[0;34m\u001b[0m\u001b[0;34m\u001b[0m\u001b[0m\n\u001b[0;32m--> 539\u001b[0;31m             \u001b[0mresult\u001b[0m \u001b[0;34m=\u001b[0m \u001b[0mfunc\u001b[0m\u001b[0;34m(\u001b[0m\u001b[0mtrial\u001b[0m\u001b[0;34m)\u001b[0m\u001b[0;34m\u001b[0m\u001b[0;34m\u001b[0m\u001b[0m\n\u001b[0m\u001b[1;32m    540\u001b[0m         \u001b[0;32mexcept\u001b[0m \u001b[0mexceptions\u001b[0m\u001b[0;34m.\u001b[0m\u001b[0mTrialPruned\u001b[0m \u001b[0;32mas\u001b[0m \u001b[0me\u001b[0m\u001b[0;34m:\u001b[0m\u001b[0;34m\u001b[0m\u001b[0;34m\u001b[0m\u001b[0m\n\u001b[1;32m    541\u001b[0m             message = 'Setting status of trial#{} as {}. {}'.format(trial_number,\n",
      "\u001b[0;32m<ipython-input-43-06281914bdc0>\u001b[0m in \u001b[0;36mobjective\u001b[0;34m(trial)\u001b[0m\n\u001b[1;32m     25\u001b[0m               \u001b[0meval_set\u001b[0m\u001b[0;34m=\u001b[0m\u001b[0;34m[\u001b[0m\u001b[0;34m(\u001b[0m\u001b[0mX_train\u001b[0m\u001b[0;34m,\u001b[0m \u001b[0my_train\u001b[0m\u001b[0;34m)\u001b[0m\u001b[0;34m,\u001b[0m \u001b[0;34m(\u001b[0m\u001b[0mX_valid\u001b[0m\u001b[0;34m,\u001b[0m \u001b[0my_valid\u001b[0m\u001b[0;34m)\u001b[0m\u001b[0;34m]\u001b[0m\u001b[0;34m,\u001b[0m\u001b[0;34m\u001b[0m\u001b[0;34m\u001b[0m\u001b[0m\n\u001b[1;32m     26\u001b[0m               \u001b[0mverbose\u001b[0m\u001b[0;34m=\u001b[0m\u001b[0;36m0\u001b[0m\u001b[0;34m,\u001b[0m\u001b[0;34m\u001b[0m\u001b[0;34m\u001b[0m\u001b[0m\n\u001b[0;32m---> 27\u001b[0;31m               \u001b[0mearly_stopping_rounds\u001b[0m\u001b[0;34m=\u001b[0m\u001b[0mEARLY_STOPPING_ROUNDS\u001b[0m\u001b[0;34m\u001b[0m\u001b[0;34m\u001b[0m\u001b[0m\n\u001b[0m\u001b[1;32m     28\u001b[0m              )\n\u001b[1;32m     29\u001b[0m \u001b[0;34m\u001b[0m\u001b[0m\n",
      "\u001b[0;32m/usr/local/lib/python3.6/dist-packages/lightgbm/sklearn.py\u001b[0m in \u001b[0;36mfit\u001b[0;34m(self, X, y, sample_weight, init_score, eval_set, eval_names, eval_sample_weight, eval_init_score, eval_metric, early_stopping_rounds, verbose, feature_name, categorical_feature, callbacks)\u001b[0m\n\u001b[1;32m    736\u001b[0m                                        \u001b[0mverbose\u001b[0m\u001b[0;34m=\u001b[0m\u001b[0mverbose\u001b[0m\u001b[0;34m,\u001b[0m \u001b[0mfeature_name\u001b[0m\u001b[0;34m=\u001b[0m\u001b[0mfeature_name\u001b[0m\u001b[0;34m,\u001b[0m\u001b[0;34m\u001b[0m\u001b[0;34m\u001b[0m\u001b[0m\n\u001b[1;32m    737\u001b[0m                                        \u001b[0mcategorical_feature\u001b[0m\u001b[0;34m=\u001b[0m\u001b[0mcategorical_feature\u001b[0m\u001b[0;34m,\u001b[0m\u001b[0;34m\u001b[0m\u001b[0;34m\u001b[0m\u001b[0m\n\u001b[0;32m--> 738\u001b[0;31m                                        callbacks=callbacks)\n\u001b[0m\u001b[1;32m    739\u001b[0m         \u001b[0;32mreturn\u001b[0m \u001b[0mself\u001b[0m\u001b[0;34m\u001b[0m\u001b[0;34m\u001b[0m\u001b[0m\n\u001b[1;32m    740\u001b[0m \u001b[0;34m\u001b[0m\u001b[0m\n",
      "\u001b[0;32m/usr/local/lib/python3.6/dist-packages/lightgbm/sklearn.py\u001b[0m in \u001b[0;36mfit\u001b[0;34m(self, X, y, sample_weight, init_score, group, eval_set, eval_names, eval_sample_weight, eval_class_weight, eval_init_score, eval_group, eval_metric, early_stopping_rounds, verbose, feature_name, categorical_feature, callbacks)\u001b[0m\n\u001b[1;32m    593\u001b[0m                               \u001b[0mverbose_eval\u001b[0m\u001b[0;34m=\u001b[0m\u001b[0mverbose\u001b[0m\u001b[0;34m,\u001b[0m \u001b[0mfeature_name\u001b[0m\u001b[0;34m=\u001b[0m\u001b[0mfeature_name\u001b[0m\u001b[0;34m,\u001b[0m\u001b[0;34m\u001b[0m\u001b[0;34m\u001b[0m\u001b[0m\n\u001b[1;32m    594\u001b[0m                               \u001b[0mcategorical_feature\u001b[0m\u001b[0;34m=\u001b[0m\u001b[0mcategorical_feature\u001b[0m\u001b[0;34m,\u001b[0m\u001b[0;34m\u001b[0m\u001b[0;34m\u001b[0m\u001b[0m\n\u001b[0;32m--> 595\u001b[0;31m                               callbacks=callbacks)\n\u001b[0m\u001b[1;32m    596\u001b[0m \u001b[0;34m\u001b[0m\u001b[0m\n\u001b[1;32m    597\u001b[0m         \u001b[0;32mif\u001b[0m \u001b[0mevals_result\u001b[0m\u001b[0;34m:\u001b[0m\u001b[0;34m\u001b[0m\u001b[0;34m\u001b[0m\u001b[0m\n",
      "\u001b[0;32m/usr/local/lib/python3.6/dist-packages/lightgbm/engine.py\u001b[0m in \u001b[0;36mtrain\u001b[0;34m(params, train_set, num_boost_round, valid_sets, valid_names, fobj, feval, init_model, feature_name, categorical_feature, early_stopping_rounds, evals_result, verbose_eval, learning_rates, keep_training_booster, callbacks)\u001b[0m\n\u001b[1;32m    247\u001b[0m                                     evaluation_result_list=None))\n\u001b[1;32m    248\u001b[0m \u001b[0;34m\u001b[0m\u001b[0m\n\u001b[0;32m--> 249\u001b[0;31m         \u001b[0mbooster\u001b[0m\u001b[0;34m.\u001b[0m\u001b[0mupdate\u001b[0m\u001b[0;34m(\u001b[0m\u001b[0mfobj\u001b[0m\u001b[0;34m=\u001b[0m\u001b[0mfobj\u001b[0m\u001b[0;34m)\u001b[0m\u001b[0;34m\u001b[0m\u001b[0;34m\u001b[0m\u001b[0m\n\u001b[0m\u001b[1;32m    250\u001b[0m \u001b[0;34m\u001b[0m\u001b[0m\n\u001b[1;32m    251\u001b[0m         \u001b[0mevaluation_result_list\u001b[0m \u001b[0;34m=\u001b[0m \u001b[0;34m[\u001b[0m\u001b[0;34m]\u001b[0m\u001b[0;34m\u001b[0m\u001b[0;34m\u001b[0m\u001b[0m\n",
      "\u001b[0;32m/usr/local/lib/python3.6/dist-packages/lightgbm/basic.py\u001b[0m in \u001b[0;36mupdate\u001b[0;34m(self, train_set, fobj)\u001b[0m\n\u001b[1;32m   1924\u001b[0m             _safe_call(_LIB.LGBM_BoosterUpdateOneIter(\n\u001b[1;32m   1925\u001b[0m                 \u001b[0mself\u001b[0m\u001b[0;34m.\u001b[0m\u001b[0mhandle\u001b[0m\u001b[0;34m,\u001b[0m\u001b[0;34m\u001b[0m\u001b[0;34m\u001b[0m\u001b[0m\n\u001b[0;32m-> 1926\u001b[0;31m                 ctypes.byref(is_finished)))\n\u001b[0m\u001b[1;32m   1927\u001b[0m             \u001b[0mself\u001b[0m\u001b[0;34m.\u001b[0m\u001b[0m__is_predicted_cur_iter\u001b[0m \u001b[0;34m=\u001b[0m \u001b[0;34m[\u001b[0m\u001b[0;32mFalse\u001b[0m \u001b[0;32mfor\u001b[0m \u001b[0m_\u001b[0m \u001b[0;32min\u001b[0m \u001b[0mrange_\u001b[0m\u001b[0;34m(\u001b[0m\u001b[0mself\u001b[0m\u001b[0;34m.\u001b[0m\u001b[0m__num_dataset\u001b[0m\u001b[0;34m)\u001b[0m\u001b[0;34m]\u001b[0m\u001b[0;34m\u001b[0m\u001b[0;34m\u001b[0m\u001b[0m\n\u001b[1;32m   1928\u001b[0m             \u001b[0;32mreturn\u001b[0m \u001b[0mis_finished\u001b[0m\u001b[0;34m.\u001b[0m\u001b[0mvalue\u001b[0m \u001b[0;34m==\u001b[0m \u001b[0;36m1\u001b[0m\u001b[0;34m\u001b[0m\u001b[0;34m\u001b[0m\u001b[0m\n",
      "\u001b[0;31mKeyboardInterrupt\u001b[0m: "
     ]
    }
   ],
   "source": [
    "%%time\n",
    "# パラメータ探索\n",
    "study = optuna.create_study()\n",
    "study.optimize(objective, n_trials=300)"
   ]
  },
  {
   "cell_type": "code",
   "execution_count": 45,
   "metadata": {},
   "outputs": [
    {
     "name": "stdout",
     "output_type": "stream",
     "text": [
      "FrozenTrial(number=156, state=TrialState.COMPLETE, value=-0.9361077850947903, datetime_start=datetime.datetime(2020, 4, 29, 13, 25, 58, 691190), datetime_complete=datetime.datetime(2020, 4, 29, 13, 27, 40, 119116), params={'max_depth': 187, 'min_chiled_samples': 147, 'min_chiled_weight': 6, 'learning_rate': 0.23713836611727865, 'colsample_bytree': 1.0, 'sugsample': 1.0, 'lambda_l1': 2.8943680775978597, 'lambda_l2': 1.3727573361886785}, distributions={'max_depth': IntUniformDistribution(high=200, low=1), 'min_chiled_samples': IntUniformDistribution(high=500, low=5), 'min_chiled_weight': IntUniformDistribution(high=12, low=1), 'learning_rate': LogUniformDistribution(high=0.5, low=0.01), 'colsample_bytree': DiscreteUniformDistribution(high=1, low=0.7, q=0.1), 'sugsample': DiscreteUniformDistribution(high=1, low=0.7, q=0.1), 'lambda_l1': UniformDistribution(high=3.0, low=0.0), 'lambda_l2': UniformDistribution(high=3.0, low=0.0)}, user_attrs={}, system_attrs={'_number': 156}, intermediate_values={}, trial_id=156)\n",
      "\n",
      " best_score = -0.936\n",
      " best_params = {'max_depth': 187, 'min_chiled_samples': 147, 'min_chiled_weight': 6, 'learning_rate': 0.23713836611727865, 'colsample_bytree': 1.0, 'sugsample': 1.0, 'lambda_l1': 2.8943680775978597, 'lambda_l2': 1.3727573361886785}\n"
     ]
    }
   ],
   "source": [
    "print(study.best_trial)\n",
    "print(f'\\n best_score = {study.best_value:.3f}')\n",
    "print(f' best_params = {study.best_params}')"
   ]
  },
  {
   "cell_type": "code",
   "execution_count": null,
   "metadata": {},
   "outputs": [],
   "source": []
  },
  {
   "cell_type": "code",
   "execution_count": null,
   "metadata": {},
   "outputs": [],
   "source": [
    "\n",
    "\n",
    "\n",
    "\n",
    "\n",
    "\n",
    "\n",
    "\n",
    "\n",
    "\n",
    "\n",
    "\n",
    "\n",
    "\n",
    "\n",
    "\n",
    "\n",
    "\n",
    "\n",
    "\n",
    "\n",
    "\n",
    "\n",
    "\n",
    "\n",
    "\n"
   ]
  }
 ],
 "metadata": {
  "kernelspec": {
   "display_name": "Python 3",
   "language": "python",
   "name": "python3"
  },
  "language_info": {
   "codemirror_mode": {
    "name": "ipython",
    "version": 3
   },
   "file_extension": ".py",
   "mimetype": "text/x-python",
   "name": "python",
   "nbconvert_exporter": "python",
   "pygments_lexer": "ipython3",
   "version": "3.6.8"
  },
  "toc-autonumbering": true,
  "toc-showmarkdowntxt": false
 },
 "nbformat": 4,
 "nbformat_minor": 4
}
