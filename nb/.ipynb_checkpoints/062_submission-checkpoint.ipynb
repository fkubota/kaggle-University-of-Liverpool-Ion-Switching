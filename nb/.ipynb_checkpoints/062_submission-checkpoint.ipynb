{
 "cells": [
  {
   "cell_type": "markdown",
   "metadata": {},
   "source": [
    "# Overview\n",
    "- nb055ベース(cv: 0.9391, sub:0.941)\n",
    "- rfc(shallow)\n",
    "- mod_batch7\n",
    "- max_depth: 19\n",
    "- n_fold: 6"
   ]
  },
  {
   "cell_type": "markdown",
   "metadata": {},
   "source": [
    "# Const"
   ]
  },
  {
   "cell_type": "code",
   "execution_count": 14,
   "metadata": {},
   "outputs": [],
   "source": [
    "NB = '062'\n",
    "isSmallSet = False\n",
    "if isSmallSet:\n",
    "    LENGTH = 7000\n",
    "else:\n",
    "    LENGTH = 500_000\n",
    "\n",
    "PATH_TRAIN = './../data/input/train_clean.csv'\n",
    "PATH_TEST = './../data/input/test_clean.csv'\n",
    "PATH_SMPLE_SUB = './../data/input/sample_submission.csv'\n",
    "DIR_OUTPUT = './../data/output/'\n",
    "DIR_OUTPUT_IGNORE = './../data/output_ignore/'\n",
    "cp = ['#f8b195', '#f67280', '#c06c84', '#6c5b7b', '#355c7d']\n",
    "sr = 10*10**3  # 10 kHz"
   ]
  },
  {
   "cell_type": "markdown",
   "metadata": {},
   "source": [
    "# Import everything I need :)"
   ]
  },
  {
   "cell_type": "code",
   "execution_count": 15,
   "metadata": {},
   "outputs": [],
   "source": [
    "import warnings\n",
    "warnings.filterwarnings('ignore')\n",
    "import time\n",
    "import gc\n",
    "import itertools\n",
    "import multiprocessing\n",
    "import numpy as np\n",
    "from scipy import signal\n",
    "# from pykalman import KalmanFilter\n",
    "import pandas as pd\n",
    "import matplotlib.pyplot as plt\n",
    "import seaborn as sns\n",
    "from fastprogress import progress_bar\n",
    "from lightgbm import LGBMRegressor, LGBMClassifier\n",
    "from sklearn.model_selection import KFold, train_test_split, StratifiedKFold\n",
    "from sklearn.metrics import f1_score, mean_absolute_error, confusion_matrix\n",
    "from sklearn.ensemble import RandomForestRegressor, RandomForestClassifier\n",
    "from sklearn.tree import DecisionTreeRegressor\n",
    "from sklearn.pipeline import make_pipeline\n",
    "from sklearn.base import BaseEstimator, TransformerMixin\n",
    "# from sklearn.svm import SVR\n",
    "from sklearn.linear_model import Lasso\n",
    "# from dtreeviz.trees import dtreeviz"
   ]
  },
  {
   "cell_type": "markdown",
   "metadata": {},
   "source": [
    "# My function"
   ]
  },
  {
   "cell_type": "code",
   "execution_count": 16,
   "metadata": {},
   "outputs": [],
   "source": [
    "def f1_macro(true, pred):\n",
    "    return f1_score(true, pred, average='macro')\n",
    "\n",
    "def get_df_batch(df, batch):\n",
    "    idxs = df['batch'] == batch\n",
    "    assert any(idxs), 'そのようなbatchはありません'\n",
    "    return df[idxs]\n",
    "\n",
    "def add_category(train, test):\n",
    "    train[\"category\"] = 0\n",
    "    test[\"category\"] = 0\n",
    "    \n",
    "    # train segments with more then 9 open channels classes\n",
    "    train.loc[2_000_000:2_500_000-1, 'category'] = 1\n",
    "    train.loc[4_500_000:5_000_000-1, 'category'] = 1\n",
    "    \n",
    "    # test segments with more then 9 open channels classes (potentially)\n",
    "    test.loc[500_000:600_000-1, \"category\"] = 1\n",
    "    test.loc[700_000:800_000-1, \"category\"] = 1\n",
    "    \n",
    "    return train, test\n",
    "    \n",
    "def get_signal_mv_mean(df, n=3001):\n",
    "    signal_mv = np.zeros(len(df))\n",
    "    for bt in df['batch'].unique():\n",
    "        idxs = df['batch'] == bt\n",
    "        _signal_mv = df['signal'][idxs].rolling(n, center=True).mean().interpolate('spline', order=5, limit_direction='both').values\n",
    "        signal_mv[idxs] = _signal_mv\n",
    "    return signal_mv\n",
    "\n",
    "def get_signal_mv_std(df, n=3001):\n",
    "    signal_mv = np.zeros(len(df))\n",
    "    for bt in df['batch'].unique():\n",
    "        idxs = df['batch'] == bt\n",
    "        _signal_mv = df['signal'][idxs].rolling(n, center=True).std().interpolate('spline', order=5, limit_direction='both').values\n",
    "        signal_mv[idxs] = _signal_mv\n",
    "    return signal_mv\n",
    "\n",
    "def get_signal_mv_min(df, n=3001):\n",
    "    signal_mv = np.zeros(len(df))\n",
    "    for bt in df['batch'].unique():\n",
    "        idxs = df['batch'] == bt\n",
    "        _signal_mv = df['signal'][idxs].rolling(n, center=True).min().interpolate('spline', order=5, limit_direction='both').values\n",
    "        signal_mv[idxs] = _signal_mv\n",
    "    return signal_mv\n",
    "\n",
    "def get_signal_mv_max(df, n=3001):\n",
    "    signal_mv = np.zeros(len(df))\n",
    "    for bt in df['batch'].unique():\n",
    "        idxs = df['batch'] == bt\n",
    "        _signal_mv = df['signal'][idxs].rolling(n, center=True).max().interpolate('spline', order=5, limit_direction='both').values\n",
    "        signal_mv[idxs] = _signal_mv\n",
    "    return signal_mv\n",
    "\n",
    "def calc_shifted(s, add_minus=False, fill_value=None, periods=range(1, 4)):\n",
    "    s = pd.DataFrame(s)\n",
    "    _periods = periods\n",
    "    add_minus = True\n",
    "\n",
    "    periods = np.asarray(_periods, dtype=np.int32)\n",
    "\n",
    "    if add_minus:\n",
    "        periods = np.append(periods, -periods)\n",
    "\n",
    "    for p in progress_bar(periods):\n",
    "        s[f\"signal_shifted_{p}\"] = s['signal'].shift(\n",
    "            periods=p, fill_value=fill_value\n",
    "        )\n",
    "\n",
    "    cols = [col for col in s.columns if 'shifted' in col]\n",
    "    return s[cols]\n",
    "\n",
    "\n",
    "\n",
    "def group_feat_train(_train):\n",
    "    train = _train.copy()\n",
    "    # group init\n",
    "    train['group'] = int(0)\n",
    "\n",
    "    # group 1\n",
    "    idxs = (train['batch'] == 3) | (train['batch'] == 7)\n",
    "    train['group'][idxs] = int(1)\n",
    "\n",
    "    # group 2\n",
    "    idxs = (train['batch'] == 5) | (train['batch'] == 8)\n",
    "    train['group'][idxs] = int(2)\n",
    "\n",
    "    # group 3\n",
    "    idxs = (train['batch'] == 2) | (train['batch'] == 6)\n",
    "    train['group'][idxs] = int(3)\n",
    "\n",
    "    # group 4\n",
    "    idxs = (train['batch'] == 4) | (train['batch'] == 9)\n",
    "    train['group'][idxs] = int(4)\n",
    "    \n",
    "    return train[['group']]\n",
    "\n",
    "def group_feat_test(_test):\n",
    "    test = _test.copy()\n",
    "    # group init\n",
    "    test['group'] = int(0)\n",
    "    x_idx = np.arange(len(test))\n",
    "\n",
    "    # group 1\n",
    "    idxs = (100000<=x_idx) & (x_idx<200000)\n",
    "    test['group'][idxs] = int(1)\n",
    "    idxs = (900000<=x_idx) & (x_idx<=1000000)\n",
    "    test['group'][idxs] = int(1)\n",
    "\n",
    "    # group 2\n",
    "    idxs = (200000<=x_idx) & (x_idx<300000)\n",
    "    test['group'][idxs] = int(2)\n",
    "    idxs = (600000<=x_idx) & (x_idx<700000)\n",
    "    test['group'][idxs] = int(2)\n",
    "\n",
    "    # group 3\n",
    "    idxs = (400000<=x_idx) & (x_idx<500000)\n",
    "    test['group'][idxs] = int(3)\n",
    "\n",
    "    # group 4\n",
    "    idxs = (500000<=x_idx) & (x_idx<600000)\n",
    "    test['group'][idxs] = int(4)\n",
    "    idxs = (700000<=x_idx) & (x_idx<800000)\n",
    "    test['group'][idxs] = int(4)\n",
    "    \n",
    "    return test[['group']]\n",
    "\n",
    "\n",
    "class permutation_importance():\n",
    "    def __init__(self, model, metric):\n",
    "        self.is_computed = False\n",
    "        self.n_feat = 0\n",
    "        self.base_score = 0\n",
    "        self.model = model\n",
    "        self.metric = metric\n",
    "        self.df_result = []\n",
    "    \n",
    "    def compute(self, X_valid, y_valid):\n",
    "        self.n_feat = len(X_valid.columns)\n",
    "        if self.metric == 'auc':\n",
    "            y_valid_score = self.model.predict_proba(X_valid)[:, 1]\n",
    "            fpr, tpr, thresholds = roc_curve(y_valid, y_valid_score)\n",
    "            self.base_score = auc(fpr, tpr)\n",
    "        else:\n",
    "            pred = np.round(self.model.predict(X_valid)).astype('int8')\n",
    "            self.base_score = self.metric(y_valid, pred)\n",
    "        self.df_result = pd.DataFrame({'feat': X_valid.columns, \n",
    "                                       'score': np.zeros(self.n_feat),\n",
    "                                       'score_diff': np.zeros(self.n_feat)})\n",
    "        \n",
    "        # predict\n",
    "        for i, col in enumerate(X_valid.columns):\n",
    "            df_perm = X_valid.copy()\n",
    "            np.random.seed(1)\n",
    "            df_perm[col] = np.random.permutation(df_perm[col])\n",
    "            y_valid_pred = self.model.predict(df_perm)\n",
    "            if self.metric == 'auc':\n",
    "                y_valid_score = self.model.predict_proba(df_perm)[:, 1]\n",
    "                fpr, tpr, thresholds = roc_curve(y_valid, y_valid_score)\n",
    "                score = auc(fpr, tpr)\n",
    "            else:\n",
    "                score = self.metric(y_valid, np.round(y_valid_pred).astype('int8'))\n",
    "            self.df_result['score'][self.df_result['feat']==col] = score\n",
    "            self.df_result['score_diff'][self.df_result['feat']==col] = self.base_score - score\n",
    "        self.is_computed = True\n",
    "    \n",
    "    def get_negative_feature(self):\n",
    "        assert self.is_computed!=False, 'compute メソッドが実行されていません'\n",
    "        idx = self.df_result['score_diff'] < 0\n",
    "        return self.df_result.loc[idx, 'feat'].values.tolist()\n",
    "        \n",
    "    def get_positive_feature(self):\n",
    "        assert self.is_computed!=False, 'compute メソッドが実行されていません'\n",
    "        idx = self.df_result['score_diff'] > 0\n",
    "        return self.df_result.loc[idx, 'feat'].values.tolist()\n",
    "    \n",
    "    def show_permutation_importance(self, score_type='loss'):\n",
    "        '''score_type = 'loss' or 'accuracy'  '''\n",
    "        assert self.is_computed!=False, 'compute メソッドが実行されていません'\n",
    "        if score_type=='loss':\n",
    "            ascending = True\n",
    "        elif score_type=='accuracy':\n",
    "            ascending = False\n",
    "        else:\n",
    "            ascending = ''\n",
    "        \n",
    "        plt.figure(figsize=(15, int(0.25*self.n_feat)))\n",
    "        sns.barplot(x=\"score_diff\", y=\"feat\", data=self.df_result.sort_values(by=\"score_diff\", ascending=ascending))\n",
    "        plt.title('base_score - permutation_score')\n",
    "\n",
    "def plot_corr(df, abs_=False, threshold=0.95):\n",
    "    if abs_==True:\n",
    "        corr = df.corr().abs()>threshold\n",
    "        vmin = 0\n",
    "    else:\n",
    "        corr = df.corr()\n",
    "        vmin = -1\n",
    "\n",
    "    # Plot\n",
    "    fig, ax = plt.subplots(figsize=(12, 10), dpi=100)\n",
    "    fig.patch.set_facecolor('white')\n",
    "    sns.heatmap(corr,\n",
    "                xticklabels=df.corr().columns,\n",
    "                yticklabels=df.corr().columns,\n",
    "                vmin=vmin,\n",
    "                vmax=1,\n",
    "                center=0, \n",
    "                annot=False)\n",
    "\n",
    "    # Decorations\n",
    "    ax.set_title('Correlation', fontsize=22)\n",
    "\n",
    "def get_low_corr_column(df, threshold):\n",
    "\n",
    "    df_corr = df.corr()\n",
    "    df_corr = abs(df_corr)\n",
    "    columns = df_corr.columns\n",
    "\n",
    "    # 対角線の値を0にする\n",
    "    for i in range(0, len(columns)):\n",
    "        df_corr.iloc[i, i] = 0\n",
    "\n",
    "    while True:\n",
    "        columns = df_corr.columns\n",
    "        max_corr = 0.0\n",
    "        query_column = None\n",
    "        target_column = None\n",
    "\n",
    "        df_max_column_value = df_corr.max()\n",
    "        max_corr = df_max_column_value.max()\n",
    "        query_column = df_max_column_value.idxmax()\n",
    "        target_column = df_corr[query_column].idxmax()\n",
    "\n",
    "        if max_corr < threshold:\n",
    "            # しきい値を超えるものがなかったため終了\n",
    "            break\n",
    "        else:\n",
    "            # しきい値を超えるものがあった場合\n",
    "            delete_column = None\n",
    "            saved_column = None\n",
    "\n",
    "            # その他との相関の絶対値が大きい方を除去\n",
    "            if sum(df_corr[query_column]) <= sum(df_corr[target_column]):\n",
    "                delete_column = target_column\n",
    "                saved_column = query_column\n",
    "            else:\n",
    "                delete_column = query_column\n",
    "                saved_column = target_column\n",
    "\n",
    "            # 除去すべき特徴を相関行列から消す（行、列）\n",
    "            df_corr.drop([delete_column], axis=0, inplace=True)\n",
    "            df_corr.drop([delete_column], axis=1, inplace=True)\n",
    "\n",
    "    return df_corr.columns  # 相関が高い特徴量を除いた名前リスト\n",
    "\n",
    "def reduce_mem_usage(df, verbose=True):\n",
    "    numerics = ['int16', 'int32', 'int64', 'float16', 'float32', 'float64']\n",
    "    start_mem = df.memory_usage().sum() / 1024**2    \n",
    "    for col in df.columns:\n",
    "        if col!='open_channels':\n",
    "            col_type = df[col].dtypes\n",
    "            if col_type in numerics:\n",
    "                c_min = df[col].min()\n",
    "                c_max = df[col].max()\n",
    "                if str(col_type)[:3] == 'int':\n",
    "                    if c_min > np.iinfo(np.int8).min and c_max < np.iinfo(np.int8).max:\n",
    "                        df[col] = df[col].astype(np.int8)\n",
    "                    elif c_min > np.iinfo(np.int16).min and c_max < np.iinfo(np.int16).max:\n",
    "                        df[col] = df[col].astype(np.int16)\n",
    "                    elif c_min > np.iinfo(np.int32).min and c_max < np.iinfo(np.int32).max:\n",
    "                        df[col] = df[col].astype(np.int32)\n",
    "                    elif c_min > np.iinfo(np.int64).min and c_max < np.iinfo(np.int64).max:\n",
    "                        df[col] = df[col].astype(np.int64)  \n",
    "                else:\n",
    "                    if c_min > np.finfo(np.float16).min and c_max < np.finfo(np.float16).max:\n",
    "                        df[col] = df[col].astype(np.float16)\n",
    "                    elif c_min > np.finfo(np.float32).min and c_max < np.finfo(np.float32).max:\n",
    "                        df[col] = df[col].astype(np.float32)\n",
    "                    else:\n",
    "                        df[col] = df[col].astype(np.float64)    \n",
    "    end_mem = df.memory_usage().sum() / 1024**2\n",
    "    if verbose: print('Mem. usage decreased to {:5.2f} Mb ({:.1f}% reduction)'.format(end_mem, 100 * (start_mem - end_mem) / start_mem))\n",
    "    return df\n",
    "\n",
    "def plot_confusion_matrix(truth, pred, classes, normalize=False, title=''):\n",
    "    cm = confusion_matrix(truth, pred)\n",
    "    if normalize:\n",
    "        cm = cm.astype('float') / cm.sum(axis=1)[:, np.newaxis]\n",
    "    \n",
    "    plt.figure(figsize=(10, 10))\n",
    "    plt.imshow(cm, interpolation='nearest', cmap=plt.cm.Blues)\n",
    "    plt.title('Confusion matrix', size=15)\n",
    "    plt.colorbar(fraction=0.046, pad=0.04)\n",
    "    tick_marks = np.arange(len(classes))\n",
    "    plt.xticks(tick_marks, classes, rotation=45)\n",
    "    plt.yticks(tick_marks, classes)\n",
    "\n",
    "    fmt = '.2f' if normalize else 'd'\n",
    "    thresh = cm.max() / 2.\n",
    "    for i, j in itertools.product(range(cm.shape[0]), range(cm.shape[1])):\n",
    "        plt.text(j, i, format(cm[i, j], fmt),\n",
    "                 horizontalalignment=\"center\",\n",
    "                 color=\"white\" if cm[i, j] > thresh else \"black\")\n",
    "\n",
    "    plt.ylabel('True label')\n",
    "    plt.xlabel('Predicted label')\n",
    "    plt.grid(False)\n",
    "    plt.tight_layout()\n",
    "\n",
    "def create_signal_mod(train):\n",
    "    left = 3641000\n",
    "    right = 3829000\n",
    "    thresh_dict = {\n",
    "        3: [0.1, 2.0],\n",
    "        2: [-1.1, 0.7],\n",
    "        1: [-2.3, -0.6],\n",
    "        0: [-3.8, -2],\n",
    "    }\n",
    "    \n",
    "    train['signal'] = train['signal'].values\n",
    "    for ch in train[train['batch']==7]['open_channels'].unique():\n",
    "        idxs_noisy = (train['open_channels']==ch) & (left<train.index) & (train.index<right)\n",
    "        idxs_not_noisy = (train['open_channels']==ch) & ~idxs_noisy\n",
    "        mean = train[idxs_not_noisy]['signal'].mean()\n",
    "\n",
    "        idxs_outlier = idxs_noisy & (thresh_dict[ch][1]<train['signal'].values)\n",
    "        train['signal'][idxs_outlier]  = mean\n",
    "        idxs_outlier = idxs_noisy & (train['signal'].values<thresh_dict[ch][0])\n",
    "        train['signal'][idxs_outlier]  = mean\n",
    "    return train\n",
    "\n",
    "def create_signal_mod2(train):\n",
    "    left = 3641000\n",
    "    right = 3829000\n",
    "    thresh_dict = {\n",
    "        3: [0.1, 2.0],\n",
    "        2: [-1.1, 0.7],\n",
    "        1: [-2.3, -0.6],\n",
    "        0: [-3.8, -2],\n",
    "    }\n",
    "    \n",
    "    train['signal'] = train['signal'].values\n",
    "    for ch in train[train['batch']==7]['open_channels'].unique():\n",
    "        idxs_noisy = (train['open_channels']==ch) & (left<train.index) & (train.index<right)\n",
    "        idxs_not_noisy = (train['open_channels']==ch) & ~idxs_noisy\n",
    "        mean = train[idxs_not_noisy]['signal'].mean()\n",
    "        std = train[idxs_not_noisy]['signal'].std()\n",
    "\n",
    "        idxs_outlier = idxs_noisy & (thresh_dict[ch][1]<train['signal'].values)\n",
    "        noise = np.random.normal(loc=0, scale=std, size=len(train['signal'].values[idxs_outlier]))\n",
    "        train['signal'][idxs_outlier]  = mean + noise\n",
    "        idxs_outlier = idxs_noisy & (train['signal'].values<thresh_dict[ch][0])\n",
    "        noise = np.random.normal(loc=0, scale=std, size=len(train['signal'].values[idxs_outlier]))\n",
    "        train['signal'][idxs_outlier]  = mean + noise\n",
    "    return train"
   ]
  },
  {
   "cell_type": "code",
   "execution_count": 17,
   "metadata": {},
   "outputs": [],
   "source": [
    "def train_lgbm(X, y, X_te, lgbm_params, random_state=5, n_fold=5, verbose=50, early_stopping_rounds=100, show_fig=True):\n",
    "    # using features\n",
    "    print(f'features({len(X.columns)}): \\n{X.columns}') if not verbose==0 else None\n",
    "\n",
    "#     folds = KFold(n_splits=n_fold, shuffle=True, random_state=random_state)\n",
    "    folds = StratifiedKFold(n_splits=n_fold, shuffle=True, random_state=random_state)\n",
    "\n",
    "    scores = []\n",
    "    oof = np.zeros(len(X))\n",
    "    oof_round = np.zeros(len(X))\n",
    "    test_pred = np.zeros(len(X_te))\n",
    "    df_pi = pd.DataFrame(columns=['feat', 'score_diff'])\n",
    "    for fold_n, (train_idx, valid_idx) in enumerate(folds.split(X, y=y)):\n",
    "        if  verbose==0:\n",
    "            pass\n",
    "        else:\n",
    "            print('\\n------------------')\n",
    "            print(f'- Fold {fold_n + 1}/{N_FOLD} started at {time.ctime()}')\n",
    "\n",
    "        # prepare dataset\n",
    "        X_train, X_valid = X.iloc[train_idx], X.iloc[valid_idx]\n",
    "        y_train, y_valid = y[train_idx], y[valid_idx]\n",
    "\n",
    "        # train\n",
    "        model = LGBMRegressor(**lgbm_params)\n",
    "        model.fit(X_train, y_train,\n",
    "                  eval_set=[(X_train, y_train), (X_valid, y_valid)],\n",
    "                  verbose=verbose,\n",
    "                  early_stopping_rounds=early_stopping_rounds)\n",
    "\n",
    "        # pred\n",
    "        y_valid_pred = model.predict(X_valid, model.best_iteration_)\n",
    "        y_valid_pred_round = np.round(y_valid_pred).astype('int8')\n",
    "        _test_pred = model.predict(X_te, model.best_iteration_)\n",
    "\n",
    "        if show_fig==False:\n",
    "            pass\n",
    "        else:\n",
    "            # permutation importance\n",
    "            pi = permutation_importance(model, f1_macro) # model と metric を渡す\n",
    "            pi.compute(X_valid, y_valid)\n",
    "            pi_result = pi.df_result\n",
    "            df_pi = pd.concat([df_pi, pi_result[['feat', 'score_diff']]])\n",
    "\n",
    "        # result\n",
    "        oof[valid_idx] = y_valid_pred\n",
    "        oof_round[valid_idx] = y_valid_pred_round\n",
    "        score = f1_score(y_valid, y_valid_pred_round, average='macro')\n",
    "        scores.append(score)\n",
    "        test_pred += _test_pred\n",
    "        if verbose==0:\n",
    "            pass\n",
    "        else:\n",
    "            print(f'---> f1-score(macro) valid: {f1_score(y_valid, y_valid_pred_round, average=\"macro\"):.4f}')\n",
    "            print('')\n",
    "\n",
    "\n",
    "    print('====== finish ======')\n",
    "    print('score list:', scores)\n",
    "    print('CV mean score(f1_macro): {0:.4f}, std: {1:.4f}'.format(np.mean(scores), np.std(scores)))\n",
    "    print(f'oof score(f1_macro): {f1_score(y, oof_round, average=\"macro\"):.4f}')\n",
    "    print('')\n",
    "\n",
    "\n",
    "    if show_fig==False:\n",
    "        pass\n",
    "    else:\n",
    "        # visualization\n",
    "        plt.figure(figsize=(5, 5))\n",
    "        plt.plot([0, 10], [0, 10], color='gray')\n",
    "        plt.scatter(y, oof, alpha=0.05, color=cp[1])\n",
    "        plt.xlabel('true')\n",
    "        plt.ylabel('pred')\n",
    "        plt.show()\n",
    "          \n",
    "        # confusion_matrix\n",
    "        plot_confusion_matrix(y, oof_round, classes=np.arange(11))\n",
    "        \n",
    "        \n",
    "        # permutation importance\n",
    "        plt.figure(figsize=(15, int(0.25*len(X.columns))))\n",
    "        order = df_pi.groupby([\"feat\"]).mean()['score_diff'].reset_index().sort_values('score_diff', ascending=False)\n",
    "        sns.barplot(x=\"score_diff\", y=\"feat\", data=df_pi, order=order['feat'])\n",
    "        plt.title('base_score - permutation_score')\n",
    "        plt.show()\n",
    "\n",
    "    # submission\n",
    "    test_pred = test_pred/N_FOLD\n",
    "    test_pred_round = np.round(test_pred).astype('int8')\n",
    "      \n",
    "    return test_pred_round, test_pred, oof_round, oof, type(model).__name__"
   ]
  },
  {
   "cell_type": "code",
   "execution_count": 18,
   "metadata": {},
   "outputs": [],
   "source": [
    "def train_test_split_lgbm(X, y, X_te, lgbm_params, random_state=5, test_size=0.3, verbose=50, early_stopping_rounds=100, show_fig=True):\n",
    "    # using features\n",
    "    print(f'features({len(X.columns)}): \\n{X.columns}') if not verbose==0 else None\n",
    "\n",
    "#     folds = KFold(n_splits=n_fold, shuffle=True, random_state=random_state)\n",
    "#     folds = StratifiedKFold(n_splits=n_fold, shuffle=True, random_state=random_state)\n",
    "    \n",
    "    # prepare dataset\n",
    "    X_train, X_valid, y_train, y_valid = train_test_split(X, y, test_size=test_size, random_state=random_state)\n",
    "\n",
    "    # train\n",
    "    model = LGBMRegressor(**lgbm_params, n_estimators=N_ESTIMATORS)\n",
    "    model.fit(X_train, y_train,\n",
    "              eval_set=[(X_train, y_train), (X_valid, y_valid)],\n",
    "              verbose=verbose,\n",
    "              early_stopping_rounds=early_stopping_rounds)\n",
    "\n",
    "    # pred\n",
    "    oof = model.predict(X_valid, model.best_iteration_)\n",
    "    oof_round = np.round(oof).astype('int8')\n",
    "    test_pred = model.predict(X_te, model.best_iteration_)\n",
    "    test_pred_round = np.round(test_pred).astype('int8')\n",
    "\n",
    "    print('====== finish ======')\n",
    "    print(f'oof score(f1_macro): {f1_score(y_valid, oof_round, average=\"macro\"):.4f}')\n",
    "    print('')\n",
    "\n",
    "\n",
    "    if show_fig==False:\n",
    "        pass\n",
    "    else:\n",
    "        # visualization\n",
    "        plt.figure(figsize=(5, 5))\n",
    "        plt.plot([0, 10], [0, 10], color='gray')\n",
    "        plt.scatter(y_valid, oof, alpha=0.05, color=cp[1])\n",
    "        plt.xlabel('true')\n",
    "        plt.ylabel('pred')\n",
    "        plt.show()\n",
    "          \n",
    "        # confusion_matrix\n",
    "        plot_confusion_matrix(y_valid, oof_round, classes=np.arange(11))\n",
    "        \n",
    "        # permutation importance\n",
    "        pi = permutation_importance(model, f1_macro) # model と metric を渡す\n",
    "        pi.compute(X_valid, y_valid)\n",
    "        pi.show_permutation_importance(score_type='accuracy')  # loss or accuracy\n",
    "        plt.show()\n",
    "\n",
    "    return test_pred_round, test_pred, oof_round, oof, type(model).__name__"
   ]
  },
  {
   "cell_type": "code",
   "execution_count": 19,
   "metadata": {},
   "outputs": [],
   "source": [
    "def train_rfc(X, y, X_te, rfc_params, random_state=5, n_fold=5, verbose=2, show_fig=True):\n",
    "    # using features\n",
    "    print(f'features({len(X.columns)}): \\n{X.columns}') if not verbose==0 else None\n",
    "\n",
    "    folds = StratifiedKFold(n_splits=n_fold, shuffle=True, random_state=random_state)\n",
    "\n",
    "    scores = []\n",
    "    oof_proba = np.zeros([len(X), len(np.unique(y))])\n",
    "    test_proba = np.zeros([len(X_te), len(np.unique(y))])\n",
    "    df_pi = pd.DataFrame(columns=['feat', 'score_diff'])\n",
    "    for fold_n, (train_idx, valid_idx) in enumerate(folds.split(X, y=y)):\n",
    "        if  verbose==0:\n",
    "            pass\n",
    "        else:\n",
    "            print('\\n------------------')\n",
    "            print(f'- Fold {fold_n + 1}/{N_FOLD} started at {time.ctime()}')\n",
    "\n",
    "        # prepare dataset\n",
    "        X_train, X_valid = X.iloc[train_idx], X.iloc[valid_idx]\n",
    "        y_train, y_valid = y[train_idx], y[valid_idx]\n",
    "\n",
    "        # train\n",
    "        model = RandomForestClassifier(**rfc_params, verbose=verbose)\n",
    "        model.fit(X_train, y_train)\n",
    "\n",
    "        # pred\n",
    "        y_valid_pred = model.predict(X_valid)\n",
    "        y_valid_proba = model.predict_proba(X_valid)\n",
    "#         y_valid_pred_round = np.round(y_valid_pred).astype('int8')\n",
    "        _test_pred = model.predict(X_te)\n",
    "        _test_proba = model.predict_proba(X_te)\n",
    "\n",
    "        if show_fig==False:\n",
    "            pass\n",
    "        else:\n",
    "            # permutation importance\n",
    "            pi = permutation_importance(model, f1_macro) # model と metric を渡す\n",
    "            pi.compute(X_valid, y_valid)\n",
    "            pi_result = pi.df_result\n",
    "            df_pi = pd.concat([df_pi, pi_result[['feat', 'score_diff']]])\n",
    "\n",
    "        # result\n",
    "        oof_proba[valid_idx] = y_valid_proba\n",
    "        score = f1_score(y_valid, y_valid_pred, average='macro')\n",
    "        scores.append(score)\n",
    "        test_proba += _test_proba\n",
    "        if verbose==0:\n",
    "            pass\n",
    "        else:\n",
    "            print(f'---> f1-score(macro) valid: {f1_score(y_valid, y_valid_pred, average=\"macro\"):.4f}')\n",
    "            print('')\n",
    "\n",
    "\n",
    "    print('====== finish ======')\n",
    "    oof = np.argmax(oof_proba, axis=1)\n",
    "    print('score list:', scores)\n",
    "    print('CV mean score(f1_macro): {0:.4f}, std: {1:.4f}'.format(np.mean(scores), np.std(scores)))\n",
    "    print(f'oof score(f1_macro): {f1_score(y, oof, average=\"macro\"):.4f}')\n",
    "    print('')\n",
    "\n",
    "\n",
    "    if show_fig==False:\n",
    "        pass\n",
    "    else:\n",
    "        # visualization\n",
    "        plt.figure(figsize=(5, 5))\n",
    "        plt.plot([0, 10], [0, 10], color='gray')\n",
    "        plt.scatter(y, oof, alpha=0.05, color=cp[1])\n",
    "        plt.xlabel('true')\n",
    "        plt.ylabel('pred')\n",
    "        plt.show()\n",
    "          \n",
    "        # confusion_matrix\n",
    "        plot_confusion_matrix(y, oof, classes=np.arange(11))\n",
    "        \n",
    "        \n",
    "        # permutation importance\n",
    "        plt.figure(figsize=(15, int(0.25*len(X.columns))))\n",
    "        order = df_pi.groupby([\"feat\"]).mean()['score_diff'].reset_index().sort_values('score_diff', ascending=False)\n",
    "        sns.barplot(x=\"score_diff\", y=\"feat\", data=df_pi, order=order['feat'])\n",
    "        plt.title('base_score - permutation_score')\n",
    "        plt.show()\n",
    "\n",
    "    # submission\n",
    "    test_proba = test_proba/N_FOLD \n",
    "    test_pred = np.argmax(test_proba, axis=1)\n",
    "#     oof_pred = np.argmax(oof_proba, axis=1)\n",
    "      \n",
    "    return test_pred, test_proba, oof, oof_proba, type(model).__name__"
   ]
  },
  {
   "cell_type": "code",
   "execution_count": 20,
   "metadata": {},
   "outputs": [],
   "source": [
    "def train_lgbm_clf(X, y, X_te, lgbm_params, random_state=5, n_fold=5, verbose=50, early_stopping_rounds=100, show_fig=True):\n",
    "    # using features\n",
    "    print(f'features({len(X.columns)}): \\n{X.columns}') if not verbose==0 else None\n",
    "\n",
    "    folds = StratifiedKFold(n_splits=n_fold, shuffle=True, random_state=random_state)\n",
    "\n",
    "    scores = []\n",
    "    oof_proba = np.zeros([len(X), len(np.unique(y))])\n",
    "    test_proba = np.zeros([len(X_te), len(np.unique(y))])\n",
    "    df_pi = pd.DataFrame(columns=['feat', 'score_diff'])\n",
    "    for fold_n, (train_idx, valid_idx) in enumerate(folds.split(X, y=y)):\n",
    "        if  verbose==0:\n",
    "            pass\n",
    "        else:\n",
    "            print('\\n------------------')\n",
    "            print(f'- Fold {fold_n + 1}/{N_FOLD} started at {time.ctime()}')\n",
    "\n",
    "        # prepare dataset\n",
    "        X_train, X_valid = X.iloc[train_idx], X.iloc[valid_idx]\n",
    "        y_train, y_valid = y[train_idx], y[valid_idx]\n",
    "\n",
    "        # train\n",
    "        model = LGBMClassifier(**lgbm_params)\n",
    "        model.fit(X_train, y_train,\n",
    "                  eval_set=[(X_train, y_train), (X_valid, y_valid)],\n",
    "                  verbose=verbose,\n",
    "                  early_stopping_rounds=early_stopping_rounds)\n",
    "\n",
    "        # pred\n",
    "#         y_valid_pred = model.predict(X_valid, model.best_iteration_)\n",
    "        y_valid_proba = model.predict_proba(X_valid, num_iteration=model.best_iteration_)\n",
    "        y_valid_pred = np.argmax(y_valid_proba, axis=1)\n",
    "#         _test_pred = model.predict(X_te, model.best_iteration_)\n",
    "        _test_proba = model.predict_proba(X_te, num_iteration=model.best_iteration_)\n",
    "        _test_pred = np.argmax(_test_proba, axis=1)\n",
    "\n",
    "        if show_fig==False:\n",
    "            pass\n",
    "        else:\n",
    "            # permutation importance\n",
    "            pi = permutation_importance(model, f1_macro) # model と metric を渡す\n",
    "            pi.compute(X_valid, y_valid)\n",
    "            pi_result = pi.df_result\n",
    "            df_pi = pd.concat([df_pi, pi_result[['feat', 'score_diff']]])\n",
    "\n",
    "        # result\n",
    "        oof_proba[valid_idx] = y_valid_proba\n",
    "        score = f1_score(y_valid, y_valid_pred, average='macro')\n",
    "        scores.append(score)\n",
    "        test_proba += _test_proba\n",
    "        if verbose==0:\n",
    "            pass\n",
    "        else:\n",
    "            print(f'---> f1-score(macro) valid: {f1_score(y_valid, y_valid_pred, average=\"macro\"):.4f}')\n",
    "            print('')\n",
    "\n",
    "\n",
    "    print('====== finish ======')\n",
    "    oof = np.argmax(oof_proba, axis=1)\n",
    "    print('score list:', scores)\n",
    "    print('CV mean score(f1_macro): {0:.4f}, std: {1:.4f}'.format(np.mean(scores), np.std(scores)))\n",
    "    print(f'oof score(f1_macro): {f1_score(y, oof, average=\"macro\"):.4f}')\n",
    "    print('')\n",
    "\n",
    "\n",
    "    if show_fig==False:\n",
    "        pass\n",
    "    else:\n",
    "        # visualization\n",
    "        plt.figure(figsize=(5, 5))\n",
    "        plt.plot([0, 10], [0, 10], color='gray')\n",
    "        plt.scatter(y, oof, alpha=0.05, color=cp[1])\n",
    "        plt.xlabel('true')\n",
    "        plt.ylabel('pred')\n",
    "        plt.show()\n",
    "          \n",
    "        # confusion_matrix\n",
    "        plot_confusion_matrix(y, oof, classes=np.arange(11))\n",
    "        \n",
    "        \n",
    "        # permutation importance\n",
    "        plt.figure(figsize=(15, int(0.25*len(X.columns))))\n",
    "        order = df_pi.groupby([\"feat\"]).mean()['score_diff'].reset_index().sort_values('score_diff', ascending=False)\n",
    "        sns.barplot(x=\"score_diff\", y=\"feat\", data=df_pi, order=order['feat'])\n",
    "        plt.title('base_score - permutation_score')\n",
    "        plt.show()\n",
    "\n",
    "    # submission\n",
    "    test_proba = test_proba/N_FOLD \n",
    "    test_pred = np.argmax(test_proba, axis=1)\n",
    "#     oof_pred = np.argmax(oof_proba, axis=1)\n",
    "      \n",
    "    return test_pred, test_proba, oof, oof_proba, type(model).__name__"
   ]
  },
  {
   "cell_type": "markdown",
   "metadata": {},
   "source": [
    "<br>\n",
    "\n",
    "ref: https://www.kaggle.com/martxelo/fe-and-ensemble-mlp-and-lgbm"
   ]
  },
  {
   "cell_type": "code",
   "execution_count": 21,
   "metadata": {},
   "outputs": [],
   "source": [
    "def calc_gradients(s, n_grads=4):\n",
    "    '''\n",
    "    Calculate gradients for a pandas series. Returns the same number of samples\n",
    "    '''\n",
    "    grads = pd.DataFrame()\n",
    "    \n",
    "    g = s.values\n",
    "    for i in range(n_grads):\n",
    "        g = np.gradient(g)\n",
    "        grads['grad_' + str(i+1)] = g\n",
    "        \n",
    "    return grads\n",
    "\n",
    "\n",
    "def calc_low_pass(s, n_filts=10):\n",
    "    '''\n",
    "    Applies low pass filters to the signal. Left delayed and no delayed\n",
    "    '''\n",
    "    wns = np.logspace(-2, -0.3, n_filts)\n",
    "#     wns = [0.3244]\n",
    "    \n",
    "    low_pass = pd.DataFrame()\n",
    "    x = s.values\n",
    "    for wn in wns:\n",
    "        b, a = signal.butter(1, Wn=wn, btype='low')\n",
    "        zi = signal.lfilter_zi(b, a)\n",
    "        low_pass['lowpass_lf_' + str('%.4f' %wn)] = signal.lfilter(b, a, x, zi=zi*x[0])[0]\n",
    "        low_pass['lowpass_ff_' + str('%.4f' %wn)] = signal.filtfilt(b, a, x)\n",
    "        \n",
    "    return low_pass\n",
    "\n",
    "def calc_high_pass(s, n_filts=10):\n",
    "    '''\n",
    "    Applies high pass filters to the signal. Left delayed and no delayed\n",
    "    '''\n",
    "    wns = np.logspace(-2, -0.1, n_filts)\n",
    "#     wns = [0.0100, 0.0264, 0.0699, 0.3005, 0.4885, 0.7943]\n",
    "    \n",
    "    high_pass = pd.DataFrame()\n",
    "    x = s.values\n",
    "    for wn in wns:\n",
    "        b, a = signal.butter(1, Wn=wn, btype='high')\n",
    "        zi = signal.lfilter_zi(b, a)\n",
    "        high_pass['highpass_lf_' + str('%.4f' %wn)] = signal.lfilter(b, a, x, zi=zi*x[0])[0]\n",
    "        high_pass['highpass_ff_' + str('%.4f' %wn)] = signal.filtfilt(b, a, x)\n",
    "        \n",
    "    return high_pass\n",
    "\n",
    "def calc_roll_stats(s, windows=[10, 50, 100, 500, 1000, 3000]):\n",
    "    '''\n",
    "    Calculates rolling stats like mean, std, min, max...\n",
    "    '''\n",
    "    roll_stats = pd.DataFrame()\n",
    "    for w in windows:\n",
    "        roll_stats['roll_mean_' + str(w)] = s.rolling(window=w, min_periods=1).mean().interpolate('spline', order=5, limit_direction='both')\n",
    "        roll_stats['roll_std_' + str(w)] = s.rolling(window=w, min_periods=1).std().interpolate('spline', order=5, limit_direction='both')\n",
    "        roll_stats['roll_min_' + str(w)] = s.rolling(window=w, min_periods=1).min().interpolate('spline', order=5, limit_direction='both')\n",
    "        roll_stats['roll_max_' + str(w)] = s.rolling(window=w, min_periods=1).max().interpolate('spline', order=5, limit_direction='both')\n",
    "        roll_stats['roll_range_' + str(w)] = roll_stats['roll_max_' + str(w)] - roll_stats['roll_min_' + str(w)]\n",
    "        roll_stats['roll_q10_' + str(w)] = s.rolling(window=w, min_periods=1).quantile(0.10).interpolate('spline', order=5, limit_direction='both')\n",
    "        roll_stats['roll_q25_' + str(w)] = s.rolling(window=w, min_periods=1).quantile(0.25).interpolate('spline', order=5, limit_direction='both')\n",
    "        roll_stats['roll_q50_' + str(w)] = s.rolling(window=w, min_periods=1).quantile(0.50).interpolate('spline', order=5, limit_direction='both')\n",
    "        roll_stats['roll_q75_' + str(w)] = s.rolling(window=w, min_periods=1).quantile(0.75).interpolate('spline', order=5, limit_direction='both')\n",
    "        roll_stats['roll_q90_' + str(w)] = s.rolling(window=w, min_periods=1).quantile(0.90).interpolate('spline', order=5, limit_direction='both')\n",
    "    \n",
    "    # add zeros when na values (std)\n",
    "#     roll_stats = roll_stats.fillna(value=0)\n",
    "             \n",
    "    return roll_stats\n",
    "\n",
    "def calc_ewm(s, windows=[10, 50, 100, 500, 1000, 3000]):\n",
    "    '''\n",
    "    Calculates exponential weighted functions\n",
    "    '''\n",
    "    ewm = pd.DataFrame()\n",
    "    for w in windows:\n",
    "        ewm['ewm_mean_' + str(w)] = s.ewm(span=w, min_periods=1).mean()\n",
    "        ewm['ewm_std_' + str(w)] = s.ewm(span=w, min_periods=1).std()\n",
    "        \n",
    "    # add zeros when na values (std)\n",
    "    ewm = ewm.fillna(value=0)\n",
    "        \n",
    "    return ewm\n",
    "\n",
    "\n",
    "\n",
    "def divide_and_add_features(s, signal_size=500000):\n",
    "    '''\n",
    "    Divide the signal in bags of \"signal_size\".\n",
    "    Normalize the data dividing it by 15.0\n",
    "    '''\n",
    "    # normalize\n",
    "    s = s/15.0\n",
    "    \n",
    "    ls = []\n",
    "    for i in progress_bar(range(int(s.shape[0]/signal_size))):\n",
    "        sig = s[i*signal_size:(i+1)*signal_size].copy().reset_index(drop=True)\n",
    "        sig_featured = add_features(sig)\n",
    "        ls.append(sig_featured)\n",
    "    \n",
    "    return pd.concat(ls, axis=0)"
   ]
  },
  {
   "cell_type": "markdown",
   "metadata": {},
   "source": [
    "<br>\n",
    "\n",
    "ref: https://www.kaggle.com/nxrprime/single-model-lgbm-kalman-filter-ii"
   ]
  },
  {
   "cell_type": "code",
   "execution_count": 22,
   "metadata": {},
   "outputs": [],
   "source": [
    "def Kalman1D(observations,damping=1):\n",
    "    # To return the smoothed time series data\n",
    "    observation_covariance = damping\n",
    "    initial_value_guess = observations[0]\n",
    "    transition_matrix = 1\n",
    "    transition_covariance = 0.1\n",
    "    initial_value_guess\n",
    "    kf = KalmanFilter(\n",
    "            initial_state_mean=initial_value_guess,\n",
    "            initial_state_covariance=observation_covariance,\n",
    "            observation_covariance=observation_covariance,\n",
    "            transition_covariance=transition_covariance,\n",
    "            transition_matrices=transition_matrix\n",
    "        )\n",
    "    pred_state, state_cov = kf.smooth(observations)\n",
    "    return pred_state"
   ]
  },
  {
   "cell_type": "markdown",
   "metadata": {},
   "source": [
    "# Preparation"
   ]
  },
  {
   "cell_type": "markdown",
   "metadata": {},
   "source": [
    "setting"
   ]
  },
  {
   "cell_type": "code",
   "execution_count": 23,
   "metadata": {},
   "outputs": [],
   "source": [
    "sns.set()"
   ]
  },
  {
   "cell_type": "markdown",
   "metadata": {},
   "source": [
    "<br>\n",
    "\n",
    "load dataset"
   ]
  },
  {
   "cell_type": "code",
   "execution_count": 24,
   "metadata": {},
   "outputs": [],
   "source": [
    "df_tr = pd.read_csv(PATH_TRAIN)\n",
    "df_te = pd.read_csv(PATH_TEST)"
   ]
  },
  {
   "cell_type": "markdown",
   "metadata": {},
   "source": [
    "<br>\n",
    "\n",
    "処理のしやすさのために、バッチ番号を振る"
   ]
  },
  {
   "cell_type": "code",
   "execution_count": 25,
   "metadata": {},
   "outputs": [],
   "source": [
    "batch_list = []\n",
    "for n in range(10):\n",
    "    batchs = np.ones(500000)*n\n",
    "    batch_list.append(batchs.astype(int))\n",
    "batch_list = np.hstack(batch_list)\n",
    "df_tr['batch'] = batch_list\n",
    "\n",
    "batch_list = []\n",
    "for n in range(4):\n",
    "    batchs = np.ones(500000)*n\n",
    "    batch_list.append(batchs.astype(int))\n",
    "batch_list = np.hstack(batch_list)\n",
    "df_te['batch'] = batch_list"
   ]
  },
  {
   "cell_type": "markdown",
   "metadata": {},
   "source": [
    "<br>\n",
    "\n",
    "group 特徴量"
   ]
  },
  {
   "cell_type": "code",
   "execution_count": 26,
   "metadata": {},
   "outputs": [],
   "source": [
    "# group 特徴量を作成\n",
    "group = group_feat_train(df_tr)\n",
    "df_tr = pd.concat([df_tr, group], axis=1)\n",
    "\n",
    "group = group_feat_test(df_te)\n",
    "df_te = pd.concat([df_te, group], axis=1)\n",
    "\n",
    "if isSmallSet:\n",
    "    df_te['group'][1000:2000] = 1\n",
    "    df_te['group'][2000:3000] = 2\n",
    "    df_te['group'][3000:4000] = 3\n",
    "    df_te['group'][4000:5000] = 4"
   ]
  },
  {
   "cell_type": "markdown",
   "metadata": {},
   "source": [
    "<br>\n",
    "\n",
    "group4にオフセットをかける"
   ]
  },
  {
   "cell_type": "code",
   "execution_count": 27,
   "metadata": {},
   "outputs": [],
   "source": [
    "# --- train ---\n",
    "off_set_4 = 0.952472 - (-1.766044)\n",
    "off_set_9 = 0.952472 - (-1.770441)\n",
    "# batch4\n",
    "idxs = df_tr['batch'] == 4\n",
    "df_tr['signal'][idxs] = df_tr['signal'].values + off_set_4\n",
    "# batch9\n",
    "idxs = df_tr['batch'] == 9\n",
    "df_tr['signal'][idxs] = df_tr['signal'].values + off_set_9\n",
    "\n",
    "# --- test ---\n",
    "off_set_test = 2.750\n",
    "df_te['signal'] = df_te['signal'].values\n",
    "idxs = df_te['group'] == 4\n",
    "df_te['signal'][idxs] = df_te['signal'][idxs].values + off_set_test"
   ]
  },
  {
   "cell_type": "markdown",
   "metadata": {},
   "source": [
    "<br>\n",
    "\n",
    "batch7のスパイク処理"
   ]
  },
  {
   "cell_type": "code",
   "execution_count": 28,
   "metadata": {},
   "outputs": [],
   "source": [
    "df_tr = create_signal_mod2(df_tr)"
   ]
  },
  {
   "cell_type": "markdown",
   "metadata": {},
   "source": [
    "<br>\n",
    "\n",
    "smallset?"
   ]
  },
  {
   "cell_type": "code",
   "execution_count": 29,
   "metadata": {},
   "outputs": [],
   "source": [
    "if isSmallSet:\n",
    "    print('small set mode')\n",
    "    # train\n",
    "    batchs = df_tr['batch'].values\n",
    "    dfs = []\n",
    "    for i_bt, bt in enumerate(df_tr['batch'].unique()):\n",
    "        idxs = batchs == bt\n",
    "        _df = df_tr[idxs][:LENGTH].copy()\n",
    "        dfs.append(_df)\n",
    "    df_tr = pd.concat(dfs).reset_index(drop=True)\n",
    "    \n",
    "    # test\n",
    "    batchs = df_te['batch'].values\n",
    "    dfs = []\n",
    "    for i_bt, bt in enumerate(df_te['batch'].unique()):\n",
    "        idxs = batchs == bt\n",
    "        _df = df_te[idxs][:LENGTH].copy()\n",
    "        dfs.append(_df)\n",
    "    df_te = pd.concat(dfs).reset_index(drop=True)"
   ]
  },
  {
   "cell_type": "markdown",
   "metadata": {},
   "source": [
    "# Train"
   ]
  },
  {
   "cell_type": "code",
   "execution_count": 30,
   "metadata": {},
   "outputs": [],
   "source": [
    "def add_features(s):\n",
    "    '''\n",
    "    All calculations together\n",
    "    '''\n",
    "    feat_list = [s]\n",
    "#     feat_list.append(calc_gradients(s))\n",
    "#     feat_list.append(calc_low_pass(s))\n",
    "#     feat_list.append(calc_high_pass(s))\n",
    "#     feat_list.append(calc_roll_stats(s))\n",
    "#     feat_list.append(calc_ewm(s))\n",
    "    feat_list.append(calc_shifted(s, fill_value=0, periods=range(1, 20)))\n",
    "    \n",
    "    return pd.concat(feat_list, axis=1)"
   ]
  },
  {
   "cell_type": "code",
   "execution_count": 31,
   "metadata": {},
   "outputs": [
    {
     "name": "stdout",
     "output_type": "stream",
     "text": [
      "train start Fri May 15 08:36:28 2020\n"
     ]
    },
    {
     "data": {
      "text/html": [
       "\n",
       "    <div>\n",
       "        <style>\n",
       "            /* Turns off some styling */\n",
       "            progress {\n",
       "                /* gets rid of default border in Firefox and Opera. */\n",
       "                border: none;\n",
       "                /* Needs to be in here for Safari polyfill so background images work as expected. */\n",
       "                background-size: auto;\n",
       "            }\n",
       "            .progress-bar-interrupted, .progress-bar-interrupted::-webkit-progress-bar {\n",
       "                background: #F44336;\n",
       "            }\n",
       "        </style>\n",
       "      <progress value='10' class='' max='10', style='width:300px; height:20px; vertical-align: middle;'></progress>\n",
       "      100.00% [10/10 00:03<00:00]\n",
       "    </div>\n",
       "    "
      ],
      "text/plain": [
       "<IPython.core.display.HTML object>"
      ]
     },
     "metadata": {},
     "output_type": "display_data"
    },
    {
     "data": {
      "text/html": [
       "\n",
       "    <div>\n",
       "        <style>\n",
       "            /* Turns off some styling */\n",
       "            progress {\n",
       "                /* gets rid of default border in Firefox and Opera. */\n",
       "                border: none;\n",
       "                /* Needs to be in here for Safari polyfill so background images work as expected. */\n",
       "                background-size: auto;\n",
       "            }\n",
       "            .progress-bar-interrupted, .progress-bar-interrupted::-webkit-progress-bar {\n",
       "                background: #F44336;\n",
       "            }\n",
       "        </style>\n",
       "      <progress value='38' class='' max='38', style='width:300px; height:20px; vertical-align: middle;'></progress>\n",
       "      100.00% [38/38 00:00<00:00]\n",
       "    </div>\n",
       "    "
      ],
      "text/plain": [
       "<IPython.core.display.HTML object>"
      ]
     },
     "metadata": {},
     "output_type": "display_data"
    },
    {
     "data": {
      "text/html": [
       "\n",
       "    <div>\n",
       "        <style>\n",
       "            /* Turns off some styling */\n",
       "            progress {\n",
       "                /* gets rid of default border in Firefox and Opera. */\n",
       "                border: none;\n",
       "                /* Needs to be in here for Safari polyfill so background images work as expected. */\n",
       "                background-size: auto;\n",
       "            }\n",
       "            .progress-bar-interrupted, .progress-bar-interrupted::-webkit-progress-bar {\n",
       "                background: #F44336;\n",
       "            }\n",
       "        </style>\n",
       "      <progress value='38' class='' max='38', style='width:300px; height:20px; vertical-align: middle;'></progress>\n",
       "      100.00% [38/38 00:00<00:00]\n",
       "    </div>\n",
       "    "
      ],
      "text/plain": [
       "<IPython.core.display.HTML object>"
      ]
     },
     "metadata": {},
     "output_type": "display_data"
    },
    {
     "data": {
      "text/html": [
       "\n",
       "    <div>\n",
       "        <style>\n",
       "            /* Turns off some styling */\n",
       "            progress {\n",
       "                /* gets rid of default border in Firefox and Opera. */\n",
       "                border: none;\n",
       "                /* Needs to be in here for Safari polyfill so background images work as expected. */\n",
       "                background-size: auto;\n",
       "            }\n",
       "            .progress-bar-interrupted, .progress-bar-interrupted::-webkit-progress-bar {\n",
       "                background: #F44336;\n",
       "            }\n",
       "        </style>\n",
       "      <progress value='38' class='' max='38', style='width:300px; height:20px; vertical-align: middle;'></progress>\n",
       "      100.00% [38/38 00:00<00:00]\n",
       "    </div>\n",
       "    "
      ],
      "text/plain": [
       "<IPython.core.display.HTML object>"
      ]
     },
     "metadata": {},
     "output_type": "display_data"
    },
    {
     "data": {
      "text/html": [
       "\n",
       "    <div>\n",
       "        <style>\n",
       "            /* Turns off some styling */\n",
       "            progress {\n",
       "                /* gets rid of default border in Firefox and Opera. */\n",
       "                border: none;\n",
       "                /* Needs to be in here for Safari polyfill so background images work as expected. */\n",
       "                background-size: auto;\n",
       "            }\n",
       "            .progress-bar-interrupted, .progress-bar-interrupted::-webkit-progress-bar {\n",
       "                background: #F44336;\n",
       "            }\n",
       "        </style>\n",
       "      <progress value='38' class='' max='38', style='width:300px; height:20px; vertical-align: middle;'></progress>\n",
       "      100.00% [38/38 00:00<00:00]\n",
       "    </div>\n",
       "    "
      ],
      "text/plain": [
       "<IPython.core.display.HTML object>"
      ]
     },
     "metadata": {},
     "output_type": "display_data"
    },
    {
     "data": {
      "text/html": [
       "\n",
       "    <div>\n",
       "        <style>\n",
       "            /* Turns off some styling */\n",
       "            progress {\n",
       "                /* gets rid of default border in Firefox and Opera. */\n",
       "                border: none;\n",
       "                /* Needs to be in here for Safari polyfill so background images work as expected. */\n",
       "                background-size: auto;\n",
       "            }\n",
       "            .progress-bar-interrupted, .progress-bar-interrupted::-webkit-progress-bar {\n",
       "                background: #F44336;\n",
       "            }\n",
       "        </style>\n",
       "      <progress value='38' class='' max='38', style='width:300px; height:20px; vertical-align: middle;'></progress>\n",
       "      100.00% [38/38 00:00<00:00]\n",
       "    </div>\n",
       "    "
      ],
      "text/plain": [
       "<IPython.core.display.HTML object>"
      ]
     },
     "metadata": {},
     "output_type": "display_data"
    },
    {
     "data": {
      "text/html": [
       "\n",
       "    <div>\n",
       "        <style>\n",
       "            /* Turns off some styling */\n",
       "            progress {\n",
       "                /* gets rid of default border in Firefox and Opera. */\n",
       "                border: none;\n",
       "                /* Needs to be in here for Safari polyfill so background images work as expected. */\n",
       "                background-size: auto;\n",
       "            }\n",
       "            .progress-bar-interrupted, .progress-bar-interrupted::-webkit-progress-bar {\n",
       "                background: #F44336;\n",
       "            }\n",
       "        </style>\n",
       "      <progress value='38' class='' max='38', style='width:300px; height:20px; vertical-align: middle;'></progress>\n",
       "      100.00% [38/38 00:00<00:00]\n",
       "    </div>\n",
       "    "
      ],
      "text/plain": [
       "<IPython.core.display.HTML object>"
      ]
     },
     "metadata": {},
     "output_type": "display_data"
    },
    {
     "data": {
      "text/html": [
       "\n",
       "    <div>\n",
       "        <style>\n",
       "            /* Turns off some styling */\n",
       "            progress {\n",
       "                /* gets rid of default border in Firefox and Opera. */\n",
       "                border: none;\n",
       "                /* Needs to be in here for Safari polyfill so background images work as expected. */\n",
       "                background-size: auto;\n",
       "            }\n",
       "            .progress-bar-interrupted, .progress-bar-interrupted::-webkit-progress-bar {\n",
       "                background: #F44336;\n",
       "            }\n",
       "        </style>\n",
       "      <progress value='38' class='' max='38', style='width:300px; height:20px; vertical-align: middle;'></progress>\n",
       "      100.00% [38/38 00:00<00:00]\n",
       "    </div>\n",
       "    "
      ],
      "text/plain": [
       "<IPython.core.display.HTML object>"
      ]
     },
     "metadata": {},
     "output_type": "display_data"
    },
    {
     "data": {
      "text/html": [
       "\n",
       "    <div>\n",
       "        <style>\n",
       "            /* Turns off some styling */\n",
       "            progress {\n",
       "                /* gets rid of default border in Firefox and Opera. */\n",
       "                border: none;\n",
       "                /* Needs to be in here for Safari polyfill so background images work as expected. */\n",
       "                background-size: auto;\n",
       "            }\n",
       "            .progress-bar-interrupted, .progress-bar-interrupted::-webkit-progress-bar {\n",
       "                background: #F44336;\n",
       "            }\n",
       "        </style>\n",
       "      <progress value='38' class='' max='38', style='width:300px; height:20px; vertical-align: middle;'></progress>\n",
       "      100.00% [38/38 00:00<00:00]\n",
       "    </div>\n",
       "    "
      ],
      "text/plain": [
       "<IPython.core.display.HTML object>"
      ]
     },
     "metadata": {},
     "output_type": "display_data"
    },
    {
     "data": {
      "text/html": [
       "\n",
       "    <div>\n",
       "        <style>\n",
       "            /* Turns off some styling */\n",
       "            progress {\n",
       "                /* gets rid of default border in Firefox and Opera. */\n",
       "                border: none;\n",
       "                /* Needs to be in here for Safari polyfill so background images work as expected. */\n",
       "                background-size: auto;\n",
       "            }\n",
       "            .progress-bar-interrupted, .progress-bar-interrupted::-webkit-progress-bar {\n",
       "                background: #F44336;\n",
       "            }\n",
       "        </style>\n",
       "      <progress value='38' class='' max='38', style='width:300px; height:20px; vertical-align: middle;'></progress>\n",
       "      100.00% [38/38 00:00<00:00]\n",
       "    </div>\n",
       "    "
      ],
      "text/plain": [
       "<IPython.core.display.HTML object>"
      ]
     },
     "metadata": {},
     "output_type": "display_data"
    },
    {
     "data": {
      "text/html": [
       "\n",
       "    <div>\n",
       "        <style>\n",
       "            /* Turns off some styling */\n",
       "            progress {\n",
       "                /* gets rid of default border in Firefox and Opera. */\n",
       "                border: none;\n",
       "                /* Needs to be in here for Safari polyfill so background images work as expected. */\n",
       "                background-size: auto;\n",
       "            }\n",
       "            .progress-bar-interrupted, .progress-bar-interrupted::-webkit-progress-bar {\n",
       "                background: #F44336;\n",
       "            }\n",
       "        </style>\n",
       "      <progress value='38' class='' max='38', style='width:300px; height:20px; vertical-align: middle;'></progress>\n",
       "      100.00% [38/38 00:00<00:00]\n",
       "    </div>\n",
       "    "
      ],
      "text/plain": [
       "<IPython.core.display.HTML object>"
      ]
     },
     "metadata": {},
     "output_type": "display_data"
    },
    {
     "name": "stdout",
     "output_type": "stream",
     "text": [
      "test start Fri May 15 08:36:33 2020\n"
     ]
    },
    {
     "data": {
      "text/html": [
       "\n",
       "    <div>\n",
       "        <style>\n",
       "            /* Turns off some styling */\n",
       "            progress {\n",
       "                /* gets rid of default border in Firefox and Opera. */\n",
       "                border: none;\n",
       "                /* Needs to be in here for Safari polyfill so background images work as expected. */\n",
       "                background-size: auto;\n",
       "            }\n",
       "            .progress-bar-interrupted, .progress-bar-interrupted::-webkit-progress-bar {\n",
       "                background: #F44336;\n",
       "            }\n",
       "        </style>\n",
       "      <progress value='4' class='' max='4', style='width:300px; height:20px; vertical-align: middle;'></progress>\n",
       "      100.00% [4/4 00:01<00:00]\n",
       "    </div>\n",
       "    "
      ],
      "text/plain": [
       "<IPython.core.display.HTML object>"
      ]
     },
     "metadata": {},
     "output_type": "display_data"
    },
    {
     "data": {
      "text/html": [
       "\n",
       "    <div>\n",
       "        <style>\n",
       "            /* Turns off some styling */\n",
       "            progress {\n",
       "                /* gets rid of default border in Firefox and Opera. */\n",
       "                border: none;\n",
       "                /* Needs to be in here for Safari polyfill so background images work as expected. */\n",
       "                background-size: auto;\n",
       "            }\n",
       "            .progress-bar-interrupted, .progress-bar-interrupted::-webkit-progress-bar {\n",
       "                background: #F44336;\n",
       "            }\n",
       "        </style>\n",
       "      <progress value='38' class='' max='38', style='width:300px; height:20px; vertical-align: middle;'></progress>\n",
       "      100.00% [38/38 00:00<00:00]\n",
       "    </div>\n",
       "    "
      ],
      "text/plain": [
       "<IPython.core.display.HTML object>"
      ]
     },
     "metadata": {},
     "output_type": "display_data"
    },
    {
     "data": {
      "text/html": [
       "\n",
       "    <div>\n",
       "        <style>\n",
       "            /* Turns off some styling */\n",
       "            progress {\n",
       "                /* gets rid of default border in Firefox and Opera. */\n",
       "                border: none;\n",
       "                /* Needs to be in here for Safari polyfill so background images work as expected. */\n",
       "                background-size: auto;\n",
       "            }\n",
       "            .progress-bar-interrupted, .progress-bar-interrupted::-webkit-progress-bar {\n",
       "                background: #F44336;\n",
       "            }\n",
       "        </style>\n",
       "      <progress value='38' class='' max='38', style='width:300px; height:20px; vertical-align: middle;'></progress>\n",
       "      100.00% [38/38 00:00<00:00]\n",
       "    </div>\n",
       "    "
      ],
      "text/plain": [
       "<IPython.core.display.HTML object>"
      ]
     },
     "metadata": {},
     "output_type": "display_data"
    },
    {
     "data": {
      "text/html": [
       "\n",
       "    <div>\n",
       "        <style>\n",
       "            /* Turns off some styling */\n",
       "            progress {\n",
       "                /* gets rid of default border in Firefox and Opera. */\n",
       "                border: none;\n",
       "                /* Needs to be in here for Safari polyfill so background images work as expected. */\n",
       "                background-size: auto;\n",
       "            }\n",
       "            .progress-bar-interrupted, .progress-bar-interrupted::-webkit-progress-bar {\n",
       "                background: #F44336;\n",
       "            }\n",
       "        </style>\n",
       "      <progress value='38' class='' max='38', style='width:300px; height:20px; vertical-align: middle;'></progress>\n",
       "      100.00% [38/38 00:00<00:00]\n",
       "    </div>\n",
       "    "
      ],
      "text/plain": [
       "<IPython.core.display.HTML object>"
      ]
     },
     "metadata": {},
     "output_type": "display_data"
    },
    {
     "data": {
      "text/html": [
       "\n",
       "    <div>\n",
       "        <style>\n",
       "            /* Turns off some styling */\n",
       "            progress {\n",
       "                /* gets rid of default border in Firefox and Opera. */\n",
       "                border: none;\n",
       "                /* Needs to be in here for Safari polyfill so background images work as expected. */\n",
       "                background-size: auto;\n",
       "            }\n",
       "            .progress-bar-interrupted, .progress-bar-interrupted::-webkit-progress-bar {\n",
       "                background: #F44336;\n",
       "            }\n",
       "        </style>\n",
       "      <progress value='38' class='' max='38', style='width:300px; height:20px; vertical-align: middle;'></progress>\n",
       "      100.00% [38/38 00:00<00:00]\n",
       "    </div>\n",
       "    "
      ],
      "text/plain": [
       "<IPython.core.display.HTML object>"
      ]
     },
     "metadata": {},
     "output_type": "display_data"
    },
    {
     "name": "stdout",
     "output_type": "stream",
     "text": [
      "CPU times: user 3.47 s, sys: 4.17 s, total: 7.64 s\n",
      "Wall time: 7.59 s\n"
     ]
    }
   ],
   "source": [
    "%%time\n",
    "print(f'train start {time.ctime()}')\n",
    "X = divide_and_add_features(df_tr['signal'], signal_size=LENGTH).reset_index(drop=True)\n",
    "# _feats = get_low_corr_column(X, threshold=0.97).to_list()\n",
    "# _feats.append('signal')\n",
    "# X = X[_feats]\n",
    "# X = reduce_mem_usage(X)\n",
    "\n",
    "print(f'test start {time.ctime()}')\n",
    "X_te = divide_and_add_features(df_te['signal'], signal_size=LENGTH).reset_index(drop=True)\n",
    "# X_te = X_te[_feats]\n",
    "# X_te = reduce_mem_usage(X_te)\n",
    "\n",
    "y = df_tr['open_channels'].values"
   ]
  },
  {
   "cell_type": "code",
   "execution_count": 32,
   "metadata": {},
   "outputs": [],
   "source": [
    "X, X_te = add_category(X, X_te)"
   ]
  },
  {
   "cell_type": "markdown",
   "metadata": {},
   "source": [
    "<br>\n",
    "\n",
    "run"
   ]
  },
  {
   "cell_type": "code",
   "execution_count": 36,
   "metadata": {},
   "outputs": [],
   "source": [
    "N_JOBS = 50\n",
    "VERBOSE = -1\n",
    "N_FOLD = 6\n",
    "\n",
    "rfc_params = {\n",
    "    'n_estimators': 150,\n",
    "#     'n_estimators': 50,\n",
    "#     'n_estimators': 20,\n",
    "    'max_depth': 19,\n",
    "#     'max_depth': 50,\n",
    "    'max_features': 10,\n",
    "    'random_state': 42,\n",
    "    'n_jobs': N_JOBS,\n",
    "}"
   ]
  },
  {
   "cell_type": "code",
   "execution_count": 37,
   "metadata": {},
   "outputs": [
    {
     "name": "stdout",
     "output_type": "stream",
     "text": [
      "features(40): \n",
      "Index(['signal', 'signal_shifted_1', 'signal_shifted_2', 'signal_shifted_3',\n",
      "       'signal_shifted_4', 'signal_shifted_5', 'signal_shifted_6',\n",
      "       'signal_shifted_7', 'signal_shifted_8', 'signal_shifted_9',\n",
      "       'signal_shifted_10', 'signal_shifted_11', 'signal_shifted_12',\n",
      "       'signal_shifted_13', 'signal_shifted_14', 'signal_shifted_15',\n",
      "       'signal_shifted_16', 'signal_shifted_17', 'signal_shifted_18',\n",
      "       'signal_shifted_19', 'signal_shifted_-1', 'signal_shifted_-2',\n",
      "       'signal_shifted_-3', 'signal_shifted_-4', 'signal_shifted_-5',\n",
      "       'signal_shifted_-6', 'signal_shifted_-7', 'signal_shifted_-8',\n",
      "       'signal_shifted_-9', 'signal_shifted_-10', 'signal_shifted_-11',\n",
      "       'signal_shifted_-12', 'signal_shifted_-13', 'signal_shifted_-14',\n",
      "       'signal_shifted_-15', 'signal_shifted_-16', 'signal_shifted_-17',\n",
      "       'signal_shifted_-18', 'signal_shifted_-19', 'category'],\n",
      "      dtype='object')\n",
      "\n",
      "------------------\n",
      "- Fold 1/6 started at Fri May 15 08:45:44 2020\n"
     ]
    },
    {
     "name": "stderr",
     "output_type": "stream",
     "text": [
      "[Parallel(n_jobs=50)]: Using backend ThreadingBackend with 50 concurrent workers.\n",
      "[Parallel(n_jobs=50)]: Done 150 out of 150 | elapsed:  7.0min finished\n",
      "[Parallel(n_jobs=50)]: Using backend ThreadingBackend with 50 concurrent workers.\n",
      "[Parallel(n_jobs=50)]: Done 150 out of 150 | elapsed:   20.3s finished\n",
      "[Parallel(n_jobs=50)]: Using backend ThreadingBackend with 50 concurrent workers.\n",
      "[Parallel(n_jobs=50)]: Done 150 out of 150 | elapsed:   21.6s finished\n",
      "[Parallel(n_jobs=50)]: Using backend ThreadingBackend with 50 concurrent workers.\n",
      "[Parallel(n_jobs=50)]: Done 150 out of 150 | elapsed:   32.8s finished\n",
      "[Parallel(n_jobs=50)]: Using backend ThreadingBackend with 50 concurrent workers.\n",
      "[Parallel(n_jobs=50)]: Done 150 out of 150 | elapsed:   34.6s finished\n"
     ]
    },
    {
     "name": "stdout",
     "output_type": "stream",
     "text": [
      "---> f1-score(macro) valid: 0.9391\n",
      "\n",
      "\n",
      "------------------\n",
      "- Fold 2/6 started at Fri May 15 08:55:47 2020\n"
     ]
    },
    {
     "name": "stderr",
     "output_type": "stream",
     "text": [
      "[Parallel(n_jobs=50)]: Using backend ThreadingBackend with 50 concurrent workers.\n",
      "[Parallel(n_jobs=50)]: Done 150 out of 150 | elapsed:  6.8min finished\n",
      "[Parallel(n_jobs=50)]: Using backend ThreadingBackend with 50 concurrent workers.\n",
      "[Parallel(n_jobs=50)]: Done 150 out of 150 | elapsed:   18.5s finished\n",
      "[Parallel(n_jobs=50)]: Using backend ThreadingBackend with 50 concurrent workers.\n",
      "[Parallel(n_jobs=50)]: Done 150 out of 150 | elapsed:   15.9s finished\n",
      "[Parallel(n_jobs=50)]: Using backend ThreadingBackend with 50 concurrent workers.\n",
      "[Parallel(n_jobs=50)]: Done 150 out of 150 | elapsed:   29.0s finished\n",
      "[Parallel(n_jobs=50)]: Using backend ThreadingBackend with 50 concurrent workers.\n",
      "[Parallel(n_jobs=50)]: Done 150 out of 150 | elapsed:   30.9s finished\n"
     ]
    },
    {
     "name": "stdout",
     "output_type": "stream",
     "text": [
      "---> f1-score(macro) valid: 0.9397\n",
      "\n",
      "\n",
      "------------------\n",
      "- Fold 3/6 started at Fri May 15 09:04:58 2020\n"
     ]
    },
    {
     "name": "stderr",
     "output_type": "stream",
     "text": [
      "[Parallel(n_jobs=50)]: Using backend ThreadingBackend with 50 concurrent workers.\n",
      "[Parallel(n_jobs=50)]: Done 150 out of 150 | elapsed:  7.1min finished\n",
      "[Parallel(n_jobs=50)]: Using backend ThreadingBackend with 50 concurrent workers.\n",
      "[Parallel(n_jobs=50)]: Done 150 out of 150 | elapsed:   22.8s finished\n",
      "[Parallel(n_jobs=50)]: Using backend ThreadingBackend with 50 concurrent workers.\n",
      "[Parallel(n_jobs=50)]: Done 150 out of 150 | elapsed:   21.2s finished\n",
      "[Parallel(n_jobs=50)]: Using backend ThreadingBackend with 50 concurrent workers.\n",
      "[Parallel(n_jobs=50)]: Done 150 out of 150 | elapsed:   29.6s finished\n",
      "[Parallel(n_jobs=50)]: Using backend ThreadingBackend with 50 concurrent workers.\n",
      "[Parallel(n_jobs=50)]: Done 150 out of 150 | elapsed:   31.2s finished\n"
     ]
    },
    {
     "name": "stdout",
     "output_type": "stream",
     "text": [
      "---> f1-score(macro) valid: 0.9384\n",
      "\n",
      "\n",
      "------------------\n",
      "- Fold 4/6 started at Fri May 15 09:14:49 2020\n"
     ]
    },
    {
     "name": "stderr",
     "output_type": "stream",
     "text": [
      "[Parallel(n_jobs=50)]: Using backend ThreadingBackend with 50 concurrent workers.\n",
      "[Parallel(n_jobs=50)]: Done 150 out of 150 | elapsed:  6.8min finished\n",
      "[Parallel(n_jobs=50)]: Using backend ThreadingBackend with 50 concurrent workers.\n",
      "[Parallel(n_jobs=50)]: Done 150 out of 150 | elapsed:   13.7s finished\n",
      "[Parallel(n_jobs=50)]: Using backend ThreadingBackend with 50 concurrent workers.\n",
      "[Parallel(n_jobs=50)]: Done 150 out of 150 | elapsed:   14.0s finished\n",
      "[Parallel(n_jobs=50)]: Using backend ThreadingBackend with 50 concurrent workers.\n",
      "[Parallel(n_jobs=50)]: Done 150 out of 150 | elapsed:   25.8s finished\n",
      "[Parallel(n_jobs=50)]: Using backend ThreadingBackend with 50 concurrent workers.\n",
      "[Parallel(n_jobs=50)]: Done 150 out of 150 | elapsed:   33.2s finished\n"
     ]
    },
    {
     "name": "stdout",
     "output_type": "stream",
     "text": [
      "---> f1-score(macro) valid: 0.9382\n",
      "\n",
      "\n",
      "------------------\n",
      "- Fold 5/6 started at Fri May 15 09:23:23 2020\n"
     ]
    },
    {
     "name": "stderr",
     "output_type": "stream",
     "text": [
      "[Parallel(n_jobs=50)]: Using backend ThreadingBackend with 50 concurrent workers.\n",
      "[Parallel(n_jobs=50)]: Done 150 out of 150 | elapsed:  7.0min finished\n",
      "[Parallel(n_jobs=50)]: Using backend ThreadingBackend with 50 concurrent workers.\n",
      "[Parallel(n_jobs=50)]: Done 150 out of 150 | elapsed:   16.5s finished\n",
      "[Parallel(n_jobs=50)]: Using backend ThreadingBackend with 50 concurrent workers.\n",
      "[Parallel(n_jobs=50)]: Done 150 out of 150 | elapsed:   16.5s finished\n",
      "[Parallel(n_jobs=50)]: Using backend ThreadingBackend with 50 concurrent workers.\n",
      "[Parallel(n_jobs=50)]: Done 150 out of 150 | elapsed:   28.2s finished\n",
      "[Parallel(n_jobs=50)]: Using backend ThreadingBackend with 50 concurrent workers.\n",
      "[Parallel(n_jobs=50)]: Done 150 out of 150 | elapsed:   28.2s finished\n"
     ]
    },
    {
     "name": "stdout",
     "output_type": "stream",
     "text": [
      "---> f1-score(macro) valid: 0.9394\n",
      "\n",
      "\n",
      "------------------\n",
      "- Fold 6/6 started at Fri May 15 09:31:56 2020\n"
     ]
    },
    {
     "name": "stderr",
     "output_type": "stream",
     "text": [
      "[Parallel(n_jobs=50)]: Using backend ThreadingBackend with 50 concurrent workers.\n",
      "[Parallel(n_jobs=50)]: Done 150 out of 150 | elapsed:  7.1min finished\n",
      "[Parallel(n_jobs=50)]: Using backend ThreadingBackend with 50 concurrent workers.\n",
      "[Parallel(n_jobs=50)]: Done 150 out of 150 | elapsed:   26.4s finished\n",
      "[Parallel(n_jobs=50)]: Using backend ThreadingBackend with 50 concurrent workers.\n",
      "[Parallel(n_jobs=50)]: Done 150 out of 150 | elapsed:   32.1s finished\n",
      "[Parallel(n_jobs=50)]: Using backend ThreadingBackend with 50 concurrent workers.\n",
      "[Parallel(n_jobs=50)]: Done 150 out of 150 | elapsed:   55.0s finished\n",
      "[Parallel(n_jobs=50)]: Using backend ThreadingBackend with 50 concurrent workers.\n",
      "[Parallel(n_jobs=50)]: Done 150 out of 150 | elapsed:   35.5s finished\n"
     ]
    },
    {
     "name": "stdout",
     "output_type": "stream",
     "text": [
      "---> f1-score(macro) valid: 0.9399\n",
      "\n",
      "====== finish ======\n",
      "score list: [0.9390750273958656, 0.9397307256281419, 0.9383603269097957, 0.9382423459286692, 0.9393630855106714, 0.9398887229429834]\n",
      "CV mean score(f1_macro): 0.9391, std: 0.0006\n",
      "oof score(f1_macro): 0.9391\n",
      "\n",
      "CPU times: user 1d 7h 31min 21s, sys: 2h 48min 2s, total: 1d 10h 19min 23s\n",
      "Wall time: 56min 2s\n"
     ]
    }
   ],
   "source": [
    "%%time\n",
    "# test_pred, test_proba, oof, oof_proba = train_rfc(X.iloc[::20, :], y[::20], X_te, rfc_params, random_state=5, n_fold=N_FOLD, verbose=VERBOSE, show_fig=True)\n",
    "test_pred, test_proba, oof, oof_proba, model_name = train_rfc(X, y, X_te, rfc_params, random_state=5, n_fold=N_FOLD, verbose=VERBOSE, show_fig=False)"
   ]
  },
  {
   "cell_type": "markdown",
   "metadata": {},
   "source": [
    "# save"
   ]
  },
  {
   "cell_type": "markdown",
   "metadata": {},
   "source": [
    "submission"
   ]
  },
  {
   "cell_type": "code",
   "execution_count": 38,
   "metadata": {},
   "outputs": [
    {
     "name": "stdout",
     "output_type": "stream",
     "text": [
      "save path: ./../data/output/submission_nb062_RandomForestClassifier_cv_0.9391.csv\n"
     ]
    }
   ],
   "source": [
    "save_path = f'{DIR_OUTPUT}submission_nb{NB}_{model_name}_cv_{f1_macro(y, oof):.4f}.csv'\n",
    "sub = pd.read_csv(PATH_SMPLE_SUB)\n",
    "# sub['open_channels'] = test_pred\n",
    "sub['open_channels'] = test_pred.astype(int)\n",
    "print(f'save path: {save_path}')"
   ]
  },
  {
   "cell_type": "code",
   "execution_count": 39,
   "metadata": {},
   "outputs": [],
   "source": [
    "sub.to_csv(save_path, index=False, float_format='%.4f')"
   ]
  },
  {
   "cell_type": "markdown",
   "metadata": {},
   "source": [
    "<br>\n",
    "\n",
    "oof proba"
   ]
  },
  {
   "cell_type": "code",
   "execution_count": 40,
   "metadata": {},
   "outputs": [
    {
     "name": "stdout",
     "output_type": "stream",
     "text": [
      "save path: ./../data/output_ignore/probas_nb062_RandomForestClassifier_cv_0.9391\n"
     ]
    }
   ],
   "source": [
    "save_path = f'{DIR_OUTPUT_IGNORE}probas_nb{NB}_{model_name}_cv_{f1_macro(y, oof):.4f}'\n",
    "print(f'save path: {save_path}')"
   ]
  },
  {
   "cell_type": "code",
   "execution_count": 41,
   "metadata": {},
   "outputs": [],
   "source": [
    "np.savez_compressed(save_path, oof_proba, test_proba)"
   ]
  },
  {
   "cell_type": "markdown",
   "metadata": {},
   "source": [
    "# analysis"
   ]
  },
  {
   "cell_type": "markdown",
   "metadata": {},
   "source": [
    "<br>\n",
    "\n",
    "処理のしやすさのために、バッチ番号を振る"
   ]
  },
  {
   "cell_type": "code",
   "execution_count": 42,
   "metadata": {},
   "outputs": [],
   "source": [
    "batch_list = []\n",
    "for n in range(10):\n",
    "    batchs = np.ones(500000)*n\n",
    "    batch_list.append(batchs.astype(int))\n",
    "batch_list = np.hstack(batch_list)\n",
    "X['batch'] = batch_list"
   ]
  },
  {
   "cell_type": "markdown",
   "metadata": {},
   "source": [
    "<br>\n",
    "\n",
    "group 特徴量"
   ]
  },
  {
   "cell_type": "code",
   "execution_count": 43,
   "metadata": {},
   "outputs": [],
   "source": [
    "# group 特徴量を作成\n",
    "group = group_feat_train(X)\n",
    "X = pd.concat([X, group], axis=1)"
   ]
  },
  {
   "cell_type": "code",
   "execution_count": 44,
   "metadata": {},
   "outputs": [
    {
     "name": "stdout",
     "output_type": "stream",
     "text": [
      "group_score(0): 0.999608\n",
      "group_score(1): 0.985496\n",
      "group_score(2): 0.977913\n",
      "group_score(3): 0.997728\n",
      "group_score(4): 0.888448\n"
     ]
    }
   ],
   "source": [
    "for group in sorted(X['group'].unique()):\n",
    "    idxs = X['group'] == group\n",
    "    oof_grp = oof[idxs].astype(int)\n",
    "    y_grp = y[idxs]\n",
    "    print(f'group_score({group}): {f1_score(y_grp, oof_grp, average=\"micro\"):4f}')"
   ]
  },
  {
   "cell_type": "code",
   "execution_count": 45,
   "metadata": {},
   "outputs": [],
   "source": [
    "x_idx = np.arange(len(X))\n",
    "idxs = y != oof\n",
    "\n",
    "failed = np.zeros(len(X))\n",
    "failed[idxs] = 1"
   ]
  },
  {
   "cell_type": "code",
   "execution_count": 46,
   "metadata": {},
   "outputs": [],
   "source": [
    "n = 200\n",
    "b = np.ones(n)/n\n",
    "failed_move = np.convolve(failed, b, mode='same')"
   ]
  },
  {
   "cell_type": "code",
   "execution_count": 47,
   "metadata": {},
   "outputs": [
    {
     "data": {
      "text/plain": [
       "(0, 5500000)"
      ]
     },
     "execution_count": 47,
     "metadata": {},
     "output_type": "execute_result"
    },
    {
     "data": {
      "image/png": "[encoded data removed]",
      "text/plain": [
       "<Figure size 1440x432 with 2 Axes>"
      ]
     },
     "metadata": {},
     "output_type": "display_data"
    }
   ],
   "source": [
    "fig, axs = plt.subplots(2, 1, figsize=(20, 6))\n",
    "axs = axs.ravel()\n",
    "# fig = plt.figure(figsize=(20, 3))\n",
    "\n",
    "for i_gr, group in enumerate(sorted(X['group'].unique())):\n",
    "    idxs = X['group'] == group\n",
    "    axs[0].plot(np.arange(len(X))[idxs], X['signal'].values[idxs], color=cp[i_gr], label=f'group={group}')\n",
    "for x in range(10): \n",
    "    axs[0].axvline(x*500000 + 500000, color='gray') \n",
    "    axs[0].text(x*500000 + 250000, 0.6, x)\n",
    "axs[0].plot(x_idx, failed_move, '.', color='black', label='failed_mv')\n",
    "axs[0].set_xlim(0, 5500000)\n",
    "axs[0].legend()\n",
    "\n",
    "axs[1].plot(x_idx, y)\n",
    "axs[1].set_xlim(0, 5500000)\n",
    "\n",
    "# fig.legend()"
   ]
  },
  {
   "cell_type": "code",
   "execution_count": null,
   "metadata": {},
   "outputs": [],
   "source": []
  },
  {
   "cell_type": "code",
   "execution_count": null,
   "metadata": {},
   "outputs": [],
   "source": []
  },
  {
   "cell_type": "code",
   "execution_count": null,
   "metadata": {},
   "outputs": [],
   "source": []
  },
  {
   "cell_type": "code",
   "execution_count": null,
   "metadata": {},
   "outputs": [],
   "source": []
  },
  {
   "cell_type": "code",
   "execution_count": null,
   "metadata": {},
   "outputs": [],
   "source": [
    "\n",
    "\n",
    "\n",
    "\n",
    "\n",
    "\n",
    "\n",
    "\n",
    "\n",
    "\n",
    "\n",
    "\n",
    "\n",
    "\n",
    "\n",
    "\n",
    "\n",
    "\n",
    "\n",
    "\n",
    "\n",
    "\n",
    "\n",
    "\n",
    "\n",
    "\n"
   ]
  }
 ],
 "metadata": {
  "kernelspec": {
   "display_name": "Python 3",
   "language": "python",
   "name": "python3"
  },
  "language_info": {
   "codemirror_mode": {
    "name": "ipython",
    "version": 3
   },
   "file_extension": ".py",
   "mimetype": "text/x-python",
   "name": "python",
   "nbconvert_exporter": "python",
   "pygments_lexer": "ipython3",
   "version": "3.6.8"
  },
  "toc-autonumbering": true,
  "toc-showmarkdowntxt": false
 },
 "nbformat": 4,
 "nbformat_minor": 4
}
